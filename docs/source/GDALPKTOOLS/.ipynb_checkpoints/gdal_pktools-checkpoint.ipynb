{
 "cells": [
  {
   "cell_type": "markdown",
   "metadata": {},
   "source": [
    "# Use GDAL/OGR and PKTOOLS for raster/vector operations\n",
    "\n",
    "## GDAL commands\n",
    "\n",
    "**Explore the files**\n",
    "\n",
    "Change directory and list all the files with the extension .tif\n",
    "\n",
    "    cd \\$HOME/ost4sem/exercise/geodata_SDM \n",
    "    ls *\\*.tif\n",
    " \n",
    "Retrive the characteristic of the one tif file \n",
    "    \n",
    "\n",
    "\n",
    "Visualize the image\n",
    "\n",
    "    openev vegetation/ETmean08-11.tif\n",
    "\n",
    "Reply to the following questions:\\\n",
    "What is the pixel size?\\\n",
    "How do you get min and max pixel values?\\\n",
    "\n"
   ]
  },
  {
   "cell_type": "code",
   "execution_count": 1,
   "metadata": {},
   "outputs": [
    {
     "name": "stdout",
     "output_type": "stream",
     "text": [
      "ERROR 4: vegetation/ETmean08-11.tif: No such file or directory\r\n",
      "gdalinfo failed - unable to open 'vegetation/ETmean08-11.tif'.\r\n"
     ]
    }
   ],
   "source": [
    "!gdalinfo vegetation/ETmean08-11.tif"
   ]
  },
  {
   "cell_type": "code",
   "execution_count": null,
   "metadata": {},
   "outputs": [],
   "source": []
  }
 ],
 "metadata": {
  "kernelspec": {
   "display_name": "Python 3",
   "language": "python",
   "name": "python3"
  },
  "language_info": {
   "codemirror_mode": {
    "name": "ipython",
    "version": 3
   },
   "file_extension": ".py",
   "mimetype": "text/x-python",
   "name": "python",
   "nbconvert_exporter": "python",
   "pygments_lexer": "ipython3",
   "version": "3.8.5"
  }
 },
 "nbformat": 4,
 "nbformat_minor": 4
}
