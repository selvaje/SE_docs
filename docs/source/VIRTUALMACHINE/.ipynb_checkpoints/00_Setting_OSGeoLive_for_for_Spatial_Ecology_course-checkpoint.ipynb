{
 "cells": [
  {
   "attachments": {},
   "cell_type": "markdown",
   "metadata": {},
   "source": [
    "# Prepare OSGeoLive for Spatial Ecology courses\n",
    "\n",
    "\n",
    "In order to execute the Spatial Ecology exercise we will need first install the OSGeoLive Linux Virtual Machine and then populate with additional software and data.\n",
    "\n",
    "[OSGeoLive](https://live.osgeo.org/en/index.html) is a self-contained bootable DVD, USB thumb drive or Virtual Machine based on Lubuntu, that allows you to try a wide variety of open source geospatial software without installing anything. It is composed entirely of free software, allowing it to be freely distributed, duplicated and passed around. Source https://live.osgeo.org/en/index.html\n",
    "\n",
    "For running a Virtual Machine in your OS we need a virtualization software such as [Virtualbox](https://www.virtualbox.org/) and a vmdk file that contains the virtualized OS.\n",
    "\n",
    "**Install Virtualbox**\n",
    "\n",
    "Open you browser and go to https://www.virtualbox.org/wiki/Downloads and base on your OS download the Virtualbox executable and install it. \n",
    "\n",
    "**Download OSGeoLive**\n",
    "\n",
    "Open you browser and go to https://sourceforge.net/projects/osgeo-live/files/. Proceed with the download of osgeolive-13.0-amd64.vmdk.7z. The osgeolive-13.0-amd64.vmdk.7z is a quite large file therefore according to your Internet connection it can take several hours. When the download is finished unziped. A this point you are ready to load the osgeolive-13.0-amd64.vmdk  inside Virtualbox. \n",
    "\n",
    "**Install OSGeoLive inside Virtualbox**\n",
    "\n",
    "Lunch Virtualbox from OS and follow the below instructions. \n",
    "\n",
    "\n",
    "![title](files/./Installation_vm_osgeo-live13_p0.png)\n",
    "![title](files/Installation_vm_osgeo-live13_p1.png)\n",
    "![title](files/Installation_vm_osgeo-live13_p2.png)\n",
    "![title](files/Installation_vm_osgeo-live13_p3.png)\n",
    "![title](files/Installation_vm_osgeo-live13_p4.png)\n",
    "![title](files/Installation_vm_osgeo-live13_p5.png)\n",
    "![title](files/Installation_vm_osgeo-live13_p6.png)\n",
    "![title](files/Installation_vm_osgeo-live13_p7.png)\n",
    "![title](files/Installation_vm_osgeo-live13_p8.png)\n",
    "![title](files/Installation_vm_osgeo-live13_p9.png)"
   ]
  }
 ],
 "metadata": {
  "kernelspec": {
   "display_name": "Python 3",
   "language": "python",
   "name": "python3"
  },
  "language_info": {
   "codemirror_mode": {
    "name": "ipython",
    "version": 3
   },
   "file_extension": ".py",
   "mimetype": "text/x-python",
   "name": "python",
   "nbconvert_exporter": "python",
   "pygments_lexer": "ipython3",
   "version": "3.8.5"
  }
 },
 "nbformat": 4,
 "nbformat_minor": 4
}
