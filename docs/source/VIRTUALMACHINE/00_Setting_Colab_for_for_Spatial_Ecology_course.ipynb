{
 "cells": [
  {
   "cell_type": "markdown",
   "metadata": {
    "id": "sq1mWu1aQ5E2"
   },
   "source": [
    "# Prepare Colab for Spatial Ecology courses\n",
    "\n",
    "We first mount your own google drive folder and then download the dataset and scripts that will be used during the full course. "
   ]
  },
  {
   "cell_type": "markdown",
   "metadata": {},
   "source": [
    "Get this script from the git repository\n",
    "\n",
    "    wget https://github.com/selvaje/SE_data/blob/main/exercise/00_Setting_Colab_for_for_Spatial_Ecology_course.ipynb\n",
    "\n",
    "Load in Google Colaboratory (File > Upload notebook) and follow the below instruction"
   ]
  },
  {
   "cell_type": "markdown",
   "metadata": {
    "id": "3aZhWk78RjoN"
   },
   "source": [
    "**Mount your own google drive by following the instruction**"
   ]
  },
  {
   "cell_type": "code",
   "execution_count": null,
   "metadata": {
    "colab": {
     "base_uri": "https://localhost:8080/"
    },
    "id": "p4olCy2CC7sD",
    "outputId": "a76bfb6b-4bbd-4d6b-e5bf-f7efdf2bca79"
   },
   "outputs": [
    {
     "name": "stdout",
     "output_type": "stream",
     "text": [
      "Mounted at /gdrive\n"
     ]
    }
   ],
   "source": [
    "from google.colab import drive\n",
    "drive.mount('/gdrive')"
   ]
  },
  {
   "cell_type": "markdown",
   "metadata": {
    "id": "0Khsr1iTR675"
   },
   "source": [
    "List the mounted gdrive. If you have folders and files in you gdrive you should be able to see them"
   ]
  },
  {
   "cell_type": "code",
   "execution_count": null,
   "metadata": {
    "colab": {
     "base_uri": "https://localhost:8080/"
    },
    "id": "zlqSY3qcDcHw",
    "outputId": "2de0893f-9d37-4546-9a80-f321f6806d25"
   },
   "outputs": [
    {
     "name": "stdout",
     "output_type": "stream",
     "text": [
      " CLUSTER_STREAM     GEOING\t\t LANDSCAN   NP_CONUS\t   URBAN\n",
      "'Colab Notebooks'   geomorpho90m_v.1.0\t MERIT_KM   SE_data\n",
      " FLO1K\t\t    GLAD_ARD\t\t NHDplus    share_gmails\n",
      " GDP\t\t    GSHL\t\t NITRO\t    TERRA\n"
     ]
    }
   ],
   "source": [
    "! ls /gdrive/MyDrive"
   ]
  },
  {
   "cell_type": "markdown",
   "metadata": {
    "id": "oB-4BANfDa7B"
   },
   "source": [
    "Download the SE_data folder yousing git\n",
    "\n",
    "First remove the directory if already exist, then enter in the directory."
   ]
  },
  {
   "cell_type": "code",
   "execution_count": null,
   "metadata": {
    "colab": {
     "base_uri": "https://localhost:8080/"
    },
    "id": "89hCSc1ES22L",
    "outputId": "63d2ab68-fcaf-4e8a-8cd9-047a2138c1c4"
   },
   "outputs": [
    {
     "name": "stdout",
     "output_type": "stream",
     "text": [
      "/gdrive/MyDrive\n",
      " \u001b[0m\u001b[01;34mCLUSTER_STREAM\u001b[0m/     \u001b[01;34mGEOING\u001b[0m/               \u001b[01;34mLANDSCAN\u001b[0m/   \u001b[01;34mNP_CONUS\u001b[0m/\n",
      "\u001b[01;34m'Colab Notebooks'\u001b[0m/   \u001b[01;34mgeomorpho90m_v.1.0\u001b[0m/   \u001b[01;34mMERIT_KM\u001b[0m/   \u001b[01;34mshare_gmails\u001b[0m/\n",
      " \u001b[01;34mFLO1K\u001b[0m/              \u001b[01;34mGLAD_ARD\u001b[0m/             \u001b[01;34mNHDplus\u001b[0m/    \u001b[01;34mTERRA\u001b[0m/\n",
      " \u001b[01;34mGDP\u001b[0m/                \u001b[01;34mGSHL\u001b[0m/                 \u001b[01;34mNITRO\u001b[0m/      \u001b[01;34mURBAN\u001b[0m/\n"
     ]
    }
   ],
   "source": [
    "%rm -rf /gdrive/MyDrive/SE_data\n",
    "%cd /gdrive/MyDrive\n",
    "%ls "
   ]
  },
  {
   "cell_type": "markdown",
   "metadata": {
    "id": "izXu0JukTKmh"
   },
   "source": [
    "Then perform the downloading"
   ]
  },
  {
   "cell_type": "code",
   "execution_count": null,
   "metadata": {
    "colab": {
     "base_uri": "https://localhost:8080/"
    },
    "id": "PsX-L0eyB_pg",
    "outputId": "c462a7a2-effd-4221-da3c-7af7e382a63c"
   },
   "outputs": [
    {
     "name": "stdout",
     "output_type": "stream",
     "text": [
      "Cloning into 'SE_data'...\n",
      "remote: Enumerating objects: 22, done.\u001b[K\n",
      "remote: Counting objects: 100% (22/22), done.\u001b[K\n",
      "remote: Compressing objects: 100% (17/17), done.\u001b[K\n",
      "remote: Total 89 (delta 3), reused 19 (delta 3), pack-reused 67\u001b[K\n",
      "Unpacking objects: 100% (89/89), done.\n",
      "Checking out files: 100% (35/35), done.\n"
     ]
    }
   ],
   "source": [
    "!git clone https://github.com/selvaje/SE_data.git"
   ]
  },
  {
   "cell_type": "code",
   "execution_count": null,
   "metadata": {
    "colab": {
     "base_uri": "https://localhost:8080/"
    },
    "id": "NZLJl_56Cv7E",
    "outputId": "ad3e423e-ce0b-4d80-e2d9-7c84cb41b20d"
   },
   "outputs": [
    {
     "name": "stdout",
     "output_type": "stream",
     "text": [
      "-rw------- 1 root root   58 Dec 29 00:32 SE_data/README.md\n",
      "\n",
      "SE_data/exercise:\n",
      "total 172\n",
      "-rw------- 1 root root 153327 Dec 29 00:32 01_gdal.ipynb\n",
      "-rw------- 1 root root  17826 Dec 29 00:32 02_pktools.ipynb\n",
      "drwx------ 7 root root   4096 Dec 29 00:32 geodata\n"
     ]
    }
   ],
   "source": [
    "! ls -l SE_data/*"
   ]
  },
  {
   "cell_type": "code",
   "execution_count": null,
   "metadata": {
    "colab": {
     "base_uri": "https://localhost:8080/"
    },
    "id": "ro0LU45wTkFy",
    "outputId": "34303c4a-0ac5-4530-9e1f-810bf84b9152"
   },
   "outputs": [
    {
     "name": "stdout",
     "output_type": "stream",
     "text": [
      "/gdrive/MyDrive/SE_data\n"
     ]
    }
   ],
   "source": [
    "%cd /gdrive/MyDrive/SE_data"
   ]
  },
  {
   "cell_type": "code",
   "execution_count": null,
   "metadata": {
    "colab": {
     "base_uri": "https://localhost:8080/"
    },
    "id": "z9xv1XqsTqAZ",
    "outputId": "afa0ff96-6cd1-4d46-c330-34a867b475d7"
   },
   "outputs": [
    {
     "name": "stdout",
     "output_type": "stream",
     "text": [
      "-rw------- 1 root root   58 Dec 29 00:32 README.md\n",
      "\n",
      "exercise:\n",
      "total 172\n",
      "-rw------- 1 root root 153327 Dec 29 00:32 01_gdal.ipynb\n",
      "-rw------- 1 root root  17826 Dec 29 00:32 02_pktools.ipynb\n",
      "drwx------ 7 root root   4096 Dec 29 00:32 geodata\n"
     ]
    }
   ],
   "source": [
    "! ls -l *"
   ]
  },
  {
   "cell_type": "markdown",
   "metadata": {
    "id": "FBZgZojhF8lh"
   },
   "source": [
    "**Start to learn**\n",
    "\n",
    "- Everytime that you ope a new jupter-notebook with colab you have to mount your gdrive and make it permanent by File > Update Drive preview \n",
    "\n",
    "- Navigate into your Google Drive SE_data/exercise via GUI and open the *.ipynb by right click and \"open with\" > \"Google collaboratory\""
   ]
  }
 ],
 "metadata": {
  "colab": {
   "collapsed_sections": [],
   "name": "00_Setting_Colab_for_for_Spatial_Ecology_course",
   "provenance": [],
   "toc_visible": true
  },
  "kernelspec": {
   "display_name": "Python 3",
   "language": "python",
   "name": "python3"
  },
  "language_info": {
   "codemirror_mode": {
    "name": "ipython",
    "version": 3
   },
   "file_extension": ".py",
   "mimetype": "text/x-python",
   "name": "python",
   "nbconvert_exporter": "python",
   "pygments_lexer": "ipython3",
   "version": "3.8.5"
  }
 },
 "nbformat": 4,
 "nbformat_minor": 1
}
