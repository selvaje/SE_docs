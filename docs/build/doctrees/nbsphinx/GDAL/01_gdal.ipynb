{
 "cells": [
  {
   "cell_type": "markdown",
   "metadata": {},
   "source": [
    "# Use GDAL/OGR for raster/vector operations\n",
    "\n",
    "**Working directory and scripting procedure**\n",
    "\n",
    "Change directory\n",
    "\n",
    "    cd $HOME\n",
    "\n",
    "Download the data\n",
    "\n",
    "    git clone  https://github.com/selvaje/SE_data.git\n",
    "\n",
    "Code availability at\n",
    "\n",
    "    wget https://github.com/selvaje/SE_data/exercise/01_gdal.ipynb\n",
    "\n",
    "Open the jupter-notebook\n",
    "\n",
    "    cd $HOME/SE_data/exercise\n",
    "    jupter-notebook 01_gdal.ipynb\n"
   ]
  },
  {
   "cell_type": "markdown",
   "metadata": {},
   "source": [
    "**Explor the files**\\\n",
    "Change directory and list all the files with the extension .tif"
   ]
  },
  {
   "cell_type": "code",
   "execution_count": 2,
   "metadata": {},
   "outputs": [
    {
     "name": "stdout",
     "output_type": "stream",
     "text": [
      "ls: cannot access '/home/selv/SE_data/exercise/geodata/*/*.tif': No such file or directory\r\n"
     ]
    }
   ],
   "source": [
    "!ls $HOME/SE_data/exercise/geodata/*/*.tif"
   ]
  },
  {
   "cell_type": "markdown",
   "metadata": {},
   "source": [
    "Retrive the characteristic of the one tif file "
   ]
  },
  {
   "cell_type": "code",
   "execution_count": 1,
   "metadata": {},
   "outputs": [
    {
     "name": "stdout",
     "output_type": "stream",
     "text": [
      "Driver: GTiff/GeoTIFF\n",
      "Files: vegetation/ETmean08-11.tif\n",
      "Size is 720, 600\n",
      "Coordinate System is:\n",
      "GEOGCRS[\"WGS 84\",\n",
      "    DATUM[\"World Geodetic System 1984\",\n",
      "        ELLIPSOID[\"WGS 84\",6378137,298.257223563,\n",
      "            LENGTHUNIT[\"metre\",1]]],\n",
      "    PRIMEM[\"Greenwich\",0,\n",
      "        ANGLEUNIT[\"degree\",0.0174532925199433]],\n",
      "    CS[ellipsoidal,2],\n",
      "        AXIS[\"geodetic latitude (Lat)\",north,\n",
      "            ORDER[1],\n",
      "            ANGLEUNIT[\"degree\",0.0174532925199433]],\n",
      "        AXIS[\"geodetic longitude (Lon)\",east,\n",
      "            ORDER[2],\n",
      "            ANGLEUNIT[\"degree\",0.0174532925199433]],\n",
      "    ID[\"EPSG\",4326]]\n",
      "Data axis to CRS axis mapping: 2,1\n",
      "Origin = (29.000000000000000,4.000000004000000)\n",
      "Pixel Size = (0.008333333340000,-0.008333333340000)\n",
      "Metadata:\n",
      "  AREA_OR_POINT=Area\n",
      "Image Structure Metadata:\n",
      "  COMPRESSION=LZW\n",
      "  INTERLEAVE=BAND\n",
      "Corner Coordinates:\n",
      "Upper Left  (  29.0000000,   4.0000000) ( 29d 0' 0.00\"E,  4d 0' 0.00\"N)\n",
      "Lower Left  (  29.0000000,  -1.0000000) ( 29d 0' 0.00\"E,  1d 0' 0.00\"S)\n",
      "Upper Right (  35.0000000,   4.0000000) ( 35d 0' 0.00\"E,  4d 0' 0.00\"N)\n",
      "Lower Right (  35.0000000,  -1.0000000) ( 35d 0' 0.00\"E,  1d 0' 0.00\"S)\n",
      "Center      (  32.0000000,   1.5000000) ( 32d 0' 0.00\"E,  1d30' 0.00\"N)\n",
      "Band 1 Block=720x2 Type=Float32, ColorInterp=Gray\n",
      "  NoData Value=-3.39999995214436425e+38\n"
     ]
    }
   ],
   "source": [
    "!gdalinfo vegetation/ETmean08-11.tif"
   ]
  },
  {
   "cell_type": "markdown",
   "metadata": {},
   "source": [
    "Visualize the image"
   ]
  },
  {
   "cell_type": "code",
   "execution_count": 6,
   "metadata": {
    "scrolled": true
   },
   "outputs": [
    {
     "name": "stdout",
     "output_type": "stream",
     "text": [
      "Default software rendering mode (use -h if accelerated video card installed).\n",
      "\n",
      "Gtk-WARNING **: Failed to load module \"libgail.so\": libgail.so: cannot open shared object file: No such file or directory\n",
      "\n",
      "Gtk-WARNING **: Failed to load module \"libatk-bridge.so\": libatk-bridge.so: cannot open shared object file: No such file or directory\n",
      "Loading tools from /usr/bin/openev/tools/Tool_Export.py\n",
      "Loading tools from /usr/bin/openev/tools/Tool_ShapesGrid.py\n",
      "Loading tools from /usr/bin/openev/tools/Tool_DriverList.py\n"
     ]
    }
   ],
   "source": [
    "!/usr/bin/openev/bin/openev geodata/vegetation/ETmean08-11.tif"
   ]
  },
  {
   "cell_type": "markdown",
   "metadata": {},
   "source": [
    "Reply to the following questions:\\\n",
    "What is the pixel size?\\\n",
    "How do you get min and max pixel values?"
   ]
  },
  {
   "cell_type": "markdown",
   "metadata": {},
   "source": [
    "**Understanding data type**\n",
    "\n",
    "\n",
    "|                   | Ranges of GDAL data types |                |  Image Size |\n",
    "|-------------------|---------------------------|----------------|-------------|\n",
    "| GDAL data type    | Minimum                   | Maximum        |             |\n",
    "| Byte              |                         0 |            255 |         39M |\n",
    "| UInt16            |                         0 |         65,535 |         78M |\n",
    "| Int16, CInt16     |                   -32,768 |        32,767  |         78M |\n",
    "| UInt32            |                         0 |  4,294,967,295 |        155M |\n",
    "| Int32, CInt32     |            -2,147,483,648 |  2,147,483,647 |        155M |\n",
    "| Float32, CFloat32 |                   -3.4E38 |         3.4E38 |        155M |\n",
    "| Float64, CFloat64 |                 -1.79E308 |       1.79E308 |        309M |"
   ]
  },
  {
   "cell_type": "markdown",
   "metadata": {},
   "source": [
    "**Understanding NoData Value**"
   ]
  },
  {
   "cell_type": "code",
   "execution_count": 7,
   "metadata": {},
   "outputs": [
    {
     "name": "stdout",
     "output_type": "stream",
     "text": [
      "Driver: GTiff/GeoTIFF\n",
      "Files: geodata/vegetation/ETmean08-11.tif\n",
      "Size is 720, 600\n",
      "Coordinate System is:\n",
      "GEOGCRS[\"WGS 84\",\n",
      "    DATUM[\"World Geodetic System 1984\",\n",
      "        ELLIPSOID[\"WGS 84\",6378137,298.257223563,\n",
      "            LENGTHUNIT[\"metre\",1]]],\n",
      "    PRIMEM[\"Greenwich\",0,\n",
      "        ANGLEUNIT[\"degree\",0.0174532925199433]],\n",
      "    CS[ellipsoidal,2],\n",
      "        AXIS[\"geodetic latitude (Lat)\",north,\n",
      "            ORDER[1],\n",
      "            ANGLEUNIT[\"degree\",0.0174532925199433]],\n",
      "        AXIS[\"geodetic longitude (Lon)\",east,\n",
      "            ORDER[2],\n",
      "            ANGLEUNIT[\"degree\",0.0174532925199433]],\n",
      "    ID[\"EPSG\",4326]]\n",
      "Data axis to CRS axis mapping: 2,1\n",
      "Origin = (29.000000000000000,4.000000004000000)\n",
      "Pixel Size = (0.008333333340000,-0.008333333340000)\n",
      "Metadata:\n",
      "  AREA_OR_POINT=Area\n",
      "Image Structure Metadata:\n",
      "  COMPRESSION=LZW\n",
      "  INTERLEAVE=BAND\n",
      "Corner Coordinates:\n",
      "Upper Left  (  29.0000000,   4.0000000) ( 29d 0' 0.00\"E,  4d 0' 0.00\"N)\n",
      "Lower Left  (  29.0000000,  -1.0000000) ( 29d 0' 0.00\"E,  1d 0' 0.00\"S)\n",
      "Upper Right (  35.0000000,   4.0000000) ( 35d 0' 0.00\"E,  4d 0' 0.00\"N)\n",
      "Lower Right (  35.0000000,  -1.0000000) ( 35d 0' 0.00\"E,  1d 0' 0.00\"S)\n",
      "Center      (  32.0000000,   1.5000000) ( 32d 0' 0.00\"E,  1d30' 0.00\"N)\n",
      "Band 1 Block=720x2 Type=Float32, ColorInterp=Gray\n",
      "    Computed Min/Max=0.547,7.492\n",
      "  NoData Value=-3.39999995214436425e+38\n"
     ]
    }
   ],
   "source": [
    "!gdalinfo -mm geodata/vegetation/ETmean08-11.tif"
   ]
  },
  {
   "cell_type": "code",
   "execution_count": 8,
   "metadata": {},
   "outputs": [],
   "source": [
    "!gdal_edit.py -a_nodata -9999 geodata/vegetation/ETmean08-11.tif"
   ]
  },
  {
   "cell_type": "code",
   "execution_count": 9,
   "metadata": {},
   "outputs": [
    {
     "name": "stdout",
     "output_type": "stream",
     "text": [
      "Driver: GTiff/GeoTIFF\n",
      "Files: geodata/vegetation/ETmean08-11.tif\n",
      "Size is 720, 600\n",
      "Coordinate System is:\n",
      "GEOGCRS[\"WGS 84\",\n",
      "    DATUM[\"World Geodetic System 1984\",\n",
      "        ELLIPSOID[\"WGS 84\",6378137,298.257223563,\n",
      "            LENGTHUNIT[\"metre\",1]]],\n",
      "    PRIMEM[\"Greenwich\",0,\n",
      "        ANGLEUNIT[\"degree\",0.0174532925199433]],\n",
      "    CS[ellipsoidal,2],\n",
      "        AXIS[\"geodetic latitude (Lat)\",north,\n",
      "            ORDER[1],\n",
      "            ANGLEUNIT[\"degree\",0.0174532925199433]],\n",
      "        AXIS[\"geodetic longitude (Lon)\",east,\n",
      "            ORDER[2],\n",
      "            ANGLEUNIT[\"degree\",0.0174532925199433]],\n",
      "    ID[\"EPSG\",4326]]\n",
      "Data axis to CRS axis mapping: 2,1\n",
      "Origin = (29.000000000000000,4.000000004000000)\n",
      "Pixel Size = (0.008333333340000,-0.008333333340000)\n",
      "Metadata:\n",
      "  AREA_OR_POINT=Area\n",
      "Image Structure Metadata:\n",
      "  COMPRESSION=LZW\n",
      "  INTERLEAVE=BAND\n",
      "Corner Coordinates:\n",
      "Upper Left  (  29.0000000,   4.0000000) ( 29d 0' 0.00\"E,  4d 0' 0.00\"N)\n",
      "Lower Left  (  29.0000000,  -1.0000000) ( 29d 0' 0.00\"E,  1d 0' 0.00\"S)\n",
      "Upper Right (  35.0000000,   4.0000000) ( 35d 0' 0.00\"E,  4d 0' 0.00\"N)\n",
      "Lower Right (  35.0000000,  -1.0000000) ( 35d 0' 0.00\"E,  1d 0' 0.00\"S)\n",
      "Center      (  32.0000000,   1.5000000) ( 32d 0' 0.00\"E,  1d30' 0.00\"N)\n",
      "Band 1 Block=720x2 Type=Float32, ColorInterp=Gray\n",
      "    Computed Min/Max=-339999995214436424907732413799364296704.000,7.492\n",
      "  NoData Value=-9999\n"
     ]
    }
   ],
   "source": [
    "!gdalinfo -mm geodata/vegetation/ETmean08-11.tif"
   ]
  },
  {
   "cell_type": "code",
   "execution_count": 10,
   "metadata": {},
   "outputs": [],
   "source": [
    "!gdal_edit.py -a_nodata -339999995214436424907732413799364296704.000    geodata/vegetation/ETmean08-11.tif"
   ]
  },
  {
   "cell_type": "code",
   "execution_count": 11,
   "metadata": {},
   "outputs": [
    {
     "name": "stdout",
     "output_type": "stream",
     "text": [
      "Driver: GTiff/GeoTIFF\n",
      "Files: geodata/vegetation/ETmean08-11.tif\n",
      "Size is 720, 600\n",
      "Coordinate System is:\n",
      "GEOGCRS[\"WGS 84\",\n",
      "    DATUM[\"World Geodetic System 1984\",\n",
      "        ELLIPSOID[\"WGS 84\",6378137,298.257223563,\n",
      "            LENGTHUNIT[\"metre\",1]]],\n",
      "    PRIMEM[\"Greenwich\",0,\n",
      "        ANGLEUNIT[\"degree\",0.0174532925199433]],\n",
      "    CS[ellipsoidal,2],\n",
      "        AXIS[\"geodetic latitude (Lat)\",north,\n",
      "            ORDER[1],\n",
      "            ANGLEUNIT[\"degree\",0.0174532925199433]],\n",
      "        AXIS[\"geodetic longitude (Lon)\",east,\n",
      "            ORDER[2],\n",
      "            ANGLEUNIT[\"degree\",0.0174532925199433]],\n",
      "    ID[\"EPSG\",4326]]\n",
      "Data axis to CRS axis mapping: 2,1\n",
      "Origin = (29.000000000000000,4.000000004000000)\n",
      "Pixel Size = (0.008333333340000,-0.008333333340000)\n",
      "Metadata:\n",
      "  AREA_OR_POINT=Area\n",
      "Image Structure Metadata:\n",
      "  COMPRESSION=LZW\n",
      "  INTERLEAVE=BAND\n",
      "Corner Coordinates:\n",
      "Upper Left  (  29.0000000,   4.0000000) ( 29d 0' 0.00\"E,  4d 0' 0.00\"N)\n",
      "Lower Left  (  29.0000000,  -1.0000000) ( 29d 0' 0.00\"E,  1d 0' 0.00\"S)\n",
      "Upper Right (  35.0000000,   4.0000000) ( 35d 0' 0.00\"E,  4d 0' 0.00\"N)\n",
      "Lower Right (  35.0000000,  -1.0000000) ( 35d 0' 0.00\"E,  1d 0' 0.00\"S)\n",
      "Center      (  32.0000000,   1.5000000) ( 32d 0' 0.00\"E,  1d30' 0.00\"N)\n",
      "Band 1 Block=720x2 Type=Float32, ColorInterp=Gray\n",
      "    Computed Min/Max=0.547,7.492\n",
      "  NoData Value=-3.39999995214436425e+38\n"
     ]
    }
   ],
   "source": [
    "!gdalinfo -mm geodata/vegetation/ETmean08-11.tif"
   ]
  },
  {
   "cell_type": "markdown",
   "metadata": {},
   "source": [
    "**Calculate minimum and maximum values for all the images**"
   ]
  },
  {
   "cell_type": "code",
   "execution_count": 19,
   "metadata": {},
   "outputs": [
    {
     "name": "stdout",
     "output_type": "stream",
     "text": [
      "    Computed Min/Max=0.547,7.492\n",
      "    Computed Min/Max=0.209,3.332\n",
      "    Computed Min/Max=0.000,9.738\n",
      "    Computed Min/Max=0.000,4.220\n"
     ]
    }
   ],
   "source": [
    "%%bash \n",
    "for file in geodata/vegetation/*.tif ; do \n",
    "gdalinfo  -mm  $file  | grep Computed\n",
    "done"
   ]
  },
  {
   "cell_type": "markdown",
   "metadata": {},
   "source": [
    "**Create a Coefficient of variation**\\\n",
    "GPPmean08-11.tif temporal mean of Gross Primary Productivity\\\n",
    "GPPstdev08-11.tif temporal standard deviation of Gross Primary Productivity"
   ]
  },
  {
   "cell_type": "code",
   "execution_count": 62,
   "metadata": {},
   "outputs": [
    {
     "name": "stdout",
     "output_type": "stream",
     "text": [
      "0.. 0.. 0.. 1.. 1.. 1.. 2.. 2.. 2.. 3.. 3.. 3.. 4.. 4.. 4.. 5.. 5.. 5.. 6.. 6.. 6.. 7.. 7.. 7.. 8.. 8.. 8.. 9.. 9.. 9.. 10.. 10.. 10.. 11.. 11.. 11.. 12.. 12.. 12.. 13.. 13.. 13.. 14.. 14.. 14.. 15.. 15.. 15.. 16.. 16.. 16.. 17.. 17.. 17.. 18.. 18.. 18.. 19.. 19.. 19.. 20.. 20.. 20.. 21.. 21.. 21.. 22.. 22.. 22.. 23.. 23.. 23.. 24.. 24.. 24.. 25.. 25.. 25.. 26.. 26.. 26.. 27.. 27.. 27.. 28.. 28.. 28.. 29.. 29.. 29.. 30.. 30.. 30.. 31.. 31.. 31.. 32.. 32.. 32.. 33.. 33.. 33.. 34.. 34.. 34.. 35.. 35.. 35.. 36.. 36.. 36.. 37.. 37.. 37.. 38.. 38.. 38.. 39.. 39.. 39.. 40.. 40.. 40.. 41.. 41.. 41.. 42.. 42.. 42.. 43.. 43.. 43.. 44.. 44.. 44.. 45.. 45.. 45.. 46.. 46.. 46.. 47.. 47.. 47.. 48.. 48.. 48.. 49.. 49.. 49.. 50.. 50.. 50.. 51.. 51.. 51.. 52.. 52.. 52.. 53.. 53.. 53.. 54.. 54.. 54.. 55.. 55.. 55.. 56.. 56.. 56.. 57.. 57.. 57.. 58.. 58.. 58.. 59.. 59.. 59.. 60.. 60.. 60.. 61.. 61.. 61.. 62.. 62.. 62.. 63.. 63.. 63.. 64.. 64.. 64.. 65.. 65.. 65.. 66.. 66.. 66.. 67.. 67.. 67.. 68.. 68.. 68.. 69.. 69.. 69.. 70.. 70.. 70.. 71.. 71.. 71.. 72.. 72.. 72.. 73.. 73.. 73.. 74.. 74.. 74.. 75.. 75.. 75.. 76.. 76.. 76.. 77.. 77.. 77.. 78.. 78.. 78.. 79.. 79.. 79.. 80.. 80.. 80.. 81.. 81.. 81.. 82.. 82.. 82.. 83.. 83.. 83.. 84.. 84.. 84.. 85.. 85.. 85.. 86.. 86.. 86.. 87.. 87.. 87.. 88.. 88.. 88.. 89.. 89.. 89.. 90.. 90.. 90.. 91.. 91.. 91.. 92.. 92.. 92.. 93.. 93.. 93.. 94.. 94.. 94.. 95.. 95.. 95.. 96.. 96.. 96.. 97.. 97.. 97.. 98.. 98.. 98.. 99.. 99.. 99.. 100 - Done\n"
     ]
    },
    {
     "name": "stderr",
     "output_type": "stream",
     "text": [
      "Warning 6: 'DEFLATE,ZLEVEL=9' is an unexpected value for COMPRESS creation option of type string-select.\n",
      "Warning 5: COMPRESS=DEFLATE,ZLEVEL=9 value not recognised, ignoring.\n"
     ]
    }
   ],
   "source": [
    "%%bash\n",
    "gdal_calc.py --type=Float32 --overwrite  -A geodata/vegetation/GPPstdev08-11.tif -B  geodata/vegetation/GPPmean08-11.tif \\\n",
    "--co=COMPRESS=DEFLATE,ZLEVEL=9   --calc=\"( A.astype(float) / ( B.astype(float) + 0.000000001 ) )\" --outfile=geodata/vegetation/GPPcv08-11.tif"
   ]
  },
  {
   "cell_type": "code",
   "execution_count": 22,
   "metadata": {},
   "outputs": [
    {
     "name": "stdout",
     "output_type": "stream",
     "text": [
      "Driver: GTiff/GeoTIFF\n",
      "Files: geodata/vegetation/GPPcv08-11.tif\n",
      "Size is 720, 600\n",
      "Coordinate System is:\n",
      "GEOGCRS[\"WGS 84\",\n",
      "    DATUM[\"World Geodetic System 1984\",\n",
      "        ELLIPSOID[\"WGS 84\",6378137,298.257223563,\n",
      "            LENGTHUNIT[\"metre\",1]]],\n",
      "    PRIMEM[\"Greenwich\",0,\n",
      "        ANGLEUNIT[\"degree\",0.0174532925199433]],\n",
      "    CS[ellipsoidal,2],\n",
      "        AXIS[\"geodetic latitude (Lat)\",north,\n",
      "            ORDER[1],\n",
      "            ANGLEUNIT[\"degree\",0.0174532925199433]],\n",
      "        AXIS[\"geodetic longitude (Lon)\",east,\n",
      "            ORDER[2],\n",
      "            ANGLEUNIT[\"degree\",0.0174532925199433]],\n",
      "    ID[\"EPSG\",4326]]\n",
      "Data axis to CRS axis mapping: 2,1\n",
      "Origin = (29.000000000000000,4.000000004000000)\n",
      "Pixel Size = (0.008333333340000,-0.008333333340000)\n",
      "Metadata:\n",
      "  AREA_OR_POINT=Area\n",
      "Image Structure Metadata:\n",
      "  INTERLEAVE=BAND\n",
      "Corner Coordinates:\n",
      "Upper Left  (  29.0000000,   4.0000000) ( 29d 0' 0.00\"E,  4d 0' 0.00\"N)\n",
      "Lower Left  (  29.0000000,  -1.0000000) ( 29d 0' 0.00\"E,  1d 0' 0.00\"S)\n",
      "Upper Right (  35.0000000,   4.0000000) ( 35d 0' 0.00\"E,  4d 0' 0.00\"N)\n",
      "Lower Right (  35.0000000,  -1.0000000) ( 35d 0' 0.00\"E,  1d 0' 0.00\"S)\n",
      "Center      (  32.0000000,   1.5000000) ( 32d 0' 0.00\"E,  1d30' 0.00\"N)\n",
      "Band 1 Block=720x2 Type=Float32, ColorInterp=Gray\n",
      "    Computed Min/Max=0.000,1.476\n",
      "  NoData Value=3.40282346600000016e+38\n"
     ]
    }
   ],
   "source": [
    "! gdalinfo -mm geodata/vegetation/GPPcv08-11.tif"
   ]
  },
  {
   "cell_type": "markdown",
   "metadata": {},
   "source": [
    "**Change pixel resolution**\\\n",
    "Looping trough the images"
   ]
  },
  {
   "cell_type": "code",
   "execution_count": 27,
   "metadata": {},
   "outputs": [
    {
     "name": "stdout",
     "output_type": "stream",
     "text": [
      "Creating output file that is 720P x 600L.\n",
      "Processing geodata/LST/LST_MOYDmax_month1.tif [1/1] : 0Using internal nodata values (e.g. -9999) for image geodata/LST/LST_MOYDmax_month1.tif.\n",
      "Copying nodata values from source geodata/LST/LST_MOYDmax_month1.tif to destination geodata/LST/LST_MOYDmax_month1_crop.tif.\n",
      "...10...20...30...40...50...60...70...80...90...100 - done.\n",
      "Creating output file that is 720P x 600L.\n",
      "Processing geodata/LST/LST_MOYDmax_month2.tif [1/1] : 0Using internal nodata values (e.g. -9999) for image geodata/LST/LST_MOYDmax_month2.tif.\n",
      "Copying nodata values from source geodata/LST/LST_MOYDmax_month2.tif to destination geodata/LST/LST_MOYDmax_month2_crop.tif.\n",
      "...10...20...30...40...50...60...70...80...90...100 - done.\n",
      "Creating output file that is 720P x 600L.\n",
      "Processing geodata/LST/LST_MOYDmax_month3.tif [1/1] : 0Using internal nodata values (e.g. -9999) for image geodata/LST/LST_MOYDmax_month3.tif.\n",
      "Copying nodata values from source geodata/LST/LST_MOYDmax_month3.tif to destination geodata/LST/LST_MOYDmax_month3_crop.tif.\n",
      "...10...20...30...40...50...60...70...80...90...100 - done.\n",
      "Creating output file that is 720P x 600L.\n",
      "Processing geodata/LST/LST_MOYDmax_month4.tif [1/1] : 0Using internal nodata values (e.g. -9999) for image geodata/LST/LST_MOYDmax_month4.tif.\n",
      "Copying nodata values from source geodata/LST/LST_MOYDmax_month4.tif to destination geodata/LST/LST_MOYDmax_month4_crop.tif.\n",
      "...10...20...30...40...50...60...70...80...90...100 - done.\n",
      "Creating output file that is 720P x 600L.\n",
      "Processing geodata/LST/LST_MOYDmax_month5.tif [1/1] : 0Using internal nodata values (e.g. -9999) for image geodata/LST/LST_MOYDmax_month5.tif.\n",
      "Copying nodata values from source geodata/LST/LST_MOYDmax_month5.tif to destination geodata/LST/LST_MOYDmax_month5_crop.tif.\n",
      "...10...20...30...40...50...60...70...80...90...100 - done.\n",
      "Creating output file that is 720P x 600L.\n",
      "Processing geodata/LST/LST_MOYDmax_month6.tif [1/1] : 0Using internal nodata values (e.g. -9999) for image geodata/LST/LST_MOYDmax_month6.tif.\n",
      "Copying nodata values from source geodata/LST/LST_MOYDmax_month6.tif to destination geodata/LST/LST_MOYDmax_month6_crop.tif.\n",
      "...10...20...30...40...50...60...70...80...90...100 - done.\n",
      "Creating output file that is 720P x 600L.\n",
      "Processing geodata/LST/LST_MOYDmax_month7.tif [1/1] : 0Using internal nodata values (e.g. -9999) for image geodata/LST/LST_MOYDmax_month7.tif.\n",
      "Copying nodata values from source geodata/LST/LST_MOYDmax_month7.tif to destination geodata/LST/LST_MOYDmax_month7_crop.tif.\n",
      "...10...20...30...40...50...60...70...80...90...100 - done.\n",
      "Creating output file that is 720P x 600L.\n",
      "Processing geodata/LST/LST_MOYDmax_month8.tif [1/1] : 0Using internal nodata values (e.g. -9999) for image geodata/LST/LST_MOYDmax_month8.tif.\n",
      "Copying nodata values from source geodata/LST/LST_MOYDmax_month8.tif to destination geodata/LST/LST_MOYDmax_month8_crop.tif.\n",
      "...10...20...30...40...50...60...70...80...90...100 - done.\n",
      "Creating output file that is 720P x 600L.\n",
      "Processing geodata/LST/LST_MOYDmax_month9.tif [1/1] : 0Using internal nodata values (e.g. -9999) for image geodata/LST/LST_MOYDmax_month9.tif.\n",
      "Copying nodata values from source geodata/LST/LST_MOYDmax_month9.tif to destination geodata/LST/LST_MOYDmax_month9_crop.tif.\n",
      "...10...20...30...40...50...60...70...80...90...100 - done.\n",
      "Creating output file that is 720P x 600L.\n",
      "Processing geodata/LST/LST_MOYDmax_month10.tif [1/1] : 0Using internal nodata values (e.g. -9999) for image geodata/LST/LST_MOYDmax_month10.tif.\n",
      "Copying nodata values from source geodata/LST/LST_MOYDmax_month10.tif to destination geodata/LST/LST_MOYDmax_month10_crop.tif.\n",
      "...10...20...30...40...50...60...70...80...90...100 - done.\n",
      "Creating output file that is 720P x 600L.\n",
      "Processing geodata/LST/LST_MOYDmax_month11.tif [1/1] : 0Using internal nodata values (e.g. -9999) for image geodata/LST/LST_MOYDmax_month11.tif.\n",
      "Copying nodata values from source geodata/LST/LST_MOYDmax_month11.tif to destination geodata/LST/LST_MOYDmax_month11_crop.tif.\n",
      "...10...20...30...40...50...60...70...80...90...100 - done.\n",
      "Creating output file that is 720P x 600L.\n",
      "Processing geodata/LST/LST_MOYDmax_month12.tif [1/1] : 0Using internal nodata values (e.g. -9999) for image geodata/LST/LST_MOYDmax_month12.tif.\n",
      "Copying nodata values from source geodata/LST/LST_MOYDmax_month12.tif to destination geodata/LST/LST_MOYDmax_month12_crop.tif.\n",
      "...10...20...30...40...50...60...70...80...90...100 - done.\n"
     ]
    }
   ],
   "source": [
    "%%bash\n",
    "for file in geodata/LST/LST_MOYDmax_month?.tif geodata/LST/LST_MOYDmax_month??.tif; do \n",
    "  filename=$(basename $file .tif )\n",
    "  gdalwarp -overwrite -te 29 -1 35.0000000048 4.000000004 -tr 0.008333333340000 0.008333333340000 -co COMPRESS=DEFLATE -co ZLEVEL=9 $file geodata/LST/${filename}_crop.tif \n",
    "done"
   ]
  },
  {
   "cell_type": "markdown",
   "metadata": {},
   "source": [
    "**Get value at one pixel/line image-location**\\\n",
    "Looping trough the images"
   ]
  },
  {
   "cell_type": "code",
   "execution_count": 29,
   "metadata": {},
   "outputs": [
    {
     "name": "stdout",
     "output_type": "stream",
     "text": [
      "34.0951232910156\n",
      "36.324462890625\n",
      "34.5248413085938\n",
      "30.09130859375\n",
      "26.7726745605469\n",
      "25.4852294921875\n",
      "24.9943237304688\n",
      "25.3010864257812\n",
      "25.9540100097656\n",
      "26.5707092285156\n",
      "28.4977416992188\n",
      "30.7633972167969\n"
     ]
    }
   ],
   "source": [
    "%%bash \n",
    "for file in geodata/LST/LST_MOYDmax_month?.tif geodata/LST/LST_MOYDmax_month??.tif; do \n",
    "   gdallocationinfo -valonly $file  20 20  \n",
    "done"
   ]
  },
  {
   "cell_type": "markdown",
   "metadata": {},
   "source": [
    "**Get value at lat/long image-location**\\\n",
    "Looping trough the images"
   ]
  },
  {
   "cell_type": "code",
   "execution_count": 40,
   "metadata": {},
   "outputs": [
    {
     "name": "stdout",
     "output_type": "stream",
     "text": [
      "36.983154296875\n",
      "40.4172973632812\n",
      "38.7196350097656\n",
      "33.0290832519531\n",
      "29.9873352050781\n",
      "29.6256713867188\n",
      "29.9307861328125\n",
      "30.1702880859375\n",
      "30.9218444824219\n",
      "30.4443359375\n",
      "30.4249267578125\n",
      "32.9085998535156\n"
     ]
    }
   ],
   "source": [
    "%%bash\n",
    "for file in geodata/LST/LST_MOYDmax_month?.tif geodata/LST/LST_MOYDmax_month??.tif; do \n",
    "   gdallocationinfo -valonly -geoloc $file  33 2  \n",
    "done"
   ]
  },
  {
   "cell_type": "markdown",
   "metadata": {},
   "source": [
    "**Get value at multiple lat/long image-location**\\"
   ]
  },
  {
   "cell_type": "code",
   "execution_count": 35,
   "metadata": {},
   "outputs": [
    {
     "name": "stdout",
     "output_type": "stream",
     "text": [
      "37.4022827148438\n",
      "35.0345764160156\n",
      "\n",
      "40.3694458007812\n",
      "37.824951171875\n",
      "\n",
      "38.5549926757812\n",
      "36.6663208007812\n",
      "\n",
      "32.7738952636719\n",
      "32.6803283691406\n",
      "\n",
      "29.0351257324219\n",
      "30.0338134765625\n",
      "\n",
      "29.025634765625\n",
      "29.3355102539062\n",
      "\n",
      "29.0183715820312\n",
      "29.4237365722656\n",
      "\n",
      "29.1660461425781\n",
      "29.3502197265625\n",
      "\n",
      "29.6674194335938\n",
      "29.7001647949219\n",
      "\n",
      "28.8177490234375\n",
      "29.066650390625\n",
      "\n",
      "29.2975463867188\n",
      "29.015869140625\n",
      "\n",
      "32.8586730957031\n",
      "31.3289184570312\n",
      "\n"
     ]
    }
   ],
   "source": [
    "%%bash\n",
    "# Create the lat long file \n",
    "echo 32.5 2.5 > geodata/LST/x_y.txt\n",
    "echo 31.1 2.1 >> geodata/LST/x_y.txt\n",
    "# looping trough the images\n",
    "for file in geodata/LST/LST_MOYDmax_month?.tif geodata/LST/LST_MOYDmax_month??.tif; do \n",
    "   gdallocationinfo -valonly -geoloc $file < geodata/LST/x_y.txt  \n",
    "   echo \"\"\n",
    "done"
   ]
  },
  {
   "cell_type": "markdown",
   "metadata": {},
   "source": [
    "**From Image to text and from txt to image**"
   ]
  },
  {
   "cell_type": "code",
   "execution_count": 61,
   "metadata": {},
   "outputs": [
    {
     "name": "stdout",
     "output_type": "stream",
     "text": [
      "Input file size is 240, 240\n",
      "0...10...20...30...40...50...60...70...80...90...100 - done.\n",
      "Input file size is 240, 240\n",
      "0...10...20...30...40...50...60...70...80...90...100 - done.\n"
     ]
    }
   ],
   "source": [
    "%%bash\n",
    "# from tif to 3 col txt XYZ\n",
    "gdal_translate -of  XYZ   geodata/vegetation/ETmean08-11_crop.tif geodata/vegetation/ETmean08-11_crop.txt\n",
    "# masking\n",
    "awk '{if ($3>2 && $3<4) {print $1,$2,50 } else {print}}' geodata/vegetation/ETmean08-11_crop.txt > geodata/vegetation/ETmean08-11_crop_trh.txt\n",
    "# back to tif\n",
    "gdal_translate -co COMPRESS=DEFLATE -co ZLEVEL=9  -ot Byte geodata/vegetation/ETmean08-11_crop_trh.txt geodata/vegetation/ETmean08-11_crop_trh.tif "
   ]
  },
  {
   "cell_type": "markdown",
   "metadata": {},
   "source": [
    "**The use of VRT to stack images and tiling**"
   ]
  },
  {
   "cell_type": "code",
   "execution_count": 45,
   "metadata": {},
   "outputs": [
    {
     "name": "stdout",
     "output_type": "stream",
     "text": [
      "0...10...20...30...40...50...60...70...80...90...100 - done.\n",
      "Driver: VRT/Virtual Raster\n",
      "Files: geodata/vegetation/stack.vrt\n",
      "       geodata/vegetation/ETmean08-11.tif\n",
      "       geodata/vegetation/ETstdev08-11.tif\n",
      "Size is 720, 600\n",
      "Coordinate System is:\n",
      "GEOGCRS[\"WGS 84\",\n",
      "    DATUM[\"World Geodetic System 1984\",\n",
      "        ELLIPSOID[\"WGS 84\",6378137,298.257223563,\n",
      "            LENGTHUNIT[\"metre\",1]]],\n",
      "    PRIMEM[\"Greenwich\",0,\n",
      "        ANGLEUNIT[\"degree\",0.0174532925199433]],\n",
      "    CS[ellipsoidal,2],\n",
      "        AXIS[\"geodetic latitude (Lat)\",north,\n",
      "            ORDER[1],\n",
      "            ANGLEUNIT[\"degree\",0.0174532925199433]],\n",
      "        AXIS[\"geodetic longitude (Lon)\",east,\n",
      "            ORDER[2],\n",
      "            ANGLEUNIT[\"degree\",0.0174532925199433]],\n",
      "    ID[\"EPSG\",4326]]\n",
      "Data axis to CRS axis mapping: 2,1\n",
      "Origin = (29.000000000000000,4.000000004000000)\n",
      "Pixel Size = (0.008333333340000,-0.008333333340000)\n",
      "Corner Coordinates:\n",
      "Upper Left  (  29.0000000,   4.0000000) ( 29d 0' 0.00\"E,  4d 0' 0.00\"N)\n",
      "Lower Left  (  29.0000000,  -1.0000000) ( 29d 0' 0.00\"E,  1d 0' 0.00\"S)\n",
      "Upper Right (  35.0000000,   4.0000000) ( 35d 0' 0.00\"E,  4d 0' 0.00\"N)\n",
      "Lower Right (  35.0000000,  -1.0000000) ( 35d 0' 0.00\"E,  1d 0' 0.00\"S)\n",
      "Center      (  32.0000000,   1.5000000) ( 32d 0' 0.00\"E,  1d30' 0.00\"N)\n",
      "Band 1 Block=128x128 Type=Float32, ColorInterp=Undefined\n",
      "  NoData Value=-3.39999995214436387e+38\n",
      "Band 2 Block=128x128 Type=Float32, ColorInterp=Undefined\n",
      "  NoData Value=-3.39999995214436387e+38\n"
     ]
    }
   ],
   "source": [
    "%%bash\n",
    "# stck the tif\n",
    "gdalbuildvrt -overwrite -separate geodata/vegetation/stack.vrt geodata/vegetation/ETmean08-11.tif geodata/vegetation/ETstdev08-11.tif\n",
    "gdalinfo geodata/vegetation/stack.vrt"
   ]
  },
  {
   "cell_type": "code",
   "execution_count": 48,
   "metadata": {},
   "outputs": [
    {
     "name": "stdout",
     "output_type": "stream",
     "text": [
      "Input file size is 720, 600\n",
      "0...10...20...30...40...50...60...70...80...90...100 - done.\n",
      "Input file size is 720, 600\n",
      "0...10...20...30...40...50...60...70...80...90...100 - done.\n",
      "Input file size is 720, 600\n",
      "0...10...20...30...40...50...60...70...80...90...100 - done.\n",
      "Input file size is 720, 600\n",
      "0...10...20...30...40...50...60...70...80...90...100 - done.\n",
      "0...10...20...30...40...50...60...70...80...90...100 - done.\n",
      "Input file size is 720, 600\n",
      "0...10...20...30...40...50...60...70...80...90...100 - done.\n"
     ]
    }
   ],
   "source": [
    "%%bash\n",
    "# split in tiles \n",
    "gdal_translate -srcwin 0     0 360 300 geodata/vegetation/stack.vrt geodata/vegetation/stack_UL.tif\n",
    "gdal_translate -srcwin 0   300 360 300 geodata/vegetation/stack.vrt geodata/vegetation/stack_UR.tif\n",
    "gdal_translate -srcwin 360   0 360 300 geodata/vegetation/stack.vrt geodata/vegetation/stack_LL.tif\n",
    "gdal_translate -srcwin 360 300 360 300 geodata/vegetation/stack.vrt geodata/vegetation/stack_LR.tif\n",
    " \n",
    "# recompose the image \n",
    "gdalbuildvrt -overwrite geodata/vegetation/ETmosaic.vrt geodata/vegetation/stack_UL.tif geodata/vegetation/stack_UR.tif geodata/vegetation/stack_LL.tif geodata/vegetation/stack_LR.tif\n",
    "gdal_translate -co COMPRESS=DEFLATE -co ZLEVEL=9 geodata/vegetation/ETmosaic.vrt geodata/vegetation/ETmosaic.tif"
   ]
  },
  {
   "cell_type": "markdown",
   "metadata": {},
   "source": [
    "**Create shp border tiles**"
   ]
  },
  {
   "cell_type": "code",
   "execution_count": 60,
   "metadata": {},
   "outputs": [
    {
     "name": "stdout",
     "output_type": "stream",
     "text": [
      "Creating new index file...\n"
     ]
    }
   ],
   "source": [
    "%%bash\n",
    "rm -f geodata/vegetation/tiles.*\n",
    "gdaltindex  geodata/vegetation/tiles.shp  geodata/vegetation/stack_??.tif"
   ]
  },
  {
   "cell_type": "markdown",
   "metadata": {},
   "source": [
    "**Surface distance/buffer**"
   ]
  },
  {
   "cell_type": "code",
   "execution_count": 56,
   "metadata": {
    "scrolled": true
   },
   "outputs": [
    {
     "name": "stdout",
     "output_type": "stream",
     "text": [
      "0...10...20...30...40...50...60...70...80...90...100 - done.\n"
     ]
    }
   ],
   "source": [
    "%%bash\n",
    "# Continues distance surface\n",
    "gdal_proximity.py -co COMPRESS=DEFLATE -co ZLEVEL=9 -values 0 -distunits PIXEL -ot UInt32 geodata/vegetation/ETmean08-11_crop_trh.tif geodata/vegetation/ETmean08-11_crop_proximity.tif"
   ]
  },
  {
   "cell_type": "code",
   "execution_count": 57,
   "metadata": {},
   "outputs": [
    {
     "name": "stdout",
     "output_type": "stream",
     "text": [
      "0...10...20...30...40...50...60...70...80...90...100 - done.\n"
     ]
    }
   ],
   "source": [
    "%%bash\n",
    "# Fix buffer surface\n",
    "gdal_proximity.py -fixed-buf-val 4 -maxdist 4 -nodata 10 -co COMPRESS=DEFLATE -co ZLEVEL=9 -values 0 -distunits PIXEL -ot Byte geodata/vegetation/ETmean08-11_crop_trh.tif geodata/vegetation/ETmean08-11_crop_buffer.tif"
   ]
  },
  {
   "cell_type": "markdown",
   "metadata": {},
   "source": [
    "**Topography variables**"
   ]
  },
  {
   "cell_type": "code",
   "execution_count": 59,
   "metadata": {},
   "outputs": [
    {
     "name": "stdout",
     "output_type": "stream",
     "text": [
      "0...10...20...30...40...50...60...70...80...90...100 - done.\n",
      "0...10...20...30...40...50...60...70...80...90...100 - done.\n",
      "0...10...20...30...40...50...60...70...80...90...100 - done.\n",
      "0...10...20...30...40...50...60...70...80...90...100 - done.\n",
      "0...10...20...30...40...50...60...70...80...90...100 - done.\n"
     ]
    }
   ],
   "source": [
    "%%bash\n",
    "# calculate  slope \n",
    "gdaldem slope -s 111120 -co COMPRESS=DEFLATE -co ZLEVEL=9 geodata/dem/GMTED2010.tif geodata/dem/slope.tif \n",
    " \n",
    "# calculate  apect\n",
    "gdaldem aspect -zero_for_flat -co COMPRESS=DEFLATE -co ZLEVEL=9 geodata/dem/GMTED2010.tif geodata/dem/aspect.tif \n",
    " \n",
    "# calculate  Terrain Ruggedness Index TRI  \n",
    "gdaldem TRI -co COMPRESS=DEFLATE -co ZLEVEL=9 geodata/dem/GMTED2010.tif geodata/dem/tri.tif \n",
    " \n",
    "# calculate  Topographic Position Index TPI\n",
    "gdaldem TPI -co COMPRESS=DEFLATE -co ZLEVEL=9 geodata/dem/GMTED2010.tif geodata/dem/tpi.tif \n",
    " \n",
    "# calculate  Roughness   \n",
    "gdaldem roughness -co COMPRESS=DEFLATE -co ZLEVEL=9 geodata/dem/GMTED2010.tif geodata/dem/roughness.tif "
   ]
  }
 ],
 "metadata": {
  "kernelspec": {
   "display_name": "Python 3",
   "language": "python",
   "name": "python3"
  },
  "language_info": {
   "codemirror_mode": {
    "name": "ipython",
    "version": 3
   },
   "file_extension": ".py",
   "mimetype": "text/x-python",
   "name": "python",
   "nbconvert_exporter": "python",
   "pygments_lexer": "ipython3",
   "version": "3.8.5"
  }
 },
 "nbformat": 4,
 "nbformat_minor": 4
}
