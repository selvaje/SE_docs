{
 "cells": [
  {
   "cell_type": "markdown",
   "id": "2fe4c392-fd2c-4dc5-8ed2-866a26447165",
   "metadata": {},
   "source": [
    "# Classification in Python using pyjeo and sklearn"
   ]
  },
  {
   "cell_type": "code",
   "execution_count": 1,
   "id": "cbe6356c-b543-4886-a321-f3e2b71495c2",
   "metadata": {
    "execution": {
     "iopub.execute_input": "2025-09-19T07:34:25.399195Z",
     "iopub.status.busy": "2025-09-19T07:34:25.398868Z",
     "iopub.status.idle": "2025-09-19T07:34:25.519942Z",
     "shell.execute_reply": "2025-09-19T07:34:25.519416Z"
    }
   },
   "outputs": [
    {
     "ename": "ModuleNotFoundError",
     "evalue": "No module named 'geopandas'",
     "output_type": "error",
     "traceback": [
      "\u001b[31m---------------------------------------------------------------------------\u001b[39m",
      "\u001b[31mModuleNotFoundError\u001b[39m                       Traceback (most recent call last)",
      "\u001b[36mCell\u001b[39m\u001b[36m \u001b[39m\u001b[32mIn[1]\u001b[39m\u001b[32m, line 2\u001b[39m\n\u001b[32m      1\u001b[39m \u001b[38;5;28;01mfrom\u001b[39;00m\u001b[38;5;250m \u001b[39m\u001b[34;01mIPython\u001b[39;00m\u001b[34;01m.\u001b[39;00m\u001b[34;01mdisplay\u001b[39;00m\u001b[38;5;250m \u001b[39m\u001b[38;5;28;01mimport\u001b[39;00m display\n\u001b[32m----> \u001b[39m\u001b[32m2\u001b[39m \u001b[38;5;28;01mimport\u001b[39;00m\u001b[38;5;250m \u001b[39m\u001b[34;01mgeopandas\u001b[39;00m\u001b[38;5;250m \u001b[39m\u001b[38;5;28;01mas\u001b[39;00m\u001b[38;5;250m \u001b[39m\u001b[34;01mgpd\u001b[39;00m\n",
      "\u001b[31mModuleNotFoundError\u001b[39m: No module named 'geopandas'"
     ]
    }
   ],
   "source": [
    "from IPython.display import display\n",
    "import geopandas as gpd"
   ]
  },
  {
   "cell_type": "code",
   "execution_count": 2,
   "id": "633dfbb3-d00a-45d2-8ebf-2ad9d0984b6a",
   "metadata": {
    "execution": {
     "iopub.execute_input": "2025-09-19T07:34:25.521612Z",
     "iopub.status.busy": "2025-09-19T07:34:25.521431Z",
     "iopub.status.idle": "2025-09-19T07:34:25.535218Z",
     "shell.execute_reply": "2025-09-19T07:34:25.534787Z"
    }
   },
   "outputs": [
    {
     "ename": "ModuleNotFoundError",
     "evalue": "No module named 'sklearn'",
     "output_type": "error",
     "traceback": [
      "\u001b[31m---------------------------------------------------------------------------\u001b[39m",
      "\u001b[31mModuleNotFoundError\u001b[39m                       Traceback (most recent call last)",
      "\u001b[36mCell\u001b[39m\u001b[36m \u001b[39m\u001b[32mIn[2]\u001b[39m\u001b[32m, line 1\u001b[39m\n\u001b[32m----> \u001b[39m\u001b[32m1\u001b[39m \u001b[38;5;28;01mfrom\u001b[39;00m\u001b[38;5;250m \u001b[39m\u001b[34;01msklearn\u001b[39;00m\u001b[34;01m.\u001b[39;00m\u001b[34;01mensemble\u001b[39;00m\u001b[38;5;250m \u001b[39m\u001b[38;5;28;01mimport\u001b[39;00m RandomForestClassifier\n\u001b[32m      2\u001b[39m \u001b[38;5;28;01mfrom\u001b[39;00m\u001b[38;5;250m \u001b[39m\u001b[34;01msklearn\u001b[39;00m\u001b[34;01m.\u001b[39;00m\u001b[34;01mmodel_selection\u001b[39;00m\u001b[38;5;250m \u001b[39m\u001b[38;5;28;01mimport\u001b[39;00m train_test_split\n\u001b[32m      3\u001b[39m \u001b[38;5;28;01mfrom\u001b[39;00m\u001b[38;5;250m \u001b[39m\u001b[34;01msklearn\u001b[39;00m\u001b[34;01m.\u001b[39;00m\u001b[34;01mmetrics\u001b[39;00m\u001b[38;5;250m \u001b[39m\u001b[38;5;28;01mimport\u001b[39;00m confusion_matrix\n",
      "\u001b[31mModuleNotFoundError\u001b[39m: No module named 'sklearn'"
     ]
    }
   ],
   "source": [
    "from sklearn.ensemble import RandomForestClassifier\n",
    "from sklearn.model_selection import train_test_split\n",
    "from sklearn.metrics import confusion_matrix\n",
    "from sklearn.metrics import accuracy_score"
   ]
  },
  {
   "cell_type": "code",
   "execution_count": 3,
   "id": "0a414281-01c7-45b7-b303-2df17a488653",
   "metadata": {
    "execution": {
     "iopub.execute_input": "2025-09-19T07:34:25.536831Z",
     "iopub.status.busy": "2025-09-19T07:34:25.536658Z",
     "iopub.status.idle": "2025-09-19T07:34:25.550196Z",
     "shell.execute_reply": "2025-09-19T07:34:25.549690Z"
    }
   },
   "outputs": [
    {
     "ename": "ModuleNotFoundError",
     "evalue": "No module named 'matplotlib'",
     "output_type": "error",
     "traceback": [
      "\u001b[31m---------------------------------------------------------------------------\u001b[39m",
      "\u001b[31mModuleNotFoundError\u001b[39m                       Traceback (most recent call last)",
      "\u001b[36mCell\u001b[39m\u001b[36m \u001b[39m\u001b[32mIn[3]\u001b[39m\u001b[32m, line 2\u001b[39m\n\u001b[32m      1\u001b[39m \u001b[38;5;28;01mfrom\u001b[39;00m\u001b[38;5;250m \u001b[39m\u001b[34;01mdatetime\u001b[39;00m\u001b[38;5;250m \u001b[39m\u001b[38;5;28;01mimport\u001b[39;00m datetime\n\u001b[32m----> \u001b[39m\u001b[32m2\u001b[39m \u001b[38;5;28;01mimport\u001b[39;00m\u001b[38;5;250m \u001b[39m\u001b[34;01mmatplotlib\u001b[39;00m\u001b[34;01m.\u001b[39;00m\u001b[34;01mpyplot\u001b[39;00m\u001b[38;5;250m \u001b[39m\u001b[38;5;28;01mas\u001b[39;00m\u001b[38;5;250m \u001b[39m\u001b[34;01mplt\u001b[39;00m\n\u001b[32m      3\u001b[39m \u001b[38;5;28;01mimport\u001b[39;00m\u001b[38;5;250m \u001b[39m\u001b[34;01mnumpy\u001b[39;00m\u001b[38;5;250m \u001b[39m\u001b[38;5;28;01mas\u001b[39;00m\u001b[38;5;250m \u001b[39m\u001b[34;01mnp\u001b[39;00m\n\u001b[32m      4\u001b[39m \u001b[38;5;28;01mimport\u001b[39;00m\u001b[38;5;250m \u001b[39m\u001b[34;01mpyjeo\u001b[39;00m\u001b[38;5;250m \u001b[39m\u001b[38;5;28;01mas\u001b[39;00m\u001b[38;5;250m \u001b[39m\u001b[34;01mpj\u001b[39;00m\n",
      "\u001b[31mModuleNotFoundError\u001b[39m: No module named 'matplotlib'"
     ]
    }
   ],
   "source": [
    "from datetime import datetime\n",
    "import matplotlib.pyplot as plt\n",
    "import numpy as np\n",
    "import pyjeo as pj\n",
    "import pandas as pd\n",
    "import geopandas as gpd"
   ]
  },
  {
   "cell_type": "markdown",
   "id": "a5d851ff-d154-4481-8872-63e67e491766",
   "metadata": {},
   "source": [
    "## Create reference data for training"
   ]
  },
  {
   "cell_type": "code",
   "execution_count": 4,
   "id": "64fea62b",
   "metadata": {
    "execution": {
     "iopub.execute_input": "2025-09-19T07:34:25.551787Z",
     "iopub.status.busy": "2025-09-19T07:34:25.551641Z",
     "iopub.status.idle": "2025-09-19T07:34:27.774037Z",
     "shell.execute_reply": "2025-09-19T07:34:27.772823Z"
    }
   },
   "outputs": [
    {
     "name": "stdout",
     "output_type": "stream",
     "text": [
      "  % Total    % Received % Xferd  Average Speed   Time    Time     Time  Current\r\n",
      "                                 Dload  Upload   Total   Spent    Left  Speed\r\n",
      "\r",
      "  0     0    0     0    0     0      0      0 --:--:-- --:--:-- --:--:--     0"
     ]
    },
    {
     "name": "stdout",
     "output_type": "stream",
     "text": [
      "\r",
      "  0     0    0     0    0     0      0      0 --:--:-- --:--:-- --:--:--     0"
     ]
    },
    {
     "name": "stdout",
     "output_type": "stream",
     "text": [
      "\r",
      "  0     0    0     0    0     0      0      0 --:--:-- --:--:-- --:--:--     0\r\n"
     ]
    },
    {
     "name": "stdout",
     "output_type": "stream",
     "text": [
      "\r",
      "100 24576  100 24576    0     0  39588      0 --:--:-- --:--:-- --:--:-- 39588\r\n"
     ]
    },
    {
     "name": "stdout",
     "output_type": "stream",
     "text": [
      "  % Total    % Received % Xferd  Average Speed   Time    Time     Time  Current\r\n",
      "                                 Dload  Upload   Total   Spent    Left  Speed\r\n",
      "\r",
      "  0     0    0     0    0     0      0      0 --:--:-- --:--:-- --:--:--     0"
     ]
    },
    {
     "name": "stdout",
     "output_type": "stream",
     "text": [
      "\r",
      "  0     0    0     0    0     0      0      0 --:--:-- --:--:-- --:--:--     0\r",
      "  0     0    0     0    0     0      0      0 --:--:-- --:--:-- --:--:--     0\r\n"
     ]
    },
    {
     "name": "stdout",
     "output_type": "stream",
     "text": [
      "\r",
      "100 3079k  100 3079k    0     0  2482k      0  0:00:01  0:00:01 --:--:-- 2482k\r\n"
     ]
    },
    {
     "name": "stdout",
     "output_type": "stream",
     "text": [
      "/home/selv/SE_docs/SE_docs/source/CASESTUDY\r\n"
     ]
    }
   ],
   "source": [
    "# ! wget -P /media/sf_LVM_shared/my_SE_data/exercise https://github.com/ec-jrc/jeolib-pyjeo/blob/master/tests/data/modis_ndvi_2010.tif\n",
    "# ! wget -P /media/sf_LVM_shared/my_SE_data/exercise https://github.com/ec-jrc/jeolib-pyjeo/blob/master/tests/data/modis_ndvi_training.sqlite\n",
    "\n",
    "\n",
    "! curl -H 'Accept: application/vnd.github.v3.raw' -O -L 'https://github.com/ec-jrc/jeolib-pyjeo/raw/master/tests/data/modis_ndvi_training.sqlite'\n",
    "! curl -H 'Accept: application/vnd.github.v3.raw' -O -L 'https://github.com/ec-jrc/jeolib-pyjeo/raw/master/tests/data/modis_ndvi_2010.tif'\n",
    "\n",
    "\n",
    "!pwd\n"
   ]
  },
  {
   "cell_type": "code",
   "execution_count": 5,
   "id": "ba2afdd4-03a1-4862-b360-476c6c46c0fa",
   "metadata": {
    "execution": {
     "iopub.execute_input": "2025-09-19T07:34:27.778642Z",
     "iopub.status.busy": "2025-09-19T07:34:27.778207Z",
     "iopub.status.idle": "2025-09-19T07:34:27.803841Z",
     "shell.execute_reply": "2025-09-19T07:34:27.803535Z"
    }
   },
   "outputs": [
    {
     "ename": "NameError",
     "evalue": "name 'pj' is not defined",
     "output_type": "error",
     "traceback": [
      "\u001b[31m---------------------------------------------------------------------------\u001b[39m",
      "\u001b[31mNameError\u001b[39m                                 Traceback (most recent call last)",
      "\u001b[36mCell\u001b[39m\u001b[36m \u001b[39m\u001b[32mIn[5]\u001b[39m\u001b[32m, line 1\u001b[39m\n\u001b[32m----> \u001b[39m\u001b[32m1\u001b[39m reference = \u001b[43mpj\u001b[49m.JimVect(\u001b[33m'\u001b[39m\u001b[33mmodis_ndvi_training.sqlite\u001b[39m\u001b[33m'\u001b[39m)\n\u001b[32m      2\u001b[39m jim = pj.Jim(\u001b[33m'\u001b[39m\u001b[33mmodis_ndvi_2010.tif\u001b[39m\u001b[33m'\u001b[39m, band2plane=\u001b[38;5;28;01mTrue\u001b[39;00m)\n",
      "\u001b[31mNameError\u001b[39m: name 'pj' is not defined"
     ]
    }
   ],
   "source": [
    "reference = pj.JimVect('modis_ndvi_training.sqlite')\n",
    "jim = pj.Jim('modis_ndvi_2010.tif', band2plane=True)"
   ]
  },
  {
   "cell_type": "code",
   "execution_count": 6,
   "id": "7d372258-7e66-4582-9e03-42678d5cf07e",
   "metadata": {
    "execution": {
     "iopub.execute_input": "2025-09-19T07:34:27.805732Z",
     "iopub.status.busy": "2025-09-19T07:34:27.805587Z",
     "iopub.status.idle": "2025-09-19T07:34:27.819710Z",
     "shell.execute_reply": "2025-09-19T07:34:27.819369Z"
    }
   },
   "outputs": [
    {
     "ename": "NameError",
     "evalue": "name 'jim' is not defined",
     "output_type": "error",
     "traceback": [
      "\u001b[31m---------------------------------------------------------------------------\u001b[39m",
      "\u001b[31mNameError\u001b[39m                                 Traceback (most recent call last)",
      "\u001b[36mCell\u001b[39m\u001b[36m \u001b[39m\u001b[32mIn[6]\u001b[39m\u001b[32m, line 2\u001b[39m\n\u001b[32m      1\u001b[39m dates = [datetime.strptime(\u001b[33m'\u001b[39m\u001b[33m01-\u001b[39m\u001b[33m'\u001b[39m + \u001b[38;5;28mstr\u001b[39m(month) + \u001b[33m'\u001b[39m\u001b[33m-2010\u001b[39m\u001b[33m'\u001b[39m, \u001b[33m\"\u001b[39m\u001b[38;5;132;01m%d\u001b[39;00m\u001b[33m-\u001b[39m\u001b[33m%\u001b[39m\u001b[33mm-\u001b[39m\u001b[33m%\u001b[39m\u001b[33mY\u001b[39m\u001b[33m\"\u001b[39m) \u001b[38;5;28;01mfor\u001b[39;00m month \u001b[38;5;129;01min\u001b[39;00m \u001b[38;5;28mrange\u001b[39m(\u001b[32m1\u001b[39m, \u001b[32m13\u001b[39m)]\n\u001b[32m----> \u001b[39m\u001b[32m2\u001b[39m \u001b[43mjim\u001b[49m.properties.setDimension({\u001b[33m'\u001b[39m\u001b[33mband\u001b[39m\u001b[33m'\u001b[39m: [\u001b[33m'\u001b[39m\u001b[33mNDVI\u001b[39m\u001b[33m'\u001b[39m], \u001b[33m'\u001b[39m\u001b[33mplane\u001b[39m\u001b[33m'\u001b[39m: dates})\n",
      "\u001b[31mNameError\u001b[39m: name 'jim' is not defined"
     ]
    }
   ],
   "source": [
    "dates = [datetime.strptime('01-' + str(month) + '-2010', \"%d-%m-%Y\") for month in range(1, 13)]\n",
    "jim.properties.setDimension({'band': ['NDVI'], 'plane': dates})"
   ]
  },
  {
   "cell_type": "code",
   "execution_count": 7,
   "id": "d9b362c0-d50a-48ec-9004-bc852d7164e7",
   "metadata": {
    "execution": {
     "iopub.execute_input": "2025-09-19T07:34:27.821658Z",
     "iopub.status.busy": "2025-09-19T07:34:27.821507Z",
     "iopub.status.idle": "2025-09-19T07:34:27.833571Z",
     "shell.execute_reply": "2025-09-19T07:34:27.833205Z"
    }
   },
   "outputs": [
    {
     "ename": "NameError",
     "evalue": "name 'jim' is not defined",
     "output_type": "error",
     "traceback": [
      "\u001b[31m---------------------------------------------------------------------------\u001b[39m",
      "\u001b[31mNameError\u001b[39m                                 Traceback (most recent call last)",
      "\u001b[36mCell\u001b[39m\u001b[36m \u001b[39m\u001b[32mIn[7]\u001b[39m\u001b[32m, line 1\u001b[39m\n\u001b[32m----> \u001b[39m\u001b[32m1\u001b[39m \u001b[43mjim\u001b[49m.xr()\n",
      "\u001b[31mNameError\u001b[39m: name 'jim' is not defined"
     ]
    }
   ],
   "source": [
    "jim.xr()"
   ]
  },
  {
   "cell_type": "code",
   "execution_count": 8,
   "id": "d8fbc58f-61f3-4f57-9b0a-49bd491f02f0",
   "metadata": {
    "execution": {
     "iopub.execute_input": "2025-09-19T07:34:27.835136Z",
     "iopub.status.busy": "2025-09-19T07:34:27.835002Z",
     "iopub.status.idle": "2025-09-19T07:34:27.849187Z",
     "shell.execute_reply": "2025-09-19T07:34:27.848550Z"
    }
   },
   "outputs": [
    {
     "ename": "NameError",
     "evalue": "name 'jim' is not defined",
     "output_type": "error",
     "traceback": [
      "\u001b[31m---------------------------------------------------------------------------\u001b[39m",
      "\u001b[31mNameError\u001b[39m                                 Traceback (most recent call last)",
      "\u001b[36mCell\u001b[39m\u001b[36m \u001b[39m\u001b[32mIn[8]\u001b[39m\u001b[32m, line 1\u001b[39m\n\u001b[32m----> \u001b[39m\u001b[32m1\u001b[39m \u001b[43mjim\u001b[49m.xr().NDVI.plot(col=\u001b[33m'\u001b[39m\u001b[33mtime\u001b[39m\u001b[33m'\u001b[39m, col_wrap=\u001b[32m6\u001b[39m)\n",
      "\u001b[31mNameError\u001b[39m: name 'jim' is not defined"
     ]
    }
   ],
   "source": [
    "jim.xr().NDVI.plot(col='time', col_wrap=6)"
   ]
  },
  {
   "cell_type": "code",
   "execution_count": 9,
   "id": "63f8de4a-0780-4f35-9ffe-301dd55bde46",
   "metadata": {
    "execution": {
     "iopub.execute_input": "2025-09-19T07:34:27.850826Z",
     "iopub.status.busy": "2025-09-19T07:34:27.850643Z",
     "iopub.status.idle": "2025-09-19T07:34:27.872093Z",
     "shell.execute_reply": "2025-09-19T07:34:27.871597Z"
    }
   },
   "outputs": [
    {
     "ename": "NameError",
     "evalue": "name 'pd' is not defined",
     "output_type": "error",
     "traceback": [
      "\u001b[31m---------------------------------------------------------------------------\u001b[39m",
      "\u001b[31mNameError\u001b[39m                                 Traceback (most recent call last)",
      "\u001b[36mCell\u001b[39m\u001b[36m \u001b[39m\u001b[32mIn[9]\u001b[39m\u001b[32m, line 1\u001b[39m\n\u001b[32m----> \u001b[39m\u001b[32m1\u001b[39m \u001b[43mpd\u001b[49m.DataFrame(reference.dict())\n",
      "\u001b[31mNameError\u001b[39m: name 'pd' is not defined"
     ]
    }
   ],
   "source": [
    "pd.DataFrame(reference.dict())"
   ]
  },
  {
   "cell_type": "code",
   "execution_count": 10,
   "id": "0b61a3c4-1289-400a-bb71-3ce6b03c5ac9",
   "metadata": {
    "execution": {
     "iopub.execute_input": "2025-09-19T07:34:27.873753Z",
     "iopub.status.busy": "2025-09-19T07:34:27.873565Z",
     "iopub.status.idle": "2025-09-19T07:34:27.890607Z",
     "shell.execute_reply": "2025-09-19T07:34:27.890098Z"
    }
   },
   "outputs": [
    {
     "ename": "NameError",
     "evalue": "name 'pj' is not defined",
     "output_type": "error",
     "traceback": [
      "\u001b[31m---------------------------------------------------------------------------\u001b[39m",
      "\u001b[31mNameError\u001b[39m                                 Traceback (most recent call last)",
      "\u001b[36mCell\u001b[39m\u001b[36m \u001b[39m\u001b[32mIn[10]\u001b[39m\u001b[32m, line 1\u001b[39m\n\u001b[32m----> \u001b[39m\u001b[32m1\u001b[39m featurevect = \u001b[43mpj\u001b[49m.geometry.extract(reference, jim, rule=[\u001b[33m'\u001b[39m\u001b[33mallpoints\u001b[39m\u001b[33m'\u001b[39m],\n\u001b[32m      2\u001b[39m                                   output=\u001b[33m'\u001b[39m\u001b[33m/vsimem/features.sqlite\u001b[39m\u001b[33m'\u001b[39m,\n\u001b[32m      3\u001b[39m                                   oformat=\u001b[33m'\u001b[39m\u001b[33mSQLite\u001b[39m\u001b[33m'\u001b[39m,\n\u001b[32m      4\u001b[39m                                   co=[\u001b[33m'\u001b[39m\u001b[33mOVERWRITE=YES\u001b[39m\u001b[33m'\u001b[39m],\n\u001b[32m      5\u001b[39m                                   classes=[\u001b[32m1\u001b[39m, \u001b[32m2\u001b[39m],\n\u001b[32m      6\u001b[39m                                   copy=\u001b[33m'\u001b[39m\u001b[33mlabel\u001b[39m\u001b[33m'\u001b[39m)\n\u001b[32m      7\u001b[39m gdf = gpd.read_file(\u001b[33m'\u001b[39m\u001b[33m/vsimem/features.sqlite\u001b[39m\u001b[33m'\u001b[39m)\n\u001b[32m      8\u001b[39m gdf\n",
      "\u001b[31mNameError\u001b[39m: name 'pj' is not defined"
     ]
    }
   ],
   "source": [
    "featurevect = pj.geometry.extract(reference, jim, rule=['allpoints'],\n",
    "                                  output='/vsimem/features.sqlite',\n",
    "                                  oformat='SQLite',\n",
    "                                  co=['OVERWRITE=YES'],\n",
    "                                  classes=[1, 2],\n",
    "                                  copy='label')\n",
    "gdf = gpd.read_file('/vsimem/features.sqlite')\n",
    "gdf"
   ]
  },
  {
   "cell_type": "code",
   "execution_count": 11,
   "id": "39f069fa-399d-43a9-817d-dab7f4886011",
   "metadata": {
    "execution": {
     "iopub.execute_input": "2025-09-19T07:34:27.892127Z",
     "iopub.status.busy": "2025-09-19T07:34:27.892015Z",
     "iopub.status.idle": "2025-09-19T07:34:27.906336Z",
     "shell.execute_reply": "2025-09-19T07:34:27.905748Z"
    }
   },
   "outputs": [
    {
     "ename": "NameError",
     "evalue": "name 'plt' is not defined",
     "output_type": "error",
     "traceback": [
      "\u001b[31m---------------------------------------------------------------------------\u001b[39m",
      "\u001b[31mNameError\u001b[39m                                 Traceback (most recent call last)",
      "\u001b[36mCell\u001b[39m\u001b[36m \u001b[39m\u001b[32mIn[11]\u001b[39m\u001b[32m, line 1\u001b[39m\n\u001b[32m----> \u001b[39m\u001b[32m1\u001b[39m \u001b[43mplt\u001b[49m.figure(figsize=(\u001b[32m16\u001b[39m, \u001b[32m8\u001b[39m))\n\u001b[32m      2\u001b[39m ax = plt.subplot()\n\u001b[32m      3\u001b[39m jim.xr().NDVI.isel(time = \u001b[32m0\u001b[39m).plot(ax = ax)\n",
      "\u001b[31mNameError\u001b[39m: name 'plt' is not defined"
     ]
    }
   ],
   "source": [
    "plt.figure(figsize=(16, 8))\n",
    "ax = plt.subplot()\n",
    "jim.xr().NDVI.isel(time = 0).plot(ax = ax)\n",
    "gdf.plot(column = 'label', ax = ax, legend = True, categorical=True, cmap='Set1')"
   ]
  },
  {
   "cell_type": "code",
   "execution_count": 12,
   "id": "89f69fb9-f9d3-4161-878e-cdb1d2938993",
   "metadata": {
    "execution": {
     "iopub.execute_input": "2025-09-19T07:34:27.907682Z",
     "iopub.status.busy": "2025-09-19T07:34:27.907557Z",
     "iopub.status.idle": "2025-09-19T07:34:27.919957Z",
     "shell.execute_reply": "2025-09-19T07:34:27.919499Z"
    }
   },
   "outputs": [
    {
     "ename": "NameError",
     "evalue": "name 'pd' is not defined",
     "output_type": "error",
     "traceback": [
      "\u001b[31m---------------------------------------------------------------------------\u001b[39m",
      "\u001b[31mNameError\u001b[39m                                 Traceback (most recent call last)",
      "\u001b[36mCell\u001b[39m\u001b[36m \u001b[39m\u001b[32mIn[12]\u001b[39m\u001b[32m, line 1\u001b[39m\n\u001b[32m----> \u001b[39m\u001b[32m1\u001b[39m \u001b[43mpd\u001b[49m.DataFrame(featurevect.dict())\n",
      "\u001b[31mNameError\u001b[39m: name 'pd' is not defined"
     ]
    }
   ],
   "source": [
    "pd.DataFrame(featurevect.dict())"
   ]
  },
  {
   "cell_type": "markdown",
   "id": "f199150c-ec9e-47e9-a921-da6ce3b4eca2",
   "metadata": {},
   "source": [
    "## Train the model"
   ]
  },
  {
   "cell_type": "code",
   "execution_count": 13,
   "id": "428e7974-5a8b-4884-b415-e69dc5e3c98d",
   "metadata": {
    "execution": {
     "iopub.execute_input": "2025-09-19T07:34:27.921402Z",
     "iopub.status.busy": "2025-09-19T07:34:27.921268Z",
     "iopub.status.idle": "2025-09-19T07:34:27.937607Z",
     "shell.execute_reply": "2025-09-19T07:34:27.937150Z"
    }
   },
   "outputs": [
    {
     "ename": "NameError",
     "evalue": "name 'featurevect' is not defined",
     "output_type": "error",
     "traceback": [
      "\u001b[31m---------------------------------------------------------------------------\u001b[39m",
      "\u001b[31mNameError\u001b[39m                                 Traceback (most recent call last)",
      "\u001b[36mCell\u001b[39m\u001b[36m \u001b[39m\u001b[32mIn[13]\u001b[39m\u001b[32m, line 1\u001b[39m\n\u001b[32m----> \u001b[39m\u001b[32m1\u001b[39m x = \u001b[43mfeaturevect\u001b[49m.np()[:, \u001b[32m1\u001b[39m:]\n\u001b[32m      2\u001b[39m y = featurevect.np()[:, \u001b[32m0\u001b[39m:\u001b[32m1\u001b[39m]\n\u001b[32m      3\u001b[39m x_train, x_test, y_train, y_test = train_test_split(x, y,\n\u001b[32m      4\u001b[39m                                                     test_size=\u001b[32m0.33\u001b[39m,\n\u001b[32m      5\u001b[39m                                                     random_state=\u001b[32m42\u001b[39m)\n",
      "\u001b[31mNameError\u001b[39m: name 'featurevect' is not defined"
     ]
    }
   ],
   "source": [
    "x = featurevect.np()[:, 1:]\n",
    "y = featurevect.np()[:, 0:1]\n",
    "x_train, x_test, y_train, y_test = train_test_split(x, y,\n",
    "                                                    test_size=0.33,\n",
    "                                                    random_state=42)\n",
    "rfModel = RandomForestClassifier(n_estimators=100,\n",
    "                                 max_depth=9,\n",
    "                                 min_samples_leaf=5,\n",
    "                                 min_samples_split=3,\n",
    "                                 criterion='gini')\n",
    "rfModel.fit(x_train, y_train.ravel())"
   ]
  },
  {
   "cell_type": "code",
   "execution_count": 14,
   "id": "87c1348f-1cb9-49e7-8863-3e19c70c93af",
   "metadata": {
    "execution": {
     "iopub.execute_input": "2025-09-19T07:34:27.939232Z",
     "iopub.status.busy": "2025-09-19T07:34:27.939091Z",
     "iopub.status.idle": "2025-09-19T07:34:27.952780Z",
     "shell.execute_reply": "2025-09-19T07:34:27.952255Z"
    }
   },
   "outputs": [
    {
     "ename": "NameError",
     "evalue": "name 'rfModel' is not defined",
     "output_type": "error",
     "traceback": [
      "\u001b[31m---------------------------------------------------------------------------\u001b[39m",
      "\u001b[31mNameError\u001b[39m                                 Traceback (most recent call last)",
      "\u001b[36mCell\u001b[39m\u001b[36m \u001b[39m\u001b[32mIn[14]\u001b[39m\u001b[32m, line 1\u001b[39m\n\u001b[32m----> \u001b[39m\u001b[32m1\u001b[39m y_predict = \u001b[43mrfModel\u001b[49m.predict(x_test)\n\u001b[32m      2\u001b[39m \u001b[38;5;28mprint\u001b[39m(confusion_matrix(y_test, y_predict))\n\u001b[32m      3\u001b[39m \u001b[38;5;28mprint\u001b[39m(\u001b[33m'\u001b[39m\u001b[33maccuracy score: \u001b[39m\u001b[38;5;132;01m{}\u001b[39;00m\u001b[33m'\u001b[39m.format(accuracy_score(y_test, y_predict)))\n",
      "\u001b[31mNameError\u001b[39m: name 'rfModel' is not defined"
     ]
    }
   ],
   "source": [
    "y_predict = rfModel.predict(x_test)\n",
    "print(confusion_matrix(y_test, y_predict))\n",
    "print('accuracy score: {}'.format(accuracy_score(y_test, y_predict)))"
   ]
  },
  {
   "cell_type": "markdown",
   "id": "ba85ab47-957a-4321-a349-6aa282620710",
   "metadata": {},
   "source": [
    "## Prediction"
   ]
  },
  {
   "cell_type": "code",
   "execution_count": 15,
   "id": "d71fbc73-2972-4c8f-a09f-69f1dfdec7fd",
   "metadata": {
    "execution": {
     "iopub.execute_input": "2025-09-19T07:34:27.954416Z",
     "iopub.status.busy": "2025-09-19T07:34:27.954265Z",
     "iopub.status.idle": "2025-09-19T07:34:27.970749Z",
     "shell.execute_reply": "2025-09-19T07:34:27.970291Z"
    }
   },
   "outputs": [
    {
     "ename": "NameError",
     "evalue": "name 'jim' is not defined",
     "output_type": "error",
     "traceback": [
      "\u001b[31m---------------------------------------------------------------------------\u001b[39m",
      "\u001b[31mNameError\u001b[39m                                 Traceback (most recent call last)",
      "\u001b[36mCell\u001b[39m\u001b[36m \u001b[39m\u001b[32mIn[15]\u001b[39m\u001b[32m, line 1\u001b[39m\n\u001b[32m----> \u001b[39m\u001b[32m1\u001b[39m x = \u001b[43mjim\u001b[49m.np()\n\u001b[32m      2\u001b[39m x = x.reshape(jim.properties.nrOfPlane(), jim.properties.nrOfRow() * \\\n\u001b[32m      3\u001b[39m                       jim.properties.nrOfCol()).T\n\u001b[32m      5\u001b[39m jim_class = pj.Jim(ncol=jim.properties.nrOfCol(),\n\u001b[32m      6\u001b[39m                    nrow=jim.properties.nrOfRow(),\n\u001b[32m      7\u001b[39m                    otype=\u001b[33m'\u001b[39m\u001b[33mByte\u001b[39m\u001b[33m'\u001b[39m)\n",
      "\u001b[31mNameError\u001b[39m: name 'jim' is not defined"
     ]
    }
   ],
   "source": [
    "x = jim.np()\n",
    "x = x.reshape(jim.properties.nrOfPlane(), jim.properties.nrOfRow() * \\\n",
    "                      jim.properties.nrOfCol()).T\n",
    "\n",
    "jim_class = pj.Jim(ncol=jim.properties.nrOfCol(),\n",
    "                   nrow=jim.properties.nrOfRow(),\n",
    "                   otype='Byte')\n",
    "jim_class.properties.copyGeoReference(jim)\n",
    "jim_class.np()[:] = rfModel.predict(x).astype(np.dtype(np.uint8)).\\\n",
    "            reshape(jim.properties.nrOfRow(), jim.properties.nrOfCol())\n",
    "jim_class.properties.setDimension(['water'], 'band')"
   ]
  },
  {
   "cell_type": "code",
   "execution_count": 16,
   "id": "0abc73c2-e3f9-4a6a-8782-7d45fbdd256c",
   "metadata": {
    "execution": {
     "iopub.execute_input": "2025-09-19T07:34:27.972377Z",
     "iopub.status.busy": "2025-09-19T07:34:27.972259Z",
     "iopub.status.idle": "2025-09-19T07:34:27.987436Z",
     "shell.execute_reply": "2025-09-19T07:34:27.986873Z"
    }
   },
   "outputs": [
    {
     "ename": "NameError",
     "evalue": "name 'plt' is not defined",
     "output_type": "error",
     "traceback": [
      "\u001b[31m---------------------------------------------------------------------------\u001b[39m",
      "\u001b[31mNameError\u001b[39m                                 Traceback (most recent call last)",
      "\u001b[36mCell\u001b[39m\u001b[36m \u001b[39m\u001b[32mIn[16]\u001b[39m\u001b[32m, line 1\u001b[39m\n\u001b[32m----> \u001b[39m\u001b[32m1\u001b[39m \u001b[43mplt\u001b[49m.figure(figsize=(\u001b[32m20\u001b[39m, \u001b[32m10\u001b[39m))\n\u001b[32m      2\u001b[39m ax1 = plt.subplot(\u001b[32m121\u001b[39m)\n\u001b[32m      3\u001b[39m jim.xr().NDVI.isel(time = \u001b[32m0\u001b[39m).plot(ax = ax1)\n",
      "\u001b[31mNameError\u001b[39m: name 'plt' is not defined"
     ]
    }
   ],
   "source": [
    "plt.figure(figsize=(20, 10))\n",
    "ax1 = plt.subplot(121)\n",
    "jim.xr().NDVI.isel(time = 0).plot(ax = ax1)\n",
    "ax2 = plt.subplot(122)\n",
    "jim_class.xr().water.plot(cmap = 'Set2', levels = [1, 2], ax = ax2)"
   ]
  },
  {
   "cell_type": "markdown",
   "id": "0bc990f9-4c84-4881-85d7-6e92557bfbae",
   "metadata": {
    "tags": []
   },
   "source": [
    "## Exercise 1\n",
    "Use a single feature to train the classifier (e.g., month of June only)  \n",
    "Check the accuracy"
   ]
  },
  {
   "cell_type": "markdown",
   "id": "2c11a3e7-882d-4a30-bb84-a96f2fdb7cac",
   "metadata": {},
   "source": [
    "What is the accuracy?"
   ]
  },
  {
   "cell_type": "markdown",
   "id": "3a7c5ec4-fcc5-4feb-a87f-24811e644873",
   "metadata": {
    "tags": []
   },
   "source": [
    "## Exercise 2\n",
    "Replace the Random Forest with a Support Vector Machine\n",
    "(hint: use the `preprocessing.MinMaxScaler` to scale the input data)"
   ]
  },
  {
   "cell_type": "code",
   "execution_count": 17,
   "id": "d7b8afb3-15ab-434c-9293-44895a8b6cdc",
   "metadata": {
    "execution": {
     "iopub.execute_input": "2025-09-19T07:34:27.988821Z",
     "iopub.status.busy": "2025-09-19T07:34:27.988710Z",
     "iopub.status.idle": "2025-09-19T07:34:28.003032Z",
     "shell.execute_reply": "2025-09-19T07:34:28.002551Z"
    }
   },
   "outputs": [
    {
     "ename": "ModuleNotFoundError",
     "evalue": "No module named 'sklearn'",
     "output_type": "error",
     "traceback": [
      "\u001b[31m---------------------------------------------------------------------------\u001b[39m",
      "\u001b[31mModuleNotFoundError\u001b[39m                       Traceback (most recent call last)",
      "\u001b[36mCell\u001b[39m\u001b[36m \u001b[39m\u001b[32mIn[17]\u001b[39m\u001b[32m, line 1\u001b[39m\n\u001b[32m----> \u001b[39m\u001b[32m1\u001b[39m \u001b[38;5;28;01mfrom\u001b[39;00m\u001b[38;5;250m \u001b[39m\u001b[34;01msklearn\u001b[39;00m\u001b[34;01m.\u001b[39;00m\u001b[34;01msvm\u001b[39;00m\u001b[38;5;250m \u001b[39m\u001b[38;5;28;01mimport\u001b[39;00m SVC\n\u001b[32m      2\u001b[39m \u001b[38;5;28;01mfrom\u001b[39;00m\u001b[38;5;250m \u001b[39m\u001b[34;01msklearn\u001b[39;00m\u001b[38;5;250m \u001b[39m\u001b[38;5;28;01mimport\u001b[39;00m preprocessing\n",
      "\u001b[31mModuleNotFoundError\u001b[39m: No module named 'sklearn'"
     ]
    }
   ],
   "source": [
    "from sklearn.svm import SVC\n",
    "from sklearn import preprocessing"
   ]
  },
  {
   "cell_type": "markdown",
   "id": "a46d633b-9c7b-4cb3-a221-19915b75699b",
   "metadata": {},
   "source": [
    "What is the accuracy?"
   ]
  },
  {
   "cell_type": "code",
   "execution_count": 18,
   "id": "76b1e8d6-05df-4d47-aff8-d4dcabaec18e",
   "metadata": {
    "execution": {
     "iopub.execute_input": "2025-09-19T07:34:28.004523Z",
     "iopub.status.busy": "2025-09-19T07:34:28.004376Z",
     "iopub.status.idle": "2025-09-19T07:34:28.020307Z",
     "shell.execute_reply": "2025-09-19T07:34:28.019797Z"
    }
   },
   "outputs": [
    {
     "ename": "NameError",
     "evalue": "name 'svmModel' is not defined",
     "output_type": "error",
     "traceback": [
      "\u001b[31m---------------------------------------------------------------------------\u001b[39m",
      "\u001b[31mNameError\u001b[39m                                 Traceback (most recent call last)",
      "\u001b[36mCell\u001b[39m\u001b[36m \u001b[39m\u001b[32mIn[18]\u001b[39m\u001b[32m, line 1\u001b[39m\n\u001b[32m----> \u001b[39m\u001b[32m1\u001b[39m y_predict = \u001b[43msvmModel\u001b[49m.predict(preprocessing.MinMaxScaler().fit_transform(x_test))\n\u001b[32m      2\u001b[39m \u001b[38;5;28mprint\u001b[39m(confusion_matrix(y_test, y_predict))\n\u001b[32m      3\u001b[39m \u001b[38;5;28mprint\u001b[39m(\u001b[33m'\u001b[39m\u001b[33maccuracy score: \u001b[39m\u001b[38;5;132;01m{}\u001b[39;00m\u001b[33m'\u001b[39m.format(accuracy_score(y_test, y_predict)))\n",
      "\u001b[31mNameError\u001b[39m: name 'svmModel' is not defined"
     ]
    }
   ],
   "source": [
    "y_predict = svmModel.predict(preprocessing.MinMaxScaler().fit_transform(x_test))\n",
    "print(confusion_matrix(y_test, y_predict))\n",
    "print('accuracy score: {}'.format(accuracy_score(y_test, y_predict)))"
   ]
  },
  {
   "cell_type": "markdown",
   "id": "96e45eb6-b556-4449-9e16-ac50d9fab2a7",
   "metadata": {},
   "source": [
    "Prediction"
   ]
  },
  {
   "cell_type": "code",
   "execution_count": 19,
   "id": "655ca3c4-d2d5-4db7-b3a4-bc9d1d931756",
   "metadata": {
    "execution": {
     "iopub.execute_input": "2025-09-19T07:34:28.021696Z",
     "iopub.status.busy": "2025-09-19T07:34:28.021575Z",
     "iopub.status.idle": "2025-09-19T07:34:28.024434Z",
     "shell.execute_reply": "2025-09-19T07:34:28.024111Z"
    }
   },
   "outputs": [
    {
     "ename": "SyntaxError",
     "evalue": "invalid syntax (1575042382.py, line 9)",
     "output_type": "error",
     "traceback": [
      "  \u001b[36mCell\u001b[39m\u001b[36m \u001b[39m\u001b[32mIn[19]\u001b[39m\u001b[32m, line 9\u001b[39m\n\u001b[31m    \u001b[39m\u001b[31mjim_class.np()[:] =\u001b[39m\n                        ^\n\u001b[31mSyntaxError\u001b[39m\u001b[31m:\u001b[39m invalid syntax\n"
     ]
    }
   ],
   "source": [
    "x = jim.np()\n",
    "x = x.reshape(jim.properties.nrOfPlane(), jim.properties.nrOfRow() * \\\n",
    "              jim.properties.nrOfCol()).T\n",
    "\n",
    "\n",
    "jim_class = pj.Jim(ncol=jim.properties.nrOfCol(),\n",
    "                   nrow=jim.properties.nrOfRow(), otype='Byte')\n",
    "jim_class.properties.copyGeoReference(jim)\n",
    "jim_class.np()[:] = \n",
    "jim_class.properties.setDimension(['water'], 'band')"
   ]
  },
  {
   "cell_type": "markdown",
   "id": "f3440c6c-ff2d-46b2-b2de-934e16a3c495",
   "metadata": {},
   "source": [
    "Plot"
   ]
  },
  {
   "cell_type": "code",
   "execution_count": 20,
   "id": "653c0ae1-ec5c-487d-a3f7-bc0c7a1d64f7",
   "metadata": {
    "execution": {
     "iopub.execute_input": "2025-09-19T07:34:28.025701Z",
     "iopub.status.busy": "2025-09-19T07:34:28.025559Z",
     "iopub.status.idle": "2025-09-19T07:34:28.046294Z",
     "shell.execute_reply": "2025-09-19T07:34:28.045769Z"
    }
   },
   "outputs": [
    {
     "ename": "NameError",
     "evalue": "name 'plt' is not defined",
     "output_type": "error",
     "traceback": [
      "\u001b[31m---------------------------------------------------------------------------\u001b[39m",
      "\u001b[31mNameError\u001b[39m                                 Traceback (most recent call last)",
      "\u001b[36mCell\u001b[39m\u001b[36m \u001b[39m\u001b[32mIn[20]\u001b[39m\u001b[32m, line 1\u001b[39m\n\u001b[32m----> \u001b[39m\u001b[32m1\u001b[39m \u001b[43mplt\u001b[49m.figure(figsize=(\u001b[32m20\u001b[39m, \u001b[32m10\u001b[39m))\n\u001b[32m      2\u001b[39m ax1 = plt.subplot(\u001b[32m121\u001b[39m)\n\u001b[32m      3\u001b[39m jim.xr().NDVI.isel(time = \u001b[32m0\u001b[39m).plot(ax = ax1)\n",
      "\u001b[31mNameError\u001b[39m: name 'plt' is not defined"
     ]
    }
   ],
   "source": [
    "plt.figure(figsize=(20, 10))\n",
    "ax1 = plt.subplot(121)\n",
    "jim.xr().NDVI.isel(time = 0).plot(ax = ax1)\n",
    "ax2 = plt.subplot(122)\n",
    "jim_class.xr().water.plot(cmap = 'Set2', levels = [1, 2], ax = ax2)"
   ]
  }
 ],
 "metadata": {
  "kernelspec": {
   "display_name": "Python 3 (ipykernel)",
   "language": "python",
   "name": "python3"
  },
  "language_info": {
   "codemirror_mode": {
    "name": "ipython",
    "version": 3
   },
   "file_extension": ".py",
   "mimetype": "text/x-python",
   "name": "python",
   "nbconvert_exporter": "python",
   "pygments_lexer": "ipython3",
   "version": "3.12.3"
  }
 },
 "nbformat": 4,
 "nbformat_minor": 5
}
