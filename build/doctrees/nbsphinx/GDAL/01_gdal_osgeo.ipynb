{
 "cells": [
  {
   "cell_type": "markdown",
   "metadata": {},
   "source": [
    "# Use GDAL/OGR for raster/vector operations - osgeo\n",
    "\n",
    "**Setting working directory for the OSGeoLive**\n",
    "\n",
    "[GDAL](https://gdal.org/) is a translator library for raster and vector geospatial data formats that is released under an X/MIT style Open Source License by the Open Source Geospatial Foundation. As a library, it presents a single raster abstract data model and single vector abstract data model to the calling application for all supported formats. It also comes with a variety of useful command line utilities for data translation and processing (source https://gdal.org/).\n",
    "\n",
    "Open the bash terminal, migrate in the directory, and open the jupter-notebook.ipynb\n",
    "\n",
    "    cd $HOME/SE_data/exercise\n",
    "    jupyter-notebook 01_gdal_osgeo.ipynb\n",
    "\n",
    "We are going to use the jupyter-notebook as an editor for running gdal commands. The beauty of using gdal in the bash environment is that we can combine it with other bash utilities such awk, sed, and other."
   ]
  },
  {
   "cell_type": "markdown",
   "metadata": {},
   "source": [
    "## Start to use GDAL commands\n",
    "**Explor the files**\n",
    "\n",
    "Change directory and list all the files with the extension .tif"
   ]
  },
  {
   "cell_type": "code",
   "execution_count": 1,
   "metadata": {},
   "outputs": [
    {
     "name": "stdout",
     "output_type": "stream",
     "text": [
      "/home/user/SE_data/exercise/geodata/cloud/SA_intra.tif\n",
      "/home/user/SE_data/exercise/geodata/cloud/SA_meanannual.tif\n",
      "/home/user/SE_data/exercise/geodata/dem/GMTED2010.tif\n",
      "/home/user/SE_data/exercise/geodata/dem/SA_elevation_mn_GMTED2010_mn.tif\n",
      "/home/user/SE_data/exercise/geodata/landsat_ct/071W_41N_med_B1.tif\n",
      "/home/user/SE_data/exercise/geodata/landsat_ct/071W_42N_med_B1.tif\n",
      "/home/user/SE_data/exercise/geodata/landsat_ct/072W_40N_med_B1.tif\n",
      "/home/user/SE_data/exercise/geodata/landsat_ct/072W_41N_med_B1.tif\n",
      "/home/user/SE_data/exercise/geodata/landsat_ct/072W_42N_med_B1.tif\n",
      "/home/user/SE_data/exercise/geodata/landsat_ct/073W_40N_med_B1.tif\n",
      "/home/user/SE_data/exercise/geodata/landsat_ct/073W_41N_med_B1.tif\n",
      "/home/user/SE_data/exercise/geodata/landsat_ct/073W_42N_med_B1.tif\n",
      "/home/user/SE_data/exercise/geodata/LST/LST_MOYDmax_month10.tif\n",
      "/home/user/SE_data/exercise/geodata/LST/LST_MOYDmax_month11.tif\n",
      "/home/user/SE_data/exercise/geodata/LST/LST_MOYDmax_month12.tif\n",
      "/home/user/SE_data/exercise/geodata/LST/LST_MOYDmax_month1.tif\n",
      "/home/user/SE_data/exercise/geodata/LST/LST_MOYDmax_month2.tif\n",
      "/home/user/SE_data/exercise/geodata/LST/LST_MOYDmax_month3.tif\n",
      "/home/user/SE_data/exercise/geodata/LST/LST_MOYDmax_month4.tif\n",
      "/home/user/SE_data/exercise/geodata/LST/LST_MOYDmax_month5.tif\n",
      "/home/user/SE_data/exercise/geodata/LST/LST_MOYDmax_month6.tif\n",
      "/home/user/SE_data/exercise/geodata/LST/LST_MOYDmax_month7.tif\n",
      "/home/user/SE_data/exercise/geodata/LST/LST_MOYDmax_month8.tif\n",
      "/home/user/SE_data/exercise/geodata/LST/LST_MOYDmax_month9.tif\n",
      "/home/user/SE_data/exercise/geodata/mask/msk_1km.tif\n",
      "/home/user/SE_data/exercise/geodata/SDM/eBirdSampling_filtered_crop.tif\n",
      "/home/user/SE_data/exercise/geodata/SDM/eBirdSampling_filtered.tif\n",
      "/home/user/SE_data/exercise/geodata/temperature/ug_bio_3.tif\n",
      "/home/user/SE_data/exercise/geodata/vegetation/ETmean08-11_01_msk.tif\n",
      "/home/user/SE_data/exercise/geodata/vegetation/ETmean08-11.tif\n",
      "/home/user/SE_data/exercise/geodata/vegetation/ETstdev08-11.tif\n",
      "/home/user/SE_data/exercise/geodata/vegetation/GPPmean08-11.tif\n",
      "/home/user/SE_data/exercise/geodata/vegetation/GPPstdev08-11.tif\n",
      "/home/user/SE_data/exercise/geodata/vegetation/SA_tree_mn_percentage_GFC2013.tif\n"
     ]
    }
   ],
   "source": [
    "!ls $HOME/SE_data/exercise/geodata/*/*.tif"
   ]
  },
  {
   "cell_type": "markdown",
   "metadata": {},
   "source": [
    "Retrive the characteristic of the one tif file "
   ]
  },
  {
   "cell_type": "code",
   "execution_count": 2,
   "metadata": {},
   "outputs": [
    {
     "name": "stdout",
     "output_type": "stream",
     "text": [
      "Driver: GTiff/GeoTIFF\n",
      "Files: geodata/vegetation/ETmean08-11.tif\n",
      "Size is 720, 600\n",
      "Coordinate System is:\n",
      "GEOGCS[\"WGS 84\",\n",
      "    DATUM[\"WGS_1984\",\n",
      "        SPHEROID[\"WGS 84\",6378137,298.257223563,\n",
      "            AUTHORITY[\"EPSG\",\"7030\"]],\n",
      "        AUTHORITY[\"EPSG\",\"6326\"]],\n",
      "    PRIMEM[\"Greenwich\",0],\n",
      "    UNIT[\"degree\",0.0174532925199433],\n",
      "    AUTHORITY[\"EPSG\",\"4326\"]]\n",
      "Origin = (29.000000000000000,4.000000004000000)\n",
      "Pixel Size = (0.008333333340000,-0.008333333340000)\n",
      "Metadata:\n",
      "  AREA_OR_POINT=Area\n",
      "Image Structure Metadata:\n",
      "  COMPRESSION=LZW\n",
      "  INTERLEAVE=BAND\n",
      "Corner Coordinates:\n",
      "Upper Left  (  29.0000000,   4.0000000) ( 29d 0' 0.00\"E,  4d 0' 0.00\"N)\n",
      "Lower Left  (  29.0000000,  -1.0000000) ( 29d 0' 0.00\"E,  1d 0' 0.00\"S)\n",
      "Upper Right (  35.0000000,   4.0000000) ( 35d 0' 0.00\"E,  4d 0' 0.00\"N)\n",
      "Lower Right (  35.0000000,  -1.0000000) ( 35d 0' 0.00\"E,  1d 0' 0.00\"S)\n",
      "Center      (  32.0000000,   1.5000000) ( 32d 0' 0.00\"E,  1d30' 0.00\"N)\n",
      "Band 1 Block=720x2 Type=Float32, ColorInterp=Gray\n",
      "  NoData Value=-3.39999995214436425e+38\n"
     ]
    }
   ],
   "source": [
    "!gdalinfo geodata/vegetation/ETmean08-11.tif"
   ]
  },
  {
   "cell_type": "markdown",
   "metadata": {},
   "source": [
    "Visualize the image"
   ]
  },
  {
   "cell_type": "code",
   "execution_count": 1,
   "metadata": {
    "scrolled": true
   },
   "outputs": [
    {
     "name": "stdout",
     "output_type": "stream",
     "text": [
      "Default software rendering mode (use -h if accelerated video card installed).\n",
      "Loading tools from /usr/bin/openev/tools/Tool_DriverList.py\n",
      "Loading tools from /usr/bin/openev/tools/Tool_Export.py\n",
      "Loading tools from /usr/bin/openev/tools/Tool_ShapesGrid.py\n"
     ]
    }
   ],
   "source": [
    "!  /usr/bin/openev/bin/openev geodata/vegetation/*.tif"
   ]
  },
  {
   "cell_type": "markdown",
   "metadata": {},
   "source": [
    "Reply to the following questions:\\\n",
    "What is the pixel size?\\\n",
    "How do you get min and max pixel values?"
   ]
  },
  {
   "cell_type": "markdown",
   "metadata": {},
   "source": [
    "**Understanding data type**\n",
    "\n",
    "[Numerical System Decimal vs Binary](http://spatial-ecology.net/docs/source/lectures/06_Number_syst_BC.pdf)\n",
    "\n",
    "\n",
    "|                   | Ranges of GDAL data types |                | base^bit | Precision | Image Size |\n",
    "|-------------------|---------------------------|----------------|----------|-----------|------------|\n",
    "| GDAL data type    | Minimum                   | Maximum        |          |           |            |\n",
    "| Byte              |                         0 |            255 | 2^8      |           |    39M |\n",
    "| UInt16            |                         0 |         65,535 | 2^16     |           |    78M |\n",
    "| Int16, CInt16     |                   -32,768 |         32,767 | 2^16     |           |    78M |\n",
    "| UInt32            |                         0 |  4,294,967,295 | 2^32     |           |   155M |\n",
    "| Int32, CInt32     |            -2,147,483,648 |  2,147,483,647 | 2^32     |           |   155M |\n",
    "| Float32, CFloat32 |                   -3.4E38 |         3.4E38 | 2^38     | Integer -16777216 16777216 (2^24) |   155M |\n",
    "| Float64, CFloat64 |                 -1.79E308 |       1.79E308 | 2^308    |           |   309M |\n"
   ]
  },
  {
   "cell_type": "markdown",
   "metadata": {},
   "source": [
    "**Understanding NoData Value**"
   ]
  },
  {
   "cell_type": "code",
   "execution_count": 4,
   "metadata": {},
   "outputs": [
    {
     "name": "stdout",
     "output_type": "stream",
     "text": [
      "Driver: GTiff/GeoTIFF\n",
      "Files: geodata/vegetation/ETmean08-11.tif\n",
      "Size is 720, 600\n",
      "Coordinate System is:\n",
      "GEOGCS[\"WGS 84\",\n",
      "    DATUM[\"WGS_1984\",\n",
      "        SPHEROID[\"WGS 84\",6378137,298.257223563,\n",
      "            AUTHORITY[\"EPSG\",\"7030\"]],\n",
      "        AUTHORITY[\"EPSG\",\"6326\"]],\n",
      "    PRIMEM[\"Greenwich\",0],\n",
      "    UNIT[\"degree\",0.0174532925199433],\n",
      "    AUTHORITY[\"EPSG\",\"4326\"]]\n",
      "Origin = (29.000000000000000,4.000000004000000)\n",
      "Pixel Size = (0.008333333340000,-0.008333333340000)\n",
      "Metadata:\n",
      "  AREA_OR_POINT=Area\n",
      "Image Structure Metadata:\n",
      "  COMPRESSION=LZW\n",
      "  INTERLEAVE=BAND\n",
      "Corner Coordinates:\n",
      "Upper Left  (  29.0000000,   4.0000000) ( 29d 0' 0.00\"E,  4d 0' 0.00\"N)\n",
      "Lower Left  (  29.0000000,  -1.0000000) ( 29d 0' 0.00\"E,  1d 0' 0.00\"S)\n",
      "Upper Right (  35.0000000,   4.0000000) ( 35d 0' 0.00\"E,  4d 0' 0.00\"N)\n",
      "Lower Right (  35.0000000,  -1.0000000) ( 35d 0' 0.00\"E,  1d 0' 0.00\"S)\n",
      "Center      (  32.0000000,   1.5000000) ( 32d 0' 0.00\"E,  1d30' 0.00\"N)\n",
      "Band 1 Block=720x2 Type=Float32, ColorInterp=Gray\n",
      "    Computed Min/Max=0.547,7.492\n",
      "  NoData Value=-3.39999995214436425e+38\n"
     ]
    }
   ],
   "source": [
    "!gdalinfo -mm geodata/vegetation/ETmean08-11.tif"
   ]
  },
  {
   "cell_type": "code",
   "execution_count": 2,
   "metadata": {},
   "outputs": [],
   "source": [
    "!gdal_edit.py -a_nodata -9999 geodata/vegetation/ETmean08-11.tif"
   ]
  },
  {
   "cell_type": "code",
   "execution_count": 3,
   "metadata": {},
   "outputs": [
    {
     "name": "stdout",
     "output_type": "stream",
     "text": [
      "Driver: GTiff/GeoTIFF\n",
      "Files: geodata/vegetation/ETmean08-11.tif\n",
      "Size is 720, 600\n",
      "Coordinate System is:\n",
      "GEOGCS[\"WGS 84\",\n",
      "    DATUM[\"WGS_1984\",\n",
      "        SPHEROID[\"WGS 84\",6378137,298.257223563,\n",
      "            AUTHORITY[\"EPSG\",\"7030\"]],\n",
      "        AUTHORITY[\"EPSG\",\"6326\"]],\n",
      "    PRIMEM[\"Greenwich\",0],\n",
      "    UNIT[\"degree\",0.0174532925199433],\n",
      "    AUTHORITY[\"EPSG\",\"4326\"]]\n",
      "Origin = (29.000000000000000,4.000000004000000)\n",
      "Pixel Size = (0.008333333340000,-0.008333333340000)\n",
      "Metadata:\n",
      "  AREA_OR_POINT=Area\n",
      "Image Structure Metadata:\n",
      "  COMPRESSION=LZW\n",
      "  INTERLEAVE=BAND\n",
      "Corner Coordinates:\n",
      "Upper Left  (  29.0000000,   4.0000000) ( 29d 0' 0.00\"E,  4d 0' 0.00\"N)\n",
      "Lower Left  (  29.0000000,  -1.0000000) ( 29d 0' 0.00\"E,  1d 0' 0.00\"S)\n",
      "Upper Right (  35.0000000,   4.0000000) ( 35d 0' 0.00\"E,  4d 0' 0.00\"N)\n",
      "Lower Right (  35.0000000,  -1.0000000) ( 35d 0' 0.00\"E,  1d 0' 0.00\"S)\n",
      "Center      (  32.0000000,   1.5000000) ( 32d 0' 0.00\"E,  1d30' 0.00\"N)\n",
      "Band 1 Block=720x2 Type=Float32, ColorInterp=Gray\n",
      "    Computed Min/Max=-339999995214436424907732413799364296704.000,7.492\n",
      "  NoData Value=-9999\n"
     ]
    }
   ],
   "source": [
    "!gdalinfo -mm geodata/vegetation/ETmean08-11.tif"
   ]
  },
  {
   "cell_type": "code",
   "execution_count": 5,
   "metadata": {},
   "outputs": [],
   "source": [
    "!gdal_edit.py -a_nodata -339999995214436424907732413799364296704.000    geodata/vegetation/ETmean08-11.tif"
   ]
  },
  {
   "cell_type": "code",
   "execution_count": 8,
   "metadata": {},
   "outputs": [
    {
     "name": "stdout",
     "output_type": "stream",
     "text": [
      "Driver: GTiff/GeoTIFF\n",
      "Files: geodata/vegetation/ETmean08-11.tif\n",
      "Size is 720, 600\n",
      "Coordinate System is:\n",
      "GEOGCS[\"WGS 84\",\n",
      "    DATUM[\"WGS_1984\",\n",
      "        SPHEROID[\"WGS 84\",6378137,298.257223563,\n",
      "            AUTHORITY[\"EPSG\",\"7030\"]],\n",
      "        AUTHORITY[\"EPSG\",\"6326\"]],\n",
      "    PRIMEM[\"Greenwich\",0],\n",
      "    UNIT[\"degree\",0.0174532925199433],\n",
      "    AUTHORITY[\"EPSG\",\"4326\"]]\n",
      "Origin = (29.000000000000000,4.000000004000000)\n",
      "Pixel Size = (0.008333333340000,-0.008333333340000)\n",
      "Metadata:\n",
      "  AREA_OR_POINT=Area\n",
      "Image Structure Metadata:\n",
      "  COMPRESSION=LZW\n",
      "  INTERLEAVE=BAND\n",
      "Corner Coordinates:\n",
      "Upper Left  (  29.0000000,   4.0000000) ( 29d 0' 0.00\"E,  4d 0' 0.00\"N)\n",
      "Lower Left  (  29.0000000,  -1.0000000) ( 29d 0' 0.00\"E,  1d 0' 0.00\"S)\n",
      "Upper Right (  35.0000000,   4.0000000) ( 35d 0' 0.00\"E,  4d 0' 0.00\"N)\n",
      "Lower Right (  35.0000000,  -1.0000000) ( 35d 0' 0.00\"E,  1d 0' 0.00\"S)\n",
      "Center      (  32.0000000,   1.5000000) ( 32d 0' 0.00\"E,  1d30' 0.00\"N)\n",
      "Band 1 Block=720x2 Type=Float32, ColorInterp=Gray\n",
      "    Computed Min/Max=0.547,7.492\n",
      "  NoData Value=-3.39999995214436425e+38\n"
     ]
    }
   ],
   "source": [
    "!gdalinfo -mm geodata/vegetation/ETmean08-11.tif"
   ]
  },
  {
   "cell_type": "markdown",
   "metadata": {},
   "source": [
    "**Calculate minimum and maximum values for all the images**"
   ]
  },
  {
   "cell_type": "code",
   "execution_count": 6,
   "metadata": {},
   "outputs": [
    {
     "name": "stdout",
     "output_type": "stream",
     "text": [
      "    Computed Min/Max=-10.000,5.000\n",
      "    Computed Min/Max=0.547,7.492\n",
      "    Computed Min/Max=0.209,3.332\n",
      "    Computed Min/Max=0.000,9.738\n",
      "    Computed Min/Max=0.000,4.220\n",
      "    Computed Min/Max=0.000,10000.000\n",
      "    Computed Min/Max=0.000,10000.000\n",
      "    Computed Min/Max=0.000,10000.000\n"
     ]
    }
   ],
   "source": [
    "%%bash \n",
    "for file in geodata/vegetation/*.tif ; do \n",
    "gdalinfo  -mm  $file  | grep Computed\n",
    "done"
   ]
  },
  {
   "cell_type": "markdown",
   "metadata": {},
   "source": [
    "**Create a Coefficient of variation**\n",
    "\n",
    "GPPmean08-11.tif temporal mean of Gross Primary Productivity\\\n",
    "GPPstdev08-11.tif temporal standard deviation of Gross Primary Productivity"
   ]
  },
  {
   "cell_type": "code",
   "execution_count": 7,
   "metadata": {},
   "outputs": [
    {
     "name": "stdout",
     "output_type": "stream",
     "text": [
      "0 .. 10 .. 20 .. 30 .. 40 .. 50 .. 60 .. 70 .. 80 .. 90 .. 100 - Done\n"
     ]
    }
   ],
   "source": [
    "%%bash\n",
    "gdal_calc.py --type=Float32 --overwrite  -A geodata/vegetation/GPPstdev08-11.tif -B  geodata/vegetation/GPPmean08-11.tif \\\n",
    "--co=COMPRESS=DEFLATE --co=ZLEVEL=9   --calc=\"( A.astype(float) / ( B.astype(float) + 0.000000001 ) )\" --outfile=geodata/vegetation/GPPcv08-11.tif"
   ]
  },
  {
   "cell_type": "code",
   "execution_count": 8,
   "metadata": {
    "scrolled": true
   },
   "outputs": [
    {
     "name": "stdout",
     "output_type": "stream",
     "text": [
      "Driver: GTiff/GeoTIFF\n",
      "Files: geodata/vegetation/GPPcv08-11.tif\n",
      "Size is 720, 600\n",
      "Coordinate System is:\n",
      "GEOGCS[\"WGS 84\",\n",
      "    DATUM[\"WGS_1984\",\n",
      "        SPHEROID[\"WGS 84\",6378137,298.257223563,\n",
      "            AUTHORITY[\"EPSG\",\"7030\"]],\n",
      "        AUTHORITY[\"EPSG\",\"6326\"]],\n",
      "    PRIMEM[\"Greenwich\",0],\n",
      "    UNIT[\"degree\",0.0174532925199433],\n",
      "    AUTHORITY[\"EPSG\",\"4326\"]]\n",
      "Origin = (29.000000000000000,4.000000004000000)\n",
      "Pixel Size = (0.008333333340000,-0.008333333340000)\n",
      "Metadata:\n",
      "  AREA_OR_POINT=Area\n",
      "Image Structure Metadata:\n",
      "  COMPRESSION=DEFLATE\n",
      "  INTERLEAVE=BAND\n",
      "Corner Coordinates:\n",
      "Upper Left  (  29.0000000,   4.0000000) ( 29d 0' 0.00\"E,  4d 0' 0.00\"N)\n",
      "Lower Left  (  29.0000000,  -1.0000000) ( 29d 0' 0.00\"E,  1d 0' 0.00\"S)\n",
      "Upper Right (  35.0000000,   4.0000000) ( 35d 0' 0.00\"E,  4d 0' 0.00\"N)\n",
      "Lower Right (  35.0000000,  -1.0000000) ( 35d 0' 0.00\"E,  1d 0' 0.00\"S)\n",
      "Center      (  32.0000000,   1.5000000) ( 32d 0' 0.00\"E,  1d30' 0.00\"N)\n",
      "Band 1 Block=720x2 Type=Float32, ColorInterp=Gray\n",
      "    Computed Min/Max=0.000,1.476\n",
      "  NoData Value=3.40282346600000016e+38\n"
     ]
    }
   ],
   "source": [
    "! gdalinfo -mm geodata/vegetation/GPPcv08-11.tif"
   ]
  },
  {
   "cell_type": "markdown",
   "metadata": {},
   "source": [
    "**Change pixel resolution**\n",
    "\n",
    "Looping trough the images"
   ]
  },
  {
   "cell_type": "code",
   "execution_count": 1,
   "metadata": {},
   "outputs": [
    {
     "name": "stdout",
     "output_type": "stream",
     "text": [
      "Creating output file that is 720P x 600L.\n",
      "Processing geodata/LST/LST_MOYDmax_month1.tif [1/1] : 0Using internal nodata values (e.g. -9999) for image geodata/LST/LST_MOYDmax_month1.tif.\n",
      "Copying nodata values from source geodata/LST/LST_MOYDmax_month1.tif to destination geodata/LST/LST_MOYDmax_month1_crop.tif.\n",
      "...10...20...30...40...50...60...70...80...90...100 - done.\n",
      "Creating output file that is 720P x 600L.\n",
      "Processing geodata/LST/LST_MOYDmax_month2.tif [1/1] : 0Using internal nodata values (e.g. -9999) for image geodata/LST/LST_MOYDmax_month2.tif.\n",
      "Copying nodata values from source geodata/LST/LST_MOYDmax_month2.tif to destination geodata/LST/LST_MOYDmax_month2_crop.tif.\n",
      "...10...20...30...40...50...60...70...80...90...100 - done.\n",
      "Creating output file that is 720P x 600L.\n",
      "Processing geodata/LST/LST_MOYDmax_month3.tif [1/1] : 0Using internal nodata values (e.g. -9999) for image geodata/LST/LST_MOYDmax_month3.tif.\n",
      "Copying nodata values from source geodata/LST/LST_MOYDmax_month3.tif to destination geodata/LST/LST_MOYDmax_month3_crop.tif.\n",
      "...10...20...30...40...50...60...70...80...90...100 - done.\n",
      "Creating output file that is 720P x 600L.\n",
      "Processing geodata/LST/LST_MOYDmax_month4.tif [1/1] : 0Using internal nodata values (e.g. -9999) for image geodata/LST/LST_MOYDmax_month4.tif.\n",
      "Copying nodata values from source geodata/LST/LST_MOYDmax_month4.tif to destination geodata/LST/LST_MOYDmax_month4_crop.tif.\n",
      "...10...20...30...40...50...60...70...80...90...100 - done.\n",
      "Creating output file that is 720P x 600L.\n",
      "Processing geodata/LST/LST_MOYDmax_month5.tif [1/1] : 0Using internal nodata values (e.g. -9999) for image geodata/LST/LST_MOYDmax_month5.tif.\n",
      "Copying nodata values from source geodata/LST/LST_MOYDmax_month5.tif to destination geodata/LST/LST_MOYDmax_month5_crop.tif.\n",
      "...10...20...30...40...50...60...70...80...90...100 - done.\n",
      "Creating output file that is 720P x 600L.\n",
      "Processing geodata/LST/LST_MOYDmax_month6.tif [1/1] : 0Using internal nodata values (e.g. -9999) for image geodata/LST/LST_MOYDmax_month6.tif.\n",
      "Copying nodata values from source geodata/LST/LST_MOYDmax_month6.tif to destination geodata/LST/LST_MOYDmax_month6_crop.tif.\n",
      "...10...20...30...40...50...60...70...80...90...100 - done.\n",
      "Creating output file that is 720P x 600L.\n",
      "Processing geodata/LST/LST_MOYDmax_month7.tif [1/1] : 0Using internal nodata values (e.g. -9999) for image geodata/LST/LST_MOYDmax_month7.tif.\n",
      "Copying nodata values from source geodata/LST/LST_MOYDmax_month7.tif to destination geodata/LST/LST_MOYDmax_month7_crop.tif.\n",
      "...10...20...30...40...50...60...70...80...90...100 - done.\n",
      "Creating output file that is 720P x 600L.\n",
      "Processing geodata/LST/LST_MOYDmax_month8.tif [1/1] : 0Using internal nodata values (e.g. -9999) for image geodata/LST/LST_MOYDmax_month8.tif.\n",
      "Copying nodata values from source geodata/LST/LST_MOYDmax_month8.tif to destination geodata/LST/LST_MOYDmax_month8_crop.tif.\n",
      "...10...20...30...40...50...60...70...80...90...100 - done.\n",
      "Creating output file that is 720P x 600L.\n",
      "Processing geodata/LST/LST_MOYDmax_month9.tif [1/1] : 0Using internal nodata values (e.g. -9999) for image geodata/LST/LST_MOYDmax_month9.tif.\n",
      "Copying nodata values from source geodata/LST/LST_MOYDmax_month9.tif to destination geodata/LST/LST_MOYDmax_month9_crop.tif.\n",
      "...10...20...30...40...50...60...70...80...90...100 - done.\n",
      "Creating output file that is 720P x 600L.\n",
      "Processing geodata/LST/LST_MOYDmax_month10.tif [1/1] : 0Using internal nodata values (e.g. -9999) for image geodata/LST/LST_MOYDmax_month10.tif.\n",
      "Copying nodata values from source geodata/LST/LST_MOYDmax_month10.tif to destination geodata/LST/LST_MOYDmax_month10_crop.tif.\n",
      "...10...20...30...40...50...60...70...80...90...100 - done.\n",
      "Creating output file that is 720P x 600L.\n",
      "Processing geodata/LST/LST_MOYDmax_month11.tif [1/1] : 0Using internal nodata values (e.g. -9999) for image geodata/LST/LST_MOYDmax_month11.tif.\n",
      "Copying nodata values from source geodata/LST/LST_MOYDmax_month11.tif to destination geodata/LST/LST_MOYDmax_month11_crop.tif.\n",
      "...10...20...30...40...50...60...70...80...90...100 - done.\n",
      "Creating output file that is 720P x 600L.\n",
      "Processing geodata/LST/LST_MOYDmax_month12.tif [1/1] : 0Using internal nodata values (e.g. -9999) for image geodata/LST/LST_MOYDmax_month12.tif.\n",
      "Copying nodata values from source geodata/LST/LST_MOYDmax_month12.tif to destination geodata/LST/LST_MOYDmax_month12_crop.tif.\n",
      "...10...20...30...40...50...60...70...80...90...100 - done.\n"
     ]
    }
   ],
   "source": [
    "%%bash\n",
    "for file in geodata/LST/LST_MOYDmax_month?.tif geodata/LST/LST_MOYDmax_month??.tif; do \n",
    "  filename=$(basename $file .tif )\n",
    "  gdalwarp -overwrite -te 29 -1 35.0000000048 4.000000004 -tr 0.008333333340000 0.008333333340000 -co COMPRESS=DEFLATE -co ZLEVEL=9 $file geodata/LST/${filename}_crop.tif \n",
    "done"
   ]
  },
  {
   "cell_type": "markdown",
   "metadata": {},
   "source": [
    "**Get value at one pixel/line image-location**\n",
    "\n",
    "Looping trough the images"
   ]
  },
  {
   "cell_type": "code",
   "execution_count": 13,
   "metadata": {},
   "outputs": [
    {
     "name": "stdout",
     "output_type": "stream",
     "text": [
      "Report:\n",
      "  Location: (1079P,0L)\n",
      "  Band 1:\n",
      "    Value: 50.8218383789062\n",
      "Report:\n",
      "  Location: (1079P,0L)\n",
      "  Band 1:\n",
      "    Value: 52.4714660644531\n",
      "Report:\n",
      "  Location: (1079P,0L)\n",
      "  Band 1:\n",
      "    Value: 50.2210998535156\n",
      "Report:\n",
      "  Location: (1079P,0L)\n",
      "  Band 1:\n",
      "    Value: 45.1343078613281\n",
      "Report:\n",
      "  Location: (1079P,0L)\n",
      "  Band 1:\n",
      "    Value: 43.8952941894531\n",
      "Report:\n",
      "  Location: (1079P,0L)\n",
      "  Band 1:\n",
      "    Value: 45.8667602539062\n",
      "Report:\n",
      "  Location: (1079P,0L)\n",
      "  Band 1:\n",
      "    Value: 47.9639892578125\n",
      "Report:\n",
      "  Location: (1079P,0L)\n",
      "  Band 1:\n",
      "    Value: 49.0910339355469\n",
      "Report:\n",
      "  Location: (1079P,0L)\n",
      "  Band 1:\n",
      "    Value: 49.9898986816406\n",
      "Report:\n",
      "  Location: (1079P,0L)\n",
      "  Band 1:\n",
      "    Value: 47.5579528808594\n",
      "Report:\n",
      "  Location: (1079P,0L)\n",
      "  Band 1:\n",
      "    Value: 45.6031494140625\n",
      "Report:\n",
      "  Location: (1079P,0L)\n",
      "  Band 1:\n",
      "    Value: 47.5201110839844\n"
     ]
    }
   ],
   "source": [
    "%%bash \n",
    "for file in geodata/LST/LST_MOYDmax_month?.tif geodata/LST/LST_MOYDmax_month??.tif; do \n",
    "   gdallocationinfo  $file  1079 0 \n",
    "done"
   ]
  },
  {
   "cell_type": "markdown",
   "metadata": {},
   "source": [
    "**Get value at lat/long image-location**\n",
    "\n",
    "Looping trough the images"
   ]
  },
  {
   "cell_type": "code",
   "execution_count": 14,
   "metadata": {},
   "outputs": [
    {
     "name": "stdout",
     "output_type": "stream",
     "text": [
      "37.4764404296875\n",
      "40.2584228515625\n",
      "38.2513122558594\n",
      "33.0213928222656\n",
      "30.0732116699219\n",
      "29.0838928222656\n",
      "28.9105224609375\n",
      "29.6008605957031\n",
      "31.0305480957031\n",
      "30.5758056640625\n",
      "30.636962890625\n",
      "33.5576171875\n"
     ]
    }
   ],
   "source": [
    "%%bash\n",
    "for file in geodata/LST/LST_MOYDmax_month?.tif geodata/LST/LST_MOYDmax_month??.tif; do \n",
    "   gdallocationinfo -valonly -geoloc $file  33.3 2  \n",
    "done"
   ]
  },
  {
   "cell_type": "markdown",
   "metadata": {},
   "source": [
    "**Get value at multiple lat/long image-location**\\"
   ]
  },
  {
   "cell_type": "code",
   "execution_count": 16,
   "metadata": {},
   "outputs": [
    {
     "name": "stdout",
     "output_type": "stream",
     "text": [
      "37.4022827148438\n",
      "35.0345764160156\n",
      "\n",
      "40.3694458007812\n",
      "37.824951171875\n",
      "\n",
      "38.5549926757812\n",
      "36.6663208007812\n",
      "\n",
      "32.7738952636719\n",
      "32.6803283691406\n",
      "\n",
      "29.0351257324219\n",
      "30.0338134765625\n",
      "\n",
      "29.025634765625\n",
      "29.3355102539062\n",
      "\n",
      "29.0183715820312\n",
      "29.4237365722656\n",
      "\n",
      "29.1660461425781\n",
      "29.3502197265625\n",
      "\n",
      "29.6674194335938\n",
      "29.7001647949219\n",
      "\n",
      "28.8177490234375\n",
      "29.066650390625\n",
      "\n",
      "29.2975463867188\n",
      "29.015869140625\n",
      "\n",
      "32.8586730957031\n",
      "31.3289184570312\n",
      "\n"
     ]
    }
   ],
   "source": [
    "%%bash\n",
    "# Create the lat long file \n",
    "echo 32.5 2.5 > geodata/LST/x_y.txt\n",
    "echo 31.1 2.1 >> geodata/LST/x_y.txt\n",
    "# looping trough the images\n",
    "for file in geodata/LST/LST_MOYDmax_month?.tif geodata/LST/LST_MOYDmax_month??.tif; do \n",
    "   gdallocationinfo -valonly -geoloc $file < geodata/LST/x_y.txt  \n",
    "   echo \"\"\n",
    "done"
   ]
  },
  {
   "cell_type": "markdown",
   "metadata": {},
   "source": [
    "**From Image to text and from txt to image**"
   ]
  },
  {
   "cell_type": "code",
   "execution_count": 18,
   "metadata": {},
   "outputs": [
    {
     "name": "stdout",
     "output_type": "stream",
     "text": [
      "Input file size is 720, 600\n",
      "0...10...20...30...40...50...60...70...80...90...100 - done.\n",
      "Input file size is 720, 600\n",
      "0...10...20...30...40...50...60...70...80...90...100 - done.\n"
     ]
    }
   ],
   "source": [
    "%%bash\n",
    "# from tif to 3 col txt XYZ\n",
    "gdal_translate -of  XYZ   geodata/vegetation/ETmean08-11.tif geodata/vegetation/ETmean08-11_crop.txt\n",
    "# masking\n",
    "awk '{if ($3>2 && $3<4) {print $1,$2,50 } else {print}}' geodata/vegetation/ETmean08-11_crop.txt > geodata/vegetation/ETmean08-11_crop_trh.txt\n",
    "# back to tif\n",
    "gdal_translate -co COMPRESS=DEFLATE -co ZLEVEL=9  -ot Byte geodata/vegetation/ETmean08-11_crop_trh.txt geodata/vegetation/ETmean08-11_crop_trh.tif "
   ]
  },
  {
   "cell_type": "markdown",
   "metadata": {},
   "source": [
    "**The use of VRT to stack images and tiling**"
   ]
  },
  {
   "cell_type": "code",
   "execution_count": 19,
   "metadata": {},
   "outputs": [
    {
     "name": "stdout",
     "output_type": "stream",
     "text": [
      "0...10...20...30...40...50...60...70...80...90...100 - done.\n",
      "Driver: VRT/Virtual Raster\n",
      "Files: geodata/vegetation/stack.vrt\n",
      "       geodata/vegetation/ETmean08-11.tif\n",
      "       geodata/vegetation/ETstdev08-11.tif\n",
      "Size is 720, 600\n",
      "Coordinate System is:\n",
      "GEOGCS[\"WGS 84\",\n",
      "    DATUM[\"WGS_1984\",\n",
      "        SPHEROID[\"WGS 84\",6378137,298.257223563,\n",
      "            AUTHORITY[\"EPSG\",\"7030\"]],\n",
      "        AUTHORITY[\"EPSG\",\"6326\"]],\n",
      "    PRIMEM[\"Greenwich\",0],\n",
      "    UNIT[\"degree\",0.0174532925199433],\n",
      "    AUTHORITY[\"EPSG\",\"4326\"]]\n",
      "Origin = (29.000000000000000,4.000000004000000)\n",
      "Pixel Size = (0.008333333340000,-0.008333333340000)\n",
      "Corner Coordinates:\n",
      "Upper Left  (  29.0000000,   4.0000000) ( 29d 0' 0.00\"E,  4d 0' 0.00\"N)\n",
      "Lower Left  (  29.0000000,  -1.0000000) ( 29d 0' 0.00\"E,  1d 0' 0.00\"S)\n",
      "Upper Right (  35.0000000,   4.0000000) ( 35d 0' 0.00\"E,  4d 0' 0.00\"N)\n",
      "Lower Right (  35.0000000,  -1.0000000) ( 35d 0' 0.00\"E,  1d 0' 0.00\"S)\n",
      "Center      (  32.0000000,   1.5000000) ( 32d 0' 0.00\"E,  1d30' 0.00\"N)\n",
      "Band 1 Block=128x128 Type=Float32, ColorInterp=Undefined\n",
      "  NoData Value=-3.39999995214436387e+38\n",
      "Band 2 Block=128x128 Type=Float32, ColorInterp=Undefined\n",
      "  NoData Value=-3.39999995214436387e+38\n"
     ]
    }
   ],
   "source": [
    "%%bash\n",
    "# stck the tif\n",
    "gdalbuildvrt -overwrite -separate geodata/vegetation/stack.vrt geodata/vegetation/ETmean08-11.tif geodata/vegetation/ETstdev08-11.tif\n",
    "gdalinfo geodata/vegetation/stack.vrt"
   ]
  },
  {
   "cell_type": "code",
   "execution_count": 20,
   "metadata": {},
   "outputs": [
    {
     "name": "stdout",
     "output_type": "stream",
     "text": [
      "Input file size is 720, 600\n",
      "0...10...20...30...40...50...60...70...80...90...100 - done.\n",
      "Input file size is 720, 600\n",
      "0...10...20...30...40...50...60...70...80...90...100 - done.\n",
      "Input file size is 720, 600\n",
      "0...10...20...30...40...50...60...70...80...90...100 - done.\n",
      "Input file size is 720, 600\n",
      "0...10...20...30...40...50...60...70...80...90...100 - done.\n",
      "0...10...20...30...40...50...60...70...80...90...100 - done.\n",
      "Input file size is 720, 600\n",
      "0...10...20...30...40...50...60...70...80...90...100 - done.\n"
     ]
    }
   ],
   "source": [
    "%%bash\n",
    "# split in tiles \n",
    "gdal_translate -srcwin 0     0 360 300 geodata/vegetation/stack.vrt geodata/vegetation/stack_UL.tif\n",
    "gdal_translate -srcwin 0   300 360 300 geodata/vegetation/stack.vrt geodata/vegetation/stack_UR.tif\n",
    "gdal_translate -srcwin 360   0 360 300 geodata/vegetation/stack.vrt geodata/vegetation/stack_LL.tif\n",
    "gdal_translate -srcwin 360 300 360 300 geodata/vegetation/stack.vrt geodata/vegetation/stack_LR.tif\n",
    " \n",
    "# recompose the image \n",
    "gdalbuildvrt -overwrite geodata/vegetation/ETmosaic.vrt geodata/vegetation/stack_UL.tif geodata/vegetation/stack_UR.tif geodata/vegetation/stack_LL.tif geodata/vegetation/stack_LR.tif\n",
    "gdal_translate -co COMPRESS=DEFLATE -co ZLEVEL=9 geodata/vegetation/ETmosaic.vrt geodata/vegetation/ETmosaic.tif"
   ]
  },
  {
   "cell_type": "markdown",
   "metadata": {},
   "source": [
    "**Create shp border tiles**"
   ]
  },
  {
   "cell_type": "code",
   "execution_count": 21,
   "metadata": {},
   "outputs": [
    {
     "name": "stdout",
     "output_type": "stream",
     "text": [
      "Creating new index file...\n"
     ]
    }
   ],
   "source": [
    "%%bash\n",
    "rm -f geodata/vegetation/tiles.*\n",
    "gdaltindex  geodata/vegetation/tiles.shp  geodata/vegetation/stack_??.tif"
   ]
  },
  {
   "cell_type": "markdown",
   "metadata": {},
   "source": [
    "**Surface distance/buffer**"
   ]
  },
  {
   "cell_type": "code",
   "execution_count": 22,
   "metadata": {
    "scrolled": true
   },
   "outputs": [
    {
     "name": "stdout",
     "output_type": "stream",
     "text": [
      "0...10...20...30...40...50...60...70...80...90...100 - done.\n"
     ]
    }
   ],
   "source": [
    "%%bash\n",
    "# Continues distance surface\n",
    "gdal_proximity.py -co COMPRESS=DEFLATE -co ZLEVEL=9 -values 0 -distunits PIXEL -ot UInt32 geodata/vegetation/ETmean08-11_crop_trh.tif geodata/vegetation/ETmean08-11_crop_proximity.tif"
   ]
  },
  {
   "cell_type": "code",
   "execution_count": 23,
   "metadata": {},
   "outputs": [
    {
     "name": "stdout",
     "output_type": "stream",
     "text": [
      "0...10...20...30...40...50...60...70...80...90...100 - done.\n"
     ]
    }
   ],
   "source": [
    "%%bash\n",
    "# Fix buffer surface\n",
    "gdal_proximity.py -fixed-buf-val 4 -maxdist 4 -nodata 10 -co COMPRESS=DEFLATE -co ZLEVEL=9 -values 0 -distunits PIXEL -ot Byte geodata/vegetation/ETmean08-11_crop_trh.tif geodata/vegetation/ETmean08-11_crop_buffer.tif"
   ]
  },
  {
   "cell_type": "markdown",
   "metadata": {},
   "source": [
    "**Topography variables**"
   ]
  },
  {
   "cell_type": "code",
   "execution_count": 25,
   "metadata": {},
   "outputs": [
    {
     "name": "stdout",
     "output_type": "stream",
     "text": [
      "0...10...20...30...40...50...60...70...80...90...100 - done.\n",
      "0...10...20...30...40...50...60...70...80...90...100 - done.\n",
      "0...10...20...30...40...50...60...70...80...90...100 - done.\n",
      "0...10...20...30...40...50...60...70...80...90...100 - done.\n",
      "0...10...20...30...40...50...60...70...80...90...100 - done.\n"
     ]
    }
   ],
   "source": [
    "%%bash\n",
    "# calculate  slope \n",
    "gdaldem slope -s 111120 -co COMPRESS=DEFLATE -co ZLEVEL=9 geodata/dem/GMTED2010.tif geodata/dem/slope.tif \n",
    " \n",
    "# calculate  apect\n",
    "gdaldem aspect -zero_for_flat -co COMPRESS=DEFLATE -co ZLEVEL=9 geodata/dem/GMTED2010.tif geodata/dem/aspect.tif \n",
    " \n",
    "# calculate  Terrain Ruggedness Index TRI  \n",
    "gdaldem TRI -co COMPRESS=DEFLATE -co ZLEVEL=9 geodata/dem/GMTED2010.tif geodata/dem/tri.tif \n",
    " \n",
    "# calculate  Topographic Position Index TPI\n",
    "gdaldem TPI -co COMPRESS=DEFLATE -co ZLEVEL=9 geodata/dem/GMTED2010.tif geodata/dem/tpi.tif \n",
    " \n",
    "# calculate  Roughness   \n",
    "gdaldem roughness -co COMPRESS=DEFLATE -co ZLEVEL=9 geodata/dem/GMTED2010.tif geodata/dem/roughness.tif "
   ]
  },
  {
   "cell_type": "markdown",
   "metadata": {},
   "source": [
    "## Start to use OGR Commands\n",
    "**Select a polygon and create a new shape file**"
   ]
  },
  {
   "cell_type": "code",
   "execution_count": 3,
   "metadata": {},
   "outputs": [
    {
     "name": "stdout",
     "output_type": "stream",
     "text": [
      "INFO: Open of `geodata/shp/TM_WORLD_BORDERS.shp'\n",
      "      using driver `ESRI Shapefile' successful.\n",
      "\n",
      "Layer name: TM_WORLD_BORDERS\n",
      "Metadata:\n",
      "  DBF_DATE_LAST_UPDATE=2021-02-09\n",
      "Geometry: Polygon\n",
      "Feature Count: 246\n",
      "Extent: (-180.000000, -90.000000) - (180.000000, 83.623596)\n",
      "Layer SRS WKT:\n",
      "GEOGCS[\"WGS 84\",\n",
      "    DATUM[\"WGS_1984\",\n",
      "        SPHEROID[\"WGS 84\",6378137,298.257223563,\n",
      "            AUTHORITY[\"EPSG\",\"7030\"]],\n",
      "        AUTHORITY[\"EPSG\",\"6326\"]],\n",
      "    PRIMEM[\"Greenwich\",0,\n",
      "        AUTHORITY[\"EPSG\",\"8901\"]],\n",
      "    UNIT[\"degree\",0.0174532925199433,\n",
      "        AUTHORITY[\"EPSG\",\"9122\"]],\n",
      "    AUTHORITY[\"EPSG\",\"4326\"]]\n",
      "FIPS: String (2.0)\n",
      "ISO2: String (2.0)\n",
      "ISO3: String (3.0)\n",
      "UN: Integer (3.0)\n",
      "NAME: String (50.0)\n",
      "AREA: Integer (7.0)\n",
      "POP2005: Integer64 (10.0)\n",
      "REGION: Integer (3.0)\n",
      "SUBREGION: Integer (3.0)\n",
      "LON: Real (8.3)\n",
      "LAT: Real (7.3)\n",
      "OGRFeature(TM_WORLD_BORDERS):0\n",
      "  FIPS (String) = AC\n",
      "  ISO2 (String) = AG\n",
      "  ISO3 (String) = ATG\n",
      "  UN (Integer) = 28\n",
      "  NAME (String) = Antigua and Barbuda\n",
      "  AREA (Integer) = 44\n",
      "  POP2005 (Integer64) = 83039\n",
      "  REGION (Integer) = 19\n",
      "  SUBREGION (Integer) = 29\n",
      "  LON (Real) = -61.783\n",
      "  LAT (Real) = 17.078\n",
      "\n",
      "OGRFeature(TM_WORLD_BORDERS):1\n",
      "  FIPS (String) = AG\n",
      "  ISO2 (String) = DZ\n",
      "  ISO3 (String) = DZA\n",
      "  UN (Integer) = 12\n",
      "  NAME (String) = Algeria\n",
      "  AREA (Integer) = 238174\n",
      "  POP2005 (Integer64) = 32854159\n",
      "  REGION (Integer) = 2\n",
      "  SUBREGION (Integer) = 15\n",
      "  LON (Real) = 2.632\n",
      "  LAT (Real) = 28.163\n",
      "\n",
      "OGRFeature(TM_WORLD_BORDERS):2\n",
      "  FIPS (String) = AJ\n",
      "  ISO2 (String) = AZ\n",
      "  ISO3 (String) = AZE\n",
      "  UN (Integer) = 31\n",
      "  NAME (String) = Azerbaijan\n",
      "  AREA (Integer) = 8260\n",
      "  POP2005 (Integer64) = 8352021\n",
      "  REGION (Integer) = 142\n",
      "  SUBREGION (Integer) = 145\n",
      "  LON (Real) = 47.395\n",
      "  LAT (Real) = 40.430\n",
      "\n",
      "OGRFeature(TM_WORLD_BORDERS):3\n",
      "  FIPS (String) = AL\n",
      "  ISO2 (String) = AL\n",
      "  ISO3 (String) = ALB\n",
      "  UN (Integer) = 8\n",
      "  NAME (String) = Albania\n",
      "  AREA (Integer) = 2740\n",
      "  POP2005 (Integer64) = 3153731\n",
      "  REGION (Integer) = 150\n",
      "  SUBREGION (Integer) = 39\n"
     ]
    }
   ],
   "source": [
    "%%bash\n",
    "ogrinfo -al -geom=NO   geodata/shp/TM_WORLD_BORDERS.shp  | head -80"
   ]
  },
  {
   "cell_type": "code",
   "execution_count": 4,
   "metadata": {
    "scrolled": true
   },
   "outputs": [
    {
     "name": "stdout",
     "output_type": "stream",
     "text": [
      "Default software rendering mode (use -h if accelerated video card installed).\n",
      "Loading tools from /usr/bin/openev/tools/Tool_DriverList.py\n",
      "Loading tools from /usr/bin/openev/tools/Tool_Export.py\n",
      "Loading tools from /usr/bin/openev/tools/Tool_ShapesGrid.py\n"
     ]
    }
   ],
   "source": [
    "%%bash\n",
    "# base on an attribute\n",
    "rm -f shp/TM_UGANDA_BORDERS-0.3.*\n",
    "ogr2ogr  -overwrite  -f \"ESRI Shapefile\"  -where \"NAME = 'Uganda'\" geodata/shp/TM_UGANDA_BORDERS-0.3.shp geodata/shp/TM_WORLD_BORDERS.shp\n",
    "/usr/bin/openev/bin/openev geodata/shp/TM_UGANDA_BORDERS-0.3.shp"
   ]
  },
  {
   "cell_type": "code",
   "execution_count": 5,
   "metadata": {
    "scrolled": true
   },
   "outputs": [
    {
     "name": "stdout",
     "output_type": "stream",
     "text": [
      "Default software rendering mode (use -h if accelerated video card installed).\n",
      "Loading tools from /usr/bin/openev/tools/Tool_DriverList.py\n",
      "Loading tools from /usr/bin/openev/tools/Tool_Export.py\n",
      "Loading tools from /usr/bin/openev/tools/Tool_ShapesGrid.py\n"
     ]
    }
   ],
   "source": [
    "%%bash\n",
    "# base on dimension of the polygons\n",
    "rm -f geodata/shp/TM_LARGE_BORDERS.*\n",
    "ogr2ogr  -overwrite  -f \"ESRI Shapefile\" -sql \"SELECT * FROM TM_WORLD_BORDERS WHERE OGR_GEOM_AREA > 100 \" geodata/shp/TM_LARGE_BORDERS.shp geodata/shp/TM_WORLD_BORDERS.shp\n",
    "/usr/bin/openev/bin/openev geodata/shp/TM_LARGE_BORDERS.shp"
   ]
  },
  {
   "cell_type": "markdown",
   "metadata": {},
   "source": [
    "Remove all the output"
   ]
  },
  {
   "cell_type": "code",
   "execution_count": 26,
   "metadata": {},
   "outputs": [],
   "source": [
    "%%bash\n",
    "rm -f geodata/shp/polygons.sqlite geodata/shp/point-buf_stat.csv geodata/shp/point_stat.csv geodata/vegetation/GPPcv08-11.tif LST/*_crop.tif geodata/vegetation/ETmean08-11_crop_trh.tif geodata/vegetation/ETmean08-11_crop_trh.txt vegetation/ETmean08-11_crop.txt geodata/vegetation/ETmosaic.vrt geodata/vegetation/ETmosaic.tif  geodata/vegetation/stack_??.tif geodata/vegetation/stack.vrt geodata/vegetation/tiles.* geodata/vegetation/ETmean08-11_crop_proximity.tif geodata/vegetation/ETmean08-11_crop_buffer.tif  geodata/dem/slope.tif geodata/dem/aspect.tif  geodata/dem/tri.tif geodata/dem/tpi.tif geodata/dem/roughness.tif geodata/vegetation/ETmean08-11_01_trh?.tif geodata/LST/LST_MOYDmax_month1-msk.tif geodata/LST/LST_MOYDmax_monthStdev.tif geodata/LST/LST_MOYDmax_monthMean.tif geodata/LST/LST_MOYDmax_month_mean_stdev.tif geodata/LST/LST_MOYDmax_month.vrt geodata/LST/LST_MOYDmax_monthMean_aggreate10mean.tif geodata/LST/LST_MOYDmax_monthMean_circular11mean.tif  geodata/temperature/reclass_ug_bio_3.tif geodata/temperature/reclass_ug_bio_3.txt geodata/shp/polygons_stat.csv geodata/shp/polygons_stat.* geodata/shp/TM_LARGE_BORDERS.shp.* geodata/shp/TM_UGANDA_BORDERS-0.3.* geodata/vegetation/ETmean08-11_crop.txt"
   ]
  }
 ],
 "metadata": {
  "kernelspec": {
   "display_name": "Python 3",
   "language": "python",
   "name": "python3"
  },
  "language_info": {
   "codemirror_mode": {
    "name": "ipython",
    "version": 3
   },
   "file_extension": ".py",
   "mimetype": "text/x-python",
   "name": "python",
   "nbconvert_exporter": "python",
   "pygments_lexer": "ipython3",
   "version": "3.8.5"
  }
 },
 "nbformat": 4,
 "nbformat_minor": 4
}
