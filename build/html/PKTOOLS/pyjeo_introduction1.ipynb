{
 "cells": [
  {
   "cell_type": "markdown",
   "metadata": {
    "id": "PBuSNMIUmJ8r"
   },
   "source": [
    "# Introduction to pyjeo"
   ]
  },
  {
   "cell_type": "markdown",
   "metadata": {
    "colab": {
     "base_uri": "https://localhost:8080/"
    },
    "id": "iwhEWdc8mJ80",
    "outputId": "ca7c9db2-f86f-4e73-f30d-9646681353c3"
   },
   "source": [
    "**Material provided by Dr. Pieter Kempeneers (European Commission, Joint Research Centre)**\n",
    "\n",
    "[pyjeo](https://pyjeo.readthedocs.io) is the follow up of [PKTOOLS](http://pktools.nongnu.org/html/index.html), a suite of utilities written in C++ for image processing with a focus on remote sensing applications. It is distributed under a General Public License (GPLv3) as a Python package.\n",
    "\n",
    "In a nutshell, the main differences between pyjeo and pktools from a user's perspective are:\n",
    "\n",
    "- pyjeo is a Python package should be run in a **Python environment**, whereas pktools applications are run from the command line (e.g., in a bash shell)\n",
    "- pyjeo runs with images entirely **in memory**, whereas pktools runs most applications line per line. This makes pyjeo considerably faster, but with a larger memory footprint. However, there are some methods implemented in pyjeo to reduce the memory footprint by tiling the image\n",
    "\n",
    "\n",
    "Run the following script to perform the installation of pyjeo\n",
    "\n",
    "    sudo apt update\n",
    "    sudo apt upgrade -y  \n",
    "    cd ~/Downloads\n",
    "    wget https://raw.githubusercontent.com/selvaje/SE_data/main/exercise/install_pyjeo4osgeo16.sh\n",
    "    ./install_pyjeo4osgeo16.sh\n",
    "\n"
   ]
  },
  {
   "cell_type": "markdown",
   "metadata": {},
   "source": [
    "Import Python modules"
   ]
  },
  {
   "cell_type": "code",
   "execution_count": 1,
   "metadata": {
    "execution": {
     "iopub.execute_input": "2025-09-19T07:34:55.163412Z",
     "iopub.status.busy": "2025-09-19T07:34:55.163025Z",
     "iopub.status.idle": "2025-09-19T07:34:55.173681Z",
     "shell.execute_reply": "2025-09-19T07:34:55.172720Z"
    }
   },
   "outputs": [
    {
     "data": {
      "text/plain": [
       "['/usr/lib/python312.zip',\n",
       " '/usr/lib/python3.12',\n",
       " '/usr/lib/python3.12/lib-dynload',\n",
       " '',\n",
       " '/home/selv/.local/share/pipx/venvs/jupyter-sphinx/lib/python3.12/site-packages',\n",
       " '/home/selv/.local/share/pipx/shared/lib/python3.12/site-packages']"
      ]
     },
     "execution_count": 1,
     "metadata": {},
     "output_type": "execute_result"
    }
   ],
   "source": [
    "# Trick to consider for venv within a notebook: simply use a clean sys.path taken from the shell\n",
    "import sys\n",
    "sys.path"
   ]
  },
  {
   "cell_type": "code",
   "execution_count": 2,
   "metadata": {
    "execution": {
     "iopub.execute_input": "2025-09-19T07:34:55.176555Z",
     "iopub.status.busy": "2025-09-19T07:34:55.176268Z",
     "iopub.status.idle": "2025-09-19T07:34:55.180875Z",
     "shell.execute_reply": "2025-09-19T07:34:55.180016Z"
    }
   },
   "outputs": [],
   "source": [
    "sys.path = ['', '/usr/lib/python310.zip', '/usr/lib/python3.10', '/usr/lib/python3.10/lib-dynload', '/home/user/venv/lib/python3.10/site-packages', '/home/user/.local/lib/python3.10/site-packages', '/home/user/.local/lib/python3.10/site-packages/pyjeo-1.1.2-py3.10.egg', '/home/user/.local/lib/python3.10/site-packages/rioxarray-0.15.5-py3.10.egg', '/home/user/.local/lib/python3.10/site-packages/pyproj-3.6.1-py3.10-linux-x86_64.egg', '/usr/lib/python3/dist-packages', '/usr/local/lib/python3.10/dist-packages', '/usr/lib/python3.10/dist-packages']"
   ]
  },
  {
   "cell_type": "code",
   "execution_count": 3,
   "metadata": {
    "execution": {
     "iopub.execute_input": "2025-09-19T07:34:55.183705Z",
     "iopub.status.busy": "2025-09-19T07:34:55.183452Z",
     "iopub.status.idle": "2025-09-19T07:34:55.188834Z",
     "shell.execute_reply": "2025-09-19T07:34:55.187981Z"
    }
   },
   "outputs": [
    {
     "data": {
      "text/plain": [
       "['',\n",
       " '/usr/lib/python310.zip',\n",
       " '/usr/lib/python3.10',\n",
       " '/usr/lib/python3.10/lib-dynload',\n",
       " '/home/user/venv/lib/python3.10/site-packages',\n",
       " '/home/user/.local/lib/python3.10/site-packages',\n",
       " '/home/user/.local/lib/python3.10/site-packages/pyjeo-1.1.2-py3.10.egg',\n",
       " '/home/user/.local/lib/python3.10/site-packages/rioxarray-0.15.5-py3.10.egg',\n",
       " '/home/user/.local/lib/python3.10/site-packages/pyproj-3.6.1-py3.10-linux-x86_64.egg',\n",
       " '/usr/lib/python3/dist-packages',\n",
       " '/usr/local/lib/python3.10/dist-packages',\n",
       " '/usr/lib/python3.10/dist-packages']"
      ]
     },
     "execution_count": 3,
     "metadata": {},
     "output_type": "execute_result"
    }
   ],
   "source": [
    "sys.path"
   ]
  },
  {
   "cell_type": "code",
   "execution_count": 4,
   "metadata": {
    "execution": {
     "iopub.execute_input": "2025-09-19T07:34:55.191665Z",
     "iopub.status.busy": "2025-09-19T07:34:55.191420Z",
     "iopub.status.idle": "2025-09-19T07:34:55.194922Z",
     "shell.execute_reply": "2025-09-19T07:34:55.193985Z"
    }
   },
   "outputs": [],
   "source": [
    "# from now on all should work as expected..."
   ]
  },
  {
   "cell_type": "code",
   "execution_count": 5,
   "metadata": {
    "execution": {
     "iopub.execute_input": "2025-09-19T07:34:55.197492Z",
     "iopub.status.busy": "2025-09-19T07:34:55.197220Z",
     "iopub.status.idle": "2025-09-19T07:34:55.486715Z",
     "shell.execute_reply": "2025-09-19T07:34:55.486201Z"
    }
   },
   "outputs": [
    {
     "ename": "ModuleNotFoundError",
     "evalue": "No module named 'secrets'",
     "output_type": "error",
     "traceback": [
      "\u001b[31m---------------------------------------------------------------------------\u001b[39m",
      "\u001b[31mModuleNotFoundError\u001b[39m                       Traceback (most recent call last)",
      "\u001b[36mCell\u001b[39m\u001b[36m \u001b[39m\u001b[32mIn[5]\u001b[39m\u001b[32m, line 2\u001b[39m\n\u001b[32m      1\u001b[39m \u001b[38;5;28;01mfrom\u001b[39;00m\u001b[38;5;250m \u001b[39m\u001b[34;01mpathlib\u001b[39;00m\u001b[38;5;250m \u001b[39m\u001b[38;5;28;01mimport\u001b[39;00m Path\n\u001b[32m----> \u001b[39m\u001b[32m2\u001b[39m \u001b[38;5;28;01mimport\u001b[39;00m\u001b[38;5;250m \u001b[39m\u001b[34;01mnumpy\u001b[39;00m\u001b[38;5;250m \u001b[39m\u001b[38;5;28;01mas\u001b[39;00m\u001b[38;5;250m \u001b[39m\u001b[34;01mnp\u001b[39;00m\n\u001b[32m      3\u001b[39m \u001b[38;5;28;01mimport\u001b[39;00m\u001b[38;5;250m \u001b[39m\u001b[34;01mpandas\u001b[39;00m\u001b[38;5;250m \u001b[39m\u001b[38;5;28;01mas\u001b[39;00m\u001b[38;5;250m \u001b[39m\u001b[34;01mpd\u001b[39;00m\n\u001b[32m      4\u001b[39m get_ipython().run_line_magic(\u001b[33m'\u001b[39m\u001b[33mmatplotlib\u001b[39m\u001b[33m'\u001b[39m, \u001b[33m'\u001b[39m\u001b[33minline\u001b[39m\u001b[33m'\u001b[39m)\n",
      "\u001b[36mFile \u001b[39m\u001b[32m/usr/lib/python3/dist-packages/numpy/__init__.py:157\u001b[39m\n\u001b[32m    155\u001b[39m \u001b[38;5;28;01mfrom\u001b[39;00m\u001b[38;5;250m \u001b[39m\u001b[34;01m.\u001b[39;00m\u001b[38;5;250m \u001b[39m\u001b[38;5;28;01mimport\u001b[39;00m fft\n\u001b[32m    156\u001b[39m \u001b[38;5;28;01mfrom\u001b[39;00m\u001b[38;5;250m \u001b[39m\u001b[34;01m.\u001b[39;00m\u001b[38;5;250m \u001b[39m\u001b[38;5;28;01mimport\u001b[39;00m polynomial\n\u001b[32m--> \u001b[39m\u001b[32m157\u001b[39m \u001b[38;5;28;01mfrom\u001b[39;00m\u001b[38;5;250m \u001b[39m\u001b[34;01m.\u001b[39;00m\u001b[38;5;250m \u001b[39m\u001b[38;5;28;01mimport\u001b[39;00m random\n\u001b[32m    158\u001b[39m \u001b[38;5;28;01mfrom\u001b[39;00m\u001b[38;5;250m \u001b[39m\u001b[34;01m.\u001b[39;00m\u001b[38;5;250m \u001b[39m\u001b[38;5;28;01mimport\u001b[39;00m ctypeslib\n\u001b[32m    159\u001b[39m \u001b[38;5;28;01mfrom\u001b[39;00m\u001b[38;5;250m \u001b[39m\u001b[34;01m.\u001b[39;00m\u001b[38;5;250m \u001b[39m\u001b[38;5;28;01mimport\u001b[39;00m ma\n",
      "\u001b[36mFile \u001b[39m\u001b[32m/usr/lib/python3/dist-packages/numpy/random/__init__.py:180\u001b[39m\n\u001b[32m    126\u001b[39m __all__ = [\n\u001b[32m    127\u001b[39m     \u001b[33m'\u001b[39m\u001b[33mbeta\u001b[39m\u001b[33m'\u001b[39m,\n\u001b[32m    128\u001b[39m     \u001b[33m'\u001b[39m\u001b[33mbinomial\u001b[39m\u001b[33m'\u001b[39m,\n\u001b[32m   (...)\u001b[39m\u001b[32m    176\u001b[39m     \u001b[33m'\u001b[39m\u001b[33mzipf\u001b[39m\u001b[33m'\u001b[39m,\n\u001b[32m    177\u001b[39m ]\n\u001b[32m    179\u001b[39m \u001b[38;5;66;03m# add these for module-freeze analysis (like PyInstaller)\u001b[39;00m\n\u001b[32m--> \u001b[39m\u001b[32m180\u001b[39m \u001b[38;5;28;01mfrom\u001b[39;00m\u001b[38;5;250m \u001b[39m\u001b[34;01m.\u001b[39;00m\u001b[38;5;250m \u001b[39m\u001b[38;5;28;01mimport\u001b[39;00m _pickle\n\u001b[32m    181\u001b[39m \u001b[38;5;28;01mfrom\u001b[39;00m\u001b[38;5;250m \u001b[39m\u001b[34;01m.\u001b[39;00m\u001b[38;5;250m \u001b[39m\u001b[38;5;28;01mimport\u001b[39;00m _common\n\u001b[32m    182\u001b[39m \u001b[38;5;28;01mfrom\u001b[39;00m\u001b[38;5;250m \u001b[39m\u001b[34;01m.\u001b[39;00m\u001b[38;5;250m \u001b[39m\u001b[38;5;28;01mimport\u001b[39;00m _bounded_integers\n",
      "\u001b[36mFile \u001b[39m\u001b[32m/usr/lib/python3/dist-packages/numpy/random/_pickle.py:1\u001b[39m\n\u001b[32m----> \u001b[39m\u001b[32m1\u001b[39m \u001b[38;5;28;01mfrom\u001b[39;00m\u001b[38;5;250m \u001b[39m\u001b[34;01m.\u001b[39;00m\u001b[34;01mmtrand\u001b[39;00m\u001b[38;5;250m \u001b[39m\u001b[38;5;28;01mimport\u001b[39;00m RandomState\n\u001b[32m      2\u001b[39m \u001b[38;5;28;01mfrom\u001b[39;00m\u001b[38;5;250m \u001b[39m\u001b[34;01m.\u001b[39;00m\u001b[34;01m_philox\u001b[39;00m\u001b[38;5;250m \u001b[39m\u001b[38;5;28;01mimport\u001b[39;00m Philox\n\u001b[32m      3\u001b[39m \u001b[38;5;28;01mfrom\u001b[39;00m\u001b[38;5;250m \u001b[39m\u001b[34;01m.\u001b[39;00m\u001b[34;01m_pcg64\u001b[39;00m\u001b[38;5;250m \u001b[39m\u001b[38;5;28;01mimport\u001b[39;00m PCG64, PCG64DXSM\n",
      "\u001b[36mFile \u001b[39m\u001b[32mnumpy/random/mtrand.pyx:1\u001b[39m, in \u001b[36minit numpy.random.mtrand\u001b[39m\u001b[34m()\u001b[39m\n",
      "\u001b[36mFile \u001b[39m\u001b[32mbit_generator.pyx:40\u001b[39m, in \u001b[36minit numpy.random.bit_generator\u001b[39m\u001b[34m()\u001b[39m\n",
      "\u001b[31mModuleNotFoundError\u001b[39m: No module named 'secrets'"
     ]
    }
   ],
   "source": [
    "from pathlib import Path\n",
    "import numpy as np\n",
    "import pandas as pd\n",
    "%matplotlib inline\n",
    "import matplotlib.pyplot as plt\n",
    "from datetime import datetime\n",
    "import pyjeo as pj"
   ]
  },
  {
   "cell_type": "markdown",
   "metadata": {},
   "source": [
    "Call the inline help function for [pj.geometry.warp](https://pyjeo.readthedocs.io/en/latest/3_reference.html#geometry.warp)"
   ]
  },
  {
   "cell_type": "code",
   "execution_count": 6,
   "metadata": {
    "execution": {
     "iopub.execute_input": "2025-09-19T07:34:55.488368Z",
     "iopub.status.busy": "2025-09-19T07:34:55.488229Z",
     "iopub.status.idle": "2025-09-19T07:34:55.502882Z",
     "shell.execute_reply": "2025-09-19T07:34:55.502333Z"
    }
   },
   "outputs": [
    {
     "ename": "NameError",
     "evalue": "name 'pj' is not defined",
     "output_type": "error",
     "traceback": [
      "\u001b[31m---------------------------------------------------------------------------\u001b[39m",
      "\u001b[31mNameError\u001b[39m                                 Traceback (most recent call last)",
      "\u001b[36mCell\u001b[39m\u001b[36m \u001b[39m\u001b[32mIn[6]\u001b[39m\u001b[32m, line 1\u001b[39m\n\u001b[32m----> \u001b[39m\u001b[32m1\u001b[39m help(\u001b[43mpj\u001b[49m.geometry.warp)\n",
      "\u001b[31mNameError\u001b[39m: name 'pj' is not defined"
     ]
    }
   ],
   "source": [
    "help(pj.geometry.warp)"
   ]
  },
  {
   "cell_type": "markdown",
   "metadata": {
    "id": "Al7egxCLmJ81"
   },
   "source": [
    "## Jim: a geospatial raster dataset object"
   ]
  },
  {
   "cell_type": "markdown",
   "metadata": {},
   "source": [
    "Open an image and show its properties"
   ]
  },
  {
   "cell_type": "code",
   "execution_count": 7,
   "metadata": {
    "execution": {
     "iopub.execute_input": "2025-09-19T07:34:55.504410Z",
     "iopub.status.busy": "2025-09-19T07:34:55.504290Z",
     "iopub.status.idle": "2025-09-19T07:34:55.517811Z",
     "shell.execute_reply": "2025-09-19T07:34:55.517384Z"
    },
    "id": "wb2l2rt5mJ81",
    "outputId": "4262b7a0-0fd9-4a42-ec86-84457c885e03"
   },
   "outputs": [
    {
     "ename": "NameError",
     "evalue": "name 'pj' is not defined",
     "output_type": "error",
     "traceback": [
      "\u001b[31m---------------------------------------------------------------------------\u001b[39m",
      "\u001b[31mNameError\u001b[39m                                 Traceback (most recent call last)",
      "\u001b[36mCell\u001b[39m\u001b[36m \u001b[39m\u001b[32mIn[7]\u001b[39m\u001b[32m, line 1\u001b[39m\n\u001b[32m----> \u001b[39m\u001b[32m1\u001b[39m jim = \u001b[43mpj\u001b[49m.Jim(\u001b[33m'\u001b[39m\u001b[33mgeodata/vegetation/ETmean08-11.tif\u001b[39m\u001b[33m'\u001b[39m)\n",
      "\u001b[31mNameError\u001b[39m: name 'pj' is not defined"
     ]
    }
   ],
   "source": [
    "jim = pj.Jim('geodata/vegetation/ETmean08-11.tif')"
   ]
  },
  {
   "cell_type": "code",
   "execution_count": 8,
   "metadata": {
    "execution": {
     "iopub.execute_input": "2025-09-19T07:34:55.519271Z",
     "iopub.status.busy": "2025-09-19T07:34:55.519117Z",
     "iopub.status.idle": "2025-09-19T07:34:55.533477Z",
     "shell.execute_reply": "2025-09-19T07:34:55.533042Z"
    }
   },
   "outputs": [
    {
     "ename": "NameError",
     "evalue": "name 'jim' is not defined",
     "output_type": "error",
     "traceback": [
      "\u001b[31m---------------------------------------------------------------------------\u001b[39m",
      "\u001b[31mNameError\u001b[39m                                 Traceback (most recent call last)",
      "\u001b[36mCell\u001b[39m\u001b[36m \u001b[39m\u001b[32mIn[8]\u001b[39m\u001b[32m, line 1\u001b[39m\n\u001b[32m----> \u001b[39m\u001b[32m1\u001b[39m \u001b[43mjim\u001b[49m.properties.nrOfCol()\n",
      "\u001b[31mNameError\u001b[39m: name 'jim' is not defined"
     ]
    }
   ],
   "source": [
    "jim.properties.nrOfCol()"
   ]
  },
  {
   "cell_type": "markdown",
   "metadata": {},
   "source": [
    "A Jim object is a geospatial dataset within a coordinate reference system"
   ]
  },
  {
   "cell_type": "code",
   "execution_count": 9,
   "metadata": {
    "execution": {
     "iopub.execute_input": "2025-09-19T07:34:55.535077Z",
     "iopub.status.busy": "2025-09-19T07:34:55.534911Z",
     "iopub.status.idle": "2025-09-19T07:34:55.548696Z",
     "shell.execute_reply": "2025-09-19T07:34:55.548231Z"
    }
   },
   "outputs": [
    {
     "ename": "NameError",
     "evalue": "name 'jim' is not defined",
     "output_type": "error",
     "traceback": [
      "\u001b[31m---------------------------------------------------------------------------\u001b[39m",
      "\u001b[31mNameError\u001b[39m                                 Traceback (most recent call last)",
      "\u001b[36mCell\u001b[39m\u001b[36m \u001b[39m\u001b[32mIn[9]\u001b[39m\u001b[32m, line 1\u001b[39m\n\u001b[32m----> \u001b[39m\u001b[32m1\u001b[39m \u001b[43mjim\u001b[49m.properties.getProjection()\n",
      "\u001b[31mNameError\u001b[39m: name 'jim' is not defined"
     ]
    }
   ],
   "source": [
    "jim.properties.getProjection()"
   ]
  },
  {
   "cell_type": "markdown",
   "metadata": {},
   "source": [
    "From [gdal](https://gdal.org/tutorials/geotransforms_tut.html#introduction-to-geotransforms): \"A geotransform is an affine transformation from the image coordinate space (row, column), also known as (pixel, line) to the georeferenced coordinate space (projected or geographic coordinates)\"\n",
    "\n",
    "Geotransform is an array with 6 items:\n",
    "\n",
    "[0] top left x\n",
    "\n",
    "[1] w-e pixel resolution\n",
    "\n",
    "[2] rotation, 0 if image is “north up”\n",
    "\n",
    "[3] top left y\n",
    "\n",
    "[4] rotation, 0 if image is “north up”\n",
    "\n",
    "[5] n-s pixel resolution"
   ]
  },
  {
   "cell_type": "code",
   "execution_count": 10,
   "metadata": {
    "execution": {
     "iopub.execute_input": "2025-09-19T07:34:55.550104Z",
     "iopub.status.busy": "2025-09-19T07:34:55.549967Z",
     "iopub.status.idle": "2025-09-19T07:34:55.563687Z",
     "shell.execute_reply": "2025-09-19T07:34:55.563261Z"
    }
   },
   "outputs": [
    {
     "ename": "NameError",
     "evalue": "name 'jim' is not defined",
     "output_type": "error",
     "traceback": [
      "\u001b[31m---------------------------------------------------------------------------\u001b[39m",
      "\u001b[31mNameError\u001b[39m                                 Traceback (most recent call last)",
      "\u001b[36mCell\u001b[39m\u001b[36m \u001b[39m\u001b[32mIn[10]\u001b[39m\u001b[32m, line 1\u001b[39m\n\u001b[32m----> \u001b[39m\u001b[32m1\u001b[39m \u001b[43mjim\u001b[49m.properties.getGeoTransform()\n",
      "\u001b[31mNameError\u001b[39m: name 'jim' is not defined"
     ]
    }
   ],
   "source": [
    "jim.properties.getGeoTransform()"
   ]
  },
  {
   "cell_type": "markdown",
   "metadata": {},
   "source": [
    "We have a single band and single plane raster object"
   ]
  },
  {
   "cell_type": "code",
   "execution_count": 11,
   "metadata": {
    "execution": {
     "iopub.execute_input": "2025-09-19T07:34:55.565192Z",
     "iopub.status.busy": "2025-09-19T07:34:55.565067Z",
     "iopub.status.idle": "2025-09-19T07:34:55.578742Z",
     "shell.execute_reply": "2025-09-19T07:34:55.578295Z"
    }
   },
   "outputs": [
    {
     "ename": "NameError",
     "evalue": "name 'jim' is not defined",
     "output_type": "error",
     "traceback": [
      "\u001b[31m---------------------------------------------------------------------------\u001b[39m",
      "\u001b[31mNameError\u001b[39m                                 Traceback (most recent call last)",
      "\u001b[36mCell\u001b[39m\u001b[36m \u001b[39m\u001b[32mIn[11]\u001b[39m\u001b[32m, line 1\u001b[39m\n\u001b[32m----> \u001b[39m\u001b[32m1\u001b[39m \u001b[43mjim\u001b[49m.properties.nrOfBand()\n",
      "\u001b[31mNameError\u001b[39m: name 'jim' is not defined"
     ]
    }
   ],
   "source": [
    "jim.properties.nrOfBand()"
   ]
  },
  {
   "cell_type": "code",
   "execution_count": 12,
   "metadata": {
    "execution": {
     "iopub.execute_input": "2025-09-19T07:34:55.580340Z",
     "iopub.status.busy": "2025-09-19T07:34:55.580187Z",
     "iopub.status.idle": "2025-09-19T07:34:55.594750Z",
     "shell.execute_reply": "2025-09-19T07:34:55.594337Z"
    }
   },
   "outputs": [
    {
     "ename": "NameError",
     "evalue": "name 'jim' is not defined",
     "output_type": "error",
     "traceback": [
      "\u001b[31m---------------------------------------------------------------------------\u001b[39m",
      "\u001b[31mNameError\u001b[39m                                 Traceback (most recent call last)",
      "\u001b[36mCell\u001b[39m\u001b[36m \u001b[39m\u001b[32mIn[12]\u001b[39m\u001b[32m, line 1\u001b[39m\n\u001b[32m----> \u001b[39m\u001b[32m1\u001b[39m \u001b[43mjim\u001b[49m.properties.nrOfPlane()\n",
      "\u001b[31mNameError\u001b[39m: name 'jim' is not defined"
     ]
    }
   ],
   "source": [
    "jim.properties.nrOfPlane()"
   ]
  },
  {
   "cell_type": "markdown",
   "metadata": {},
   "source": [
    "Open a second GeoTIFF image of the same dimension"
   ]
  },
  {
   "cell_type": "code",
   "execution_count": 13,
   "metadata": {
    "execution": {
     "iopub.execute_input": "2025-09-19T07:34:55.596358Z",
     "iopub.status.busy": "2025-09-19T07:34:55.596228Z",
     "iopub.status.idle": "2025-09-19T07:34:55.609817Z",
     "shell.execute_reply": "2025-09-19T07:34:55.609416Z"
    }
   },
   "outputs": [
    {
     "ename": "NameError",
     "evalue": "name 'pj' is not defined",
     "output_type": "error",
     "traceback": [
      "\u001b[31m---------------------------------------------------------------------------\u001b[39m",
      "\u001b[31mNameError\u001b[39m                                 Traceback (most recent call last)",
      "\u001b[36mCell\u001b[39m\u001b[36m \u001b[39m\u001b[32mIn[13]\u001b[39m\u001b[32m, line 1\u001b[39m\n\u001b[32m----> \u001b[39m\u001b[32m1\u001b[39m gpp = \u001b[43mpj\u001b[49m.Jim(\u001b[33m'\u001b[39m\u001b[33mgeodata/vegetation/GPPmean08-11.tif\u001b[39m\u001b[33m'\u001b[39m)\n",
      "\u001b[31mNameError\u001b[39m: name 'pj' is not defined"
     ]
    }
   ],
   "source": [
    "gpp = pj.Jim('geodata/vegetation/GPPmean08-11.tif')"
   ]
  },
  {
   "cell_type": "markdown",
   "metadata": {},
   "source": [
    "Stack this image to the existing bands of jim, creating a multi-band jim object"
   ]
  },
  {
   "cell_type": "code",
   "execution_count": 14,
   "metadata": {
    "execution": {
     "iopub.execute_input": "2025-09-19T07:34:55.611239Z",
     "iopub.status.busy": "2025-09-19T07:34:55.611113Z",
     "iopub.status.idle": "2025-09-19T07:34:55.624804Z",
     "shell.execute_reply": "2025-09-19T07:34:55.624338Z"
    }
   },
   "outputs": [
    {
     "ename": "NameError",
     "evalue": "name 'jim' is not defined",
     "output_type": "error",
     "traceback": [
      "\u001b[31m---------------------------------------------------------------------------\u001b[39m",
      "\u001b[31mNameError\u001b[39m                                 Traceback (most recent call last)",
      "\u001b[36mCell\u001b[39m\u001b[36m \u001b[39m\u001b[32mIn[14]\u001b[39m\u001b[32m, line 1\u001b[39m\n\u001b[32m----> \u001b[39m\u001b[32m1\u001b[39m \u001b[43mjim\u001b[49m.geometry.stackBand(gpp)\n",
      "\u001b[31mNameError\u001b[39m: name 'jim' is not defined"
     ]
    }
   ],
   "source": [
    "jim.geometry.stackBand(gpp)"
   ]
  },
  {
   "cell_type": "code",
   "execution_count": 15,
   "metadata": {
    "execution": {
     "iopub.execute_input": "2025-09-19T07:34:55.626294Z",
     "iopub.status.busy": "2025-09-19T07:34:55.626170Z",
     "iopub.status.idle": "2025-09-19T07:34:55.640938Z",
     "shell.execute_reply": "2025-09-19T07:34:55.640555Z"
    }
   },
   "outputs": [
    {
     "ename": "NameError",
     "evalue": "name 'jim' is not defined",
     "output_type": "error",
     "traceback": [
      "\u001b[31m---------------------------------------------------------------------------\u001b[39m",
      "\u001b[31mNameError\u001b[39m                                 Traceback (most recent call last)",
      "\u001b[36mCell\u001b[39m\u001b[36m \u001b[39m\u001b[32mIn[15]\u001b[39m\u001b[32m, line 1\u001b[39m\n\u001b[32m----> \u001b[39m\u001b[32m1\u001b[39m \u001b[43mjim\u001b[49m.properties.nrOfBand()\n",
      "\u001b[31mNameError\u001b[39m: name 'jim' is not defined"
     ]
    }
   ],
   "source": [
    "jim.properties.nrOfBand()"
   ]
  },
  {
   "cell_type": "markdown",
   "metadata": {
    "id": "Al7egxCLmJ81"
   },
   "source": [
    "## Exercise 1: stackBand function vs. method"
   ]
  },
  {
   "cell_type": "markdown",
   "metadata": {},
   "source": [
    "Create a new jim object `jim_stacked` using the [stackBand](https://pyjeo.readthedocs.io/en/latest/3_reference.html#geometry.stackBand) function instead of the [stackBand](https://pyjeo.readthedocs.io/en/latest/3_reference.html#geometry._Geometry.stackBand) method. It should contain two bands, one for `ETmean08-11.tif` and one for `GPPmean08-11.tif`."
   ]
  },
  {
   "cell_type": "code",
   "execution_count": 16,
   "metadata": {
    "execution": {
     "iopub.execute_input": "2025-09-19T07:34:55.642386Z",
     "iopub.status.busy": "2025-09-19T07:34:55.642255Z",
     "iopub.status.idle": "2025-09-19T07:34:55.679388Z",
     "shell.execute_reply": "2025-09-19T07:34:55.678869Z"
    }
   },
   "outputs": [
    {
     "ename": "NameError",
     "evalue": "name 'pj' is not defined",
     "output_type": "error",
     "traceback": [
      "\u001b[31m---------------------------------------------------------------------------\u001b[39m",
      "\u001b[31mNameError\u001b[39m                                 Traceback (most recent call last)",
      "\u001b[36mCell\u001b[39m\u001b[36m \u001b[39m\u001b[32mIn[16]\u001b[39m\u001b[32m, line 1\u001b[39m\n\u001b[32m----> \u001b[39m\u001b[32m1\u001b[39m jim_stacked = \u001b[43mpj\u001b[49m.geometry.stackBand(jim, gpp)\n",
      "\u001b[31mNameError\u001b[39m: name 'pj' is not defined"
     ]
    }
   ],
   "source": [
    "jim_stacked = pj.geometry.stackBand(jim, gpp)"
   ]
  },
  {
   "cell_type": "code",
   "execution_count": 17,
   "metadata": {
    "execution": {
     "iopub.execute_input": "2025-09-19T07:34:55.680906Z",
     "iopub.status.busy": "2025-09-19T07:34:55.680786Z",
     "iopub.status.idle": "2025-09-19T07:34:55.693772Z",
     "shell.execute_reply": "2025-09-19T07:34:55.693331Z"
    }
   },
   "outputs": [
    {
     "ename": "NameError",
     "evalue": "name 'jim_stacked' is not defined",
     "output_type": "error",
     "traceback": [
      "\u001b[31m---------------------------------------------------------------------------\u001b[39m",
      "\u001b[31mNameError\u001b[39m                                 Traceback (most recent call last)",
      "\u001b[36mCell\u001b[39m\u001b[36m \u001b[39m\u001b[32mIn[17]\u001b[39m\u001b[32m, line 1\u001b[39m\n\u001b[32m----> \u001b[39m\u001b[32m1\u001b[39m \u001b[43mjim_stacked\u001b[49m.properties.nrOfBand()\n",
      "\u001b[31mNameError\u001b[39m: name 'jim_stacked' is not defined"
     ]
    }
   ],
   "source": [
    "jim_stacked.properties.nrOfBand()"
   ]
  },
  {
   "cell_type": "markdown",
   "metadata": {
    "id": "Al7egxCLmJ81"
   },
   "source": [
    "## Labeled dimensions"
   ]
  },
  {
   "cell_type": "markdown",
   "metadata": {},
   "source": [
    "Let's label the dimensions"
   ]
  },
  {
   "cell_type": "code",
   "execution_count": 18,
   "metadata": {
    "execution": {
     "iopub.execute_input": "2025-09-19T07:34:55.695553Z",
     "iopub.status.busy": "2025-09-19T07:34:55.695413Z",
     "iopub.status.idle": "2025-09-19T07:34:55.710314Z",
     "shell.execute_reply": "2025-09-19T07:34:55.709865Z"
    }
   },
   "outputs": [
    {
     "ename": "NameError",
     "evalue": "name 'datetime' is not defined",
     "output_type": "error",
     "traceback": [
      "\u001b[31m---------------------------------------------------------------------------\u001b[39m",
      "\u001b[31mNameError\u001b[39m                                 Traceback (most recent call last)",
      "\u001b[36mCell\u001b[39m\u001b[36m \u001b[39m\u001b[32mIn[18]\u001b[39m\u001b[32m, line 2\u001b[39m\n\u001b[32m      1\u001b[39m bandnames = [\u001b[33m'\u001b[39m\u001b[33mET\u001b[39m\u001b[33m'\u001b[39m, \u001b[33m'\u001b[39m\u001b[33mGPP\u001b[39m\u001b[33m'\u001b[39m]\n\u001b[32m----> \u001b[39m\u001b[32m2\u001b[39m planenames = [\u001b[43mdatetime\u001b[49m.strptime(\u001b[33m'\u001b[39m\u001b[33m2019-08-11\u001b[39m\u001b[33m'\u001b[39m,\u001b[33m'\u001b[39m\u001b[33m%\u001b[39m\u001b[33mY-\u001b[39m\u001b[33m%\u001b[39m\u001b[33mm-\u001b[39m\u001b[38;5;132;01m%d\u001b[39;00m\u001b[33m'\u001b[39m)]\n\u001b[32m      3\u001b[39m jim.properties.setDimension({\u001b[33m'\u001b[39m\u001b[33mband\u001b[39m\u001b[33m'\u001b[39m : bandnames, \u001b[33m'\u001b[39m\u001b[33mplane\u001b[39m\u001b[33m'\u001b[39m : planenames})\n",
      "\u001b[31mNameError\u001b[39m: name 'datetime' is not defined"
     ]
    }
   ],
   "source": [
    "bandnames = ['ET', 'GPP']\n",
    "planenames = [datetime.strptime('2019-08-11','%Y-%m-%d')]\n",
    "jim.properties.setDimension({'band' : bandnames, 'plane' : planenames})"
   ]
  },
  {
   "cell_type": "code",
   "execution_count": 19,
   "metadata": {
    "execution": {
     "iopub.execute_input": "2025-09-19T07:34:55.711839Z",
     "iopub.status.busy": "2025-09-19T07:34:55.711719Z",
     "iopub.status.idle": "2025-09-19T07:34:55.725945Z",
     "shell.execute_reply": "2025-09-19T07:34:55.725407Z"
    }
   },
   "outputs": [
    {
     "ename": "NameError",
     "evalue": "name 'jim' is not defined",
     "output_type": "error",
     "traceback": [
      "\u001b[31m---------------------------------------------------------------------------\u001b[39m",
      "\u001b[31mNameError\u001b[39m                                 Traceback (most recent call last)",
      "\u001b[36mCell\u001b[39m\u001b[36m \u001b[39m\u001b[32mIn[19]\u001b[39m\u001b[32m, line 1\u001b[39m\n\u001b[32m----> \u001b[39m\u001b[32m1\u001b[39m \u001b[43mjim\u001b[49m.properties.getDimension(\u001b[33m'\u001b[39m\u001b[33mband\u001b[39m\u001b[33m'\u001b[39m)\n",
      "\u001b[31mNameError\u001b[39m: name 'jim' is not defined"
     ]
    }
   ],
   "source": [
    "jim.properties.getDimension('band')"
   ]
  },
  {
   "cell_type": "code",
   "execution_count": 20,
   "metadata": {
    "execution": {
     "iopub.execute_input": "2025-09-19T07:34:55.727442Z",
     "iopub.status.busy": "2025-09-19T07:34:55.727300Z",
     "iopub.status.idle": "2025-09-19T07:34:55.739768Z",
     "shell.execute_reply": "2025-09-19T07:34:55.739319Z"
    }
   },
   "outputs": [
    {
     "ename": "NameError",
     "evalue": "name 'jim' is not defined",
     "output_type": "error",
     "traceback": [
      "\u001b[31m---------------------------------------------------------------------------\u001b[39m",
      "\u001b[31mNameError\u001b[39m                                 Traceback (most recent call last)",
      "\u001b[36mCell\u001b[39m\u001b[36m \u001b[39m\u001b[32mIn[20]\u001b[39m\u001b[32m, line 1\u001b[39m\n\u001b[32m----> \u001b[39m\u001b[32m1\u001b[39m \u001b[38;5;28mlen\u001b[39m(\u001b[43mjim\u001b[49m.properties.getDimension(\u001b[33m'\u001b[39m\u001b[33mplane\u001b[39m\u001b[33m'\u001b[39m))\n",
      "\u001b[31mNameError\u001b[39m: name 'jim' is not defined"
     ]
    }
   ],
   "source": [
    "len(jim.properties.getDimension('plane'))"
   ]
  },
  {
   "cell_type": "markdown",
   "metadata": {
    "id": "Al7egxCLmJ81"
   },
   "source": [
    "## Exercise 2: cropBand using numbered and labeled index"
   ]
  },
  {
   "cell_type": "markdown",
   "metadata": {},
   "source": [
    "Crop second band as a new image (index starts from 0)"
   ]
  },
  {
   "cell_type": "code",
   "execution_count": 21,
   "metadata": {
    "execution": {
     "iopub.execute_input": "2025-09-19T07:34:55.741446Z",
     "iopub.status.busy": "2025-09-19T07:34:55.741332Z",
     "iopub.status.idle": "2025-09-19T07:34:55.754148Z",
     "shell.execute_reply": "2025-09-19T07:34:55.753620Z"
    }
   },
   "outputs": [
    {
     "ename": "NameError",
     "evalue": "name 'pj' is not defined",
     "output_type": "error",
     "traceback": [
      "\u001b[31m---------------------------------------------------------------------------\u001b[39m",
      "\u001b[31mNameError\u001b[39m                                 Traceback (most recent call last)",
      "\u001b[36mCell\u001b[39m\u001b[36m \u001b[39m\u001b[32mIn[21]\u001b[39m\u001b[32m, line 1\u001b[39m\n\u001b[32m----> \u001b[39m\u001b[32m1\u001b[39m jim1 = \u001b[43mpj\u001b[49m.geometry.cropBand(jim, \u001b[32m1\u001b[39m)\n",
      "\u001b[31mNameError\u001b[39m: name 'pj' is not defined"
     ]
    }
   ],
   "source": [
    "jim1 = pj.geometry.cropBand(jim, 1)"
   ]
  },
  {
   "cell_type": "markdown",
   "metadata": {},
   "source": [
    "Create a new jim object `gpp` that contains the second band using the [cropBand]() function and the labeled index ('GPP')"
   ]
  },
  {
   "cell_type": "code",
   "execution_count": 22,
   "metadata": {
    "execution": {
     "iopub.execute_input": "2025-09-19T07:34:55.755774Z",
     "iopub.status.busy": "2025-09-19T07:34:55.755646Z",
     "iopub.status.idle": "2025-09-19T07:34:55.769489Z",
     "shell.execute_reply": "2025-09-19T07:34:55.768875Z"
    }
   },
   "outputs": [
    {
     "ename": "NameError",
     "evalue": "name 'pj' is not defined",
     "output_type": "error",
     "traceback": [
      "\u001b[31m---------------------------------------------------------------------------\u001b[39m",
      "\u001b[31mNameError\u001b[39m                                 Traceback (most recent call last)",
      "\u001b[36mCell\u001b[39m\u001b[36m \u001b[39m\u001b[32mIn[22]\u001b[39m\u001b[32m, line 1\u001b[39m\n\u001b[32m----> \u001b[39m\u001b[32m1\u001b[39m gpp = \u001b[43mpj\u001b[49m.geometry.cropBand(jim, \u001b[33m'\u001b[39m\u001b[33mGPP\u001b[39m\u001b[33m'\u001b[39m)\n",
      "\u001b[31mNameError\u001b[39m: name 'pj' is not defined"
     ]
    }
   ],
   "source": [
    "gpp = pj.geometry.cropBand(jim, 'GPP')"
   ]
  },
  {
   "cell_type": "markdown",
   "metadata": {},
   "source": [
    "Check if results are identical"
   ]
  },
  {
   "cell_type": "code",
   "execution_count": 23,
   "metadata": {
    "execution": {
     "iopub.execute_input": "2025-09-19T07:34:55.771039Z",
     "iopub.status.busy": "2025-09-19T07:34:55.770840Z",
     "iopub.status.idle": "2025-09-19T07:34:55.783312Z",
     "shell.execute_reply": "2025-09-19T07:34:55.782984Z"
    }
   },
   "outputs": [
    {
     "ename": "NameError",
     "evalue": "name 'jim1' is not defined",
     "output_type": "error",
     "traceback": [
      "\u001b[31m---------------------------------------------------------------------------\u001b[39m",
      "\u001b[31mNameError\u001b[39m                                 Traceback (most recent call last)",
      "\u001b[36mCell\u001b[39m\u001b[36m \u001b[39m\u001b[32mIn[23]\u001b[39m\u001b[32m, line 1\u001b[39m\n\u001b[32m----> \u001b[39m\u001b[32m1\u001b[39m \u001b[43mjim1\u001b[49m.properties.isEqual(gpp)\n",
      "\u001b[31mNameError\u001b[39m: name 'jim1' is not defined"
     ]
    }
   ],
   "source": [
    "jim1.properties.isEqual(gpp)"
   ]
  },
  {
   "cell_type": "code",
   "execution_count": 24,
   "metadata": {
    "execution": {
     "iopub.execute_input": "2025-09-19T07:34:55.784896Z",
     "iopub.status.busy": "2025-09-19T07:34:55.784756Z",
     "iopub.status.idle": "2025-09-19T07:34:55.797396Z",
     "shell.execute_reply": "2025-09-19T07:34:55.797059Z"
    }
   },
   "outputs": [
    {
     "ename": "NameError",
     "evalue": "name 'jim1' is not defined",
     "output_type": "error",
     "traceback": [
      "\u001b[31m---------------------------------------------------------------------------\u001b[39m",
      "\u001b[31mNameError\u001b[39m                                 Traceback (most recent call last)",
      "\u001b[36mCell\u001b[39m\u001b[36m \u001b[39m\u001b[32mIn[24]\u001b[39m\u001b[32m, line 1\u001b[39m\n\u001b[32m----> \u001b[39m\u001b[32m1\u001b[39m \u001b[43mjim1\u001b[49m.properties.getDimension()\n",
      "\u001b[31mNameError\u001b[39m: name 'jim1' is not defined"
     ]
    }
   ],
   "source": [
    "jim1.properties.getDimension()"
   ]
  },
  {
   "cell_type": "markdown",
   "metadata": {
    "id": "Al7egxCLmJ81"
   },
   "source": [
    "## Working with multi-plane Jim objects"
   ]
  },
  {
   "cell_type": "markdown",
   "metadata": {},
   "source": [
    "First convert the bands to planes using [band2plane](https://pyjeo.readthedocs.io/en/latest/3_reference.html#geometry._Geometry.band2plane)"
   ]
  },
  {
   "cell_type": "code",
   "execution_count": 25,
   "metadata": {
    "execution": {
     "iopub.execute_input": "2025-09-19T07:34:55.798914Z",
     "iopub.status.busy": "2025-09-19T07:34:55.798785Z",
     "iopub.status.idle": "2025-09-19T07:34:55.812874Z",
     "shell.execute_reply": "2025-09-19T07:34:55.812542Z"
    }
   },
   "outputs": [
    {
     "ename": "NameError",
     "evalue": "name 'jim' is not defined",
     "output_type": "error",
     "traceback": [
      "\u001b[31m---------------------------------------------------------------------------\u001b[39m",
      "\u001b[31mNameError\u001b[39m                                 Traceback (most recent call last)",
      "\u001b[36mCell\u001b[39m\u001b[36m \u001b[39m\u001b[32mIn[25]\u001b[39m\u001b[32m, line 1\u001b[39m\n\u001b[32m----> \u001b[39m\u001b[32m1\u001b[39m \u001b[43mjim\u001b[49m.geometry.band2plane()\n",
      "\u001b[31mNameError\u001b[39m: name 'jim' is not defined"
     ]
    }
   ],
   "source": [
    "jim.geometry.band2plane()"
   ]
  },
  {
   "cell_type": "markdown",
   "metadata": {},
   "source": [
    "The labels of band are copied to plane"
   ]
  },
  {
   "cell_type": "code",
   "execution_count": 26,
   "metadata": {
    "execution": {
     "iopub.execute_input": "2025-09-19T07:34:55.814195Z",
     "iopub.status.busy": "2025-09-19T07:34:55.814080Z",
     "iopub.status.idle": "2025-09-19T07:34:55.827866Z",
     "shell.execute_reply": "2025-09-19T07:34:55.827501Z"
    }
   },
   "outputs": [
    {
     "ename": "NameError",
     "evalue": "name 'jim' is not defined",
     "output_type": "error",
     "traceback": [
      "\u001b[31m---------------------------------------------------------------------------\u001b[39m",
      "\u001b[31mNameError\u001b[39m                                 Traceback (most recent call last)",
      "\u001b[36mCell\u001b[39m\u001b[36m \u001b[39m\u001b[32mIn[26]\u001b[39m\u001b[32m, line 1\u001b[39m\n\u001b[32m----> \u001b[39m\u001b[32m1\u001b[39m \u001b[43mjim\u001b[49m.properties.getDimension()\n",
      "\u001b[31mNameError\u001b[39m: name 'jim' is not defined"
     ]
    }
   ],
   "source": [
    "jim.properties.getDimension()"
   ]
  },
  {
   "cell_type": "markdown",
   "metadata": {
    "id": "Al7egxCLmJ81"
   },
   "source": [
    "## Calculate composites via reducePlane"
   ]
  },
  {
   "cell_type": "markdown",
   "metadata": {},
   "source": [
    "Reduce the planes by calculating the mean of all planes"
   ]
  },
  {
   "cell_type": "code",
   "execution_count": 27,
   "metadata": {
    "execution": {
     "iopub.execute_input": "2025-09-19T07:34:55.829465Z",
     "iopub.status.busy": "2025-09-19T07:34:55.829327Z",
     "iopub.status.idle": "2025-09-19T07:34:55.843460Z",
     "shell.execute_reply": "2025-09-19T07:34:55.843050Z"
    }
   },
   "outputs": [
    {
     "ename": "NameError",
     "evalue": "name 'pj' is not defined",
     "output_type": "error",
     "traceback": [
      "\u001b[31m---------------------------------------------------------------------------\u001b[39m",
      "\u001b[31mNameError\u001b[39m                                 Traceback (most recent call last)",
      "\u001b[36mCell\u001b[39m\u001b[36m \u001b[39m\u001b[32mIn[27]\u001b[39m\u001b[32m, line 1\u001b[39m\n\u001b[32m----> \u001b[39m\u001b[32m1\u001b[39m jim_mean = \u001b[43mpj\u001b[49m.geometry.reducePlane(jim, \u001b[33m'\u001b[39m\u001b[33mmean\u001b[39m\u001b[33m'\u001b[39m)\n",
      "\u001b[31mNameError\u001b[39m: name 'pj' is not defined"
     ]
    }
   ],
   "source": [
    "jim_mean = pj.geometry.reducePlane(jim, 'mean')"
   ]
  },
  {
   "cell_type": "markdown",
   "metadata": {},
   "source": [
    "Where is the RuntimeWarning coming from?"
   ]
  },
  {
   "cell_type": "code",
   "execution_count": 28,
   "metadata": {
    "execution": {
     "iopub.execute_input": "2025-09-19T07:34:55.844824Z",
     "iopub.status.busy": "2025-09-19T07:34:55.844690Z",
     "iopub.status.idle": "2025-09-19T07:34:55.857708Z",
     "shell.execute_reply": "2025-09-19T07:34:55.857230Z"
    }
   },
   "outputs": [
    {
     "ename": "NameError",
     "evalue": "name 'jim' is not defined",
     "output_type": "error",
     "traceback": [
      "\u001b[31m---------------------------------------------------------------------------\u001b[39m",
      "\u001b[31mNameError\u001b[39m                                 Traceback (most recent call last)",
      "\u001b[36mCell\u001b[39m\u001b[36m \u001b[39m\u001b[32mIn[28]\u001b[39m\u001b[32m, line 1\u001b[39m\n\u001b[32m----> \u001b[39m\u001b[32m1\u001b[39m \u001b[43mjim\u001b[49m.stats.getStats()\n",
      "\u001b[31mNameError\u001b[39m: name 'jim' is not defined"
     ]
    }
   ],
   "source": [
    "jim.stats.getStats()"
   ]
  },
  {
   "cell_type": "code",
   "execution_count": 29,
   "metadata": {
    "execution": {
     "iopub.execute_input": "2025-09-19T07:34:55.859216Z",
     "iopub.status.busy": "2025-09-19T07:34:55.859099Z",
     "iopub.status.idle": "2025-09-19T07:34:55.874175Z",
     "shell.execute_reply": "2025-09-19T07:34:55.873740Z"
    }
   },
   "outputs": [
    {
     "ename": "NameError",
     "evalue": "name 'jim' is not defined",
     "output_type": "error",
     "traceback": [
      "\u001b[31m---------------------------------------------------------------------------\u001b[39m",
      "\u001b[31mNameError\u001b[39m                                 Traceback (most recent call last)",
      "\u001b[36mCell\u001b[39m\u001b[36m \u001b[39m\u001b[32mIn[29]\u001b[39m\u001b[32m, line 1\u001b[39m\n\u001b[32m----> \u001b[39m\u001b[32m1\u001b[39m \u001b[43mjim\u001b[49m[jim < \u001b[32m0\u001b[39m] = \u001b[32m0\u001b[39m\n\u001b[32m      2\u001b[39m jim.stats.getStats()\n",
      "\u001b[31mNameError\u001b[39m: name 'jim' is not defined"
     ]
    }
   ],
   "source": [
    "jim[jim < 0] = 0\n",
    "jim.stats.getStats()"
   ]
  },
  {
   "cell_type": "code",
   "execution_count": 30,
   "metadata": {
    "execution": {
     "iopub.execute_input": "2025-09-19T07:34:55.875644Z",
     "iopub.status.busy": "2025-09-19T07:34:55.875501Z",
     "iopub.status.idle": "2025-09-19T07:34:55.889152Z",
     "shell.execute_reply": "2025-09-19T07:34:55.888706Z"
    }
   },
   "outputs": [
    {
     "ename": "NameError",
     "evalue": "name 'pj' is not defined",
     "output_type": "error",
     "traceback": [
      "\u001b[31m---------------------------------------------------------------------------\u001b[39m",
      "\u001b[31mNameError\u001b[39m                                 Traceback (most recent call last)",
      "\u001b[36mCell\u001b[39m\u001b[36m \u001b[39m\u001b[32mIn[30]\u001b[39m\u001b[32m, line 1\u001b[39m\n\u001b[32m----> \u001b[39m\u001b[32m1\u001b[39m jim_mean = \u001b[43mpj\u001b[49m.geometry.reducePlane(jim, \u001b[33m'\u001b[39m\u001b[33mmean\u001b[39m\u001b[33m'\u001b[39m)\n",
      "\u001b[31mNameError\u001b[39m: name 'pj' is not defined"
     ]
    }
   ],
   "source": [
    "jim_mean = pj.geometry.reducePlane(jim, 'mean')"
   ]
  },
  {
   "cell_type": "markdown",
   "metadata": {
    "id": "Al7egxCLmJ81"
   },
   "source": [
    "### Calculate custom composites via callback function in reducePlane"
   ]
  },
  {
   "cell_type": "code",
   "execution_count": 31,
   "metadata": {
    "execution": {
     "iopub.execute_input": "2025-09-19T07:34:55.890788Z",
     "iopub.status.busy": "2025-09-19T07:34:55.890652Z",
     "iopub.status.idle": "2025-09-19T07:34:55.904718Z",
     "shell.execute_reply": "2025-09-19T07:34:55.904327Z"
    }
   },
   "outputs": [
    {
     "ename": "NameError",
     "evalue": "name 'pj' is not defined",
     "output_type": "error",
     "traceback": [
      "\u001b[31m---------------------------------------------------------------------------\u001b[39m",
      "\u001b[31mNameError\u001b[39m                                 Traceback (most recent call last)",
      "\u001b[36mCell\u001b[39m\u001b[36m \u001b[39m\u001b[32mIn[31]\u001b[39m\u001b[32m, line 3\u001b[39m\n\u001b[32m      1\u001b[39m \u001b[38;5;28;01mdef\u001b[39;00m\u001b[38;5;250m \u001b[39m\u001b[34mgetMax\u001b[39m(reduced, plane):\n\u001b[32m      2\u001b[39m     \u001b[38;5;28;01mreturn\u001b[39;00m pj.pixops.supremum(reduced, plane)\n\u001b[32m----> \u001b[39m\u001b[32m3\u001b[39m jim_max = \u001b[43mpj\u001b[49m.geometry.reducePlane(jim, getMax)\n",
      "\u001b[31mNameError\u001b[39m: name 'pj' is not defined"
     ]
    }
   ],
   "source": [
    "def getMax(reduced, plane):\n",
    "    return pj.pixops.supremum(reduced, plane)\n",
    "jim_max = pj.geometry.reducePlane(jim, getMax)"
   ]
  },
  {
   "cell_type": "markdown",
   "metadata": {},
   "source": [
    "Crop the plane `ET` from `jim` using the method [cropPlane](https://pyjeo.readthedocs.io/en/latest/3_reference.html#geometry._Geometry.cropPlane). Check the resulting `jim` is a single plane and single band Jim object"
   ]
  },
  {
   "cell_type": "code",
   "execution_count": 32,
   "metadata": {
    "execution": {
     "iopub.execute_input": "2025-09-19T07:34:55.906060Z",
     "iopub.status.busy": "2025-09-19T07:34:55.905938Z",
     "iopub.status.idle": "2025-09-19T07:34:55.920441Z",
     "shell.execute_reply": "2025-09-19T07:34:55.919997Z"
    }
   },
   "outputs": [
    {
     "ename": "NameError",
     "evalue": "name 'jim' is not defined",
     "output_type": "error",
     "traceback": [
      "\u001b[31m---------------------------------------------------------------------------\u001b[39m",
      "\u001b[31mNameError\u001b[39m                                 Traceback (most recent call last)",
      "\u001b[36mCell\u001b[39m\u001b[36m \u001b[39m\u001b[32mIn[32]\u001b[39m\u001b[32m, line 2\u001b[39m\n\u001b[32m      1\u001b[39m \u001b[38;5;66;03m# original code by Pieter...\u001b[39;00m\n\u001b[32m----> \u001b[39m\u001b[32m2\u001b[39m \u001b[43mjim\u001b[49m.geometry.cropPlane(\u001b[33m'\u001b[39m\u001b[33mET\u001b[39m\u001b[33m'\u001b[39m)\n\u001b[32m      3\u001b[39m \u001b[38;5;28mprint\u001b[39m(jim.properties.nrOfPlane())\n\u001b[32m      4\u001b[39m \u001b[38;5;28mprint\u001b[39m(jim.properties.nrOfBand())\n",
      "\u001b[31mNameError\u001b[39m: name 'jim' is not defined"
     ]
    }
   ],
   "source": [
    "# original code by Pieter...\n",
    "jim.geometry.cropPlane('ET')\n",
    "print(jim.properties.nrOfPlane())\n",
    "print(jim.properties.nrOfBand())"
   ]
  },
  {
   "cell_type": "code",
   "execution_count": 33,
   "metadata": {
    "execution": {
     "iopub.execute_input": "2025-09-19T07:34:55.921725Z",
     "iopub.status.busy": "2025-09-19T07:34:55.921601Z",
     "iopub.status.idle": "2025-09-19T07:34:55.937582Z",
     "shell.execute_reply": "2025-09-19T07:34:55.937106Z"
    }
   },
   "outputs": [
    {
     "ename": "NameError",
     "evalue": "name 'jim' is not defined",
     "output_type": "error",
     "traceback": [
      "\u001b[31m---------------------------------------------------------------------------\u001b[39m",
      "\u001b[31mNameError\u001b[39m                                 Traceback (most recent call last)",
      "\u001b[36mCell\u001b[39m\u001b[36m \u001b[39m\u001b[32mIn[33]\u001b[39m\u001b[32m, line 2\u001b[39m\n\u001b[32m      1\u001b[39m \u001b[38;5;66;03m# A little fix...\u001b[39;00m\n\u001b[32m----> \u001b[39m\u001b[32m2\u001b[39m \u001b[43mjim\u001b[49m.geometry.cropPlane(\u001b[32m0\u001b[39m)\n\u001b[32m      3\u001b[39m \u001b[38;5;28mprint\u001b[39m(jim.properties.nrOfPlane())\n\u001b[32m      4\u001b[39m \u001b[38;5;28mprint\u001b[39m(jim.properties.nrOfBand())\n",
      "\u001b[31mNameError\u001b[39m: name 'jim' is not defined"
     ]
    }
   ],
   "source": [
    "# A little fix...\n",
    "jim.geometry.cropPlane(0)\n",
    "print(jim.properties.nrOfPlane())\n",
    "print(jim.properties.nrOfBand())"
   ]
  },
  {
   "cell_type": "code",
   "execution_count": 34,
   "metadata": {
    "execution": {
     "iopub.execute_input": "2025-09-19T07:34:55.938964Z",
     "iopub.status.busy": "2025-09-19T07:34:55.938839Z",
     "iopub.status.idle": "2025-09-19T07:34:55.954541Z",
     "shell.execute_reply": "2025-09-19T07:34:55.954136Z"
    }
   },
   "outputs": [
    {
     "ename": "NameError",
     "evalue": "name 'jim' is not defined",
     "output_type": "error",
     "traceback": [
      "\u001b[31m---------------------------------------------------------------------------\u001b[39m",
      "\u001b[31mNameError\u001b[39m                                 Traceback (most recent call last)",
      "\u001b[36mCell\u001b[39m\u001b[36m \u001b[39m\u001b[32mIn[34]\u001b[39m\u001b[32m, line 1\u001b[39m\n\u001b[32m----> \u001b[39m\u001b[32m1\u001b[39m \u001b[43mjim\u001b[49m.geometry.plane2band()\n\u001b[32m      2\u001b[39m bandnames = [\u001b[33m'\u001b[39m\u001b[33mET\u001b[39m\u001b[33m'\u001b[39m]\n\u001b[32m      3\u001b[39m planenames = [datetime.strptime(\u001b[33m'\u001b[39m\u001b[33m2019-08-11\u001b[39m\u001b[33m'\u001b[39m,\u001b[33m'\u001b[39m\u001b[33m%\u001b[39m\u001b[33mY-\u001b[39m\u001b[33m%\u001b[39m\u001b[33mm-\u001b[39m\u001b[38;5;132;01m%d\u001b[39;00m\u001b[33m'\u001b[39m)]\n",
      "\u001b[31mNameError\u001b[39m: name 'jim' is not defined"
     ]
    }
   ],
   "source": [
    "jim.geometry.plane2band()\n",
    "bandnames = ['ET']\n",
    "planenames = [datetime.strptime('2019-08-11','%Y-%m-%d')]\n",
    "jim.properties.setDimension({'band' : bandnames, 'plane' : planenames})"
   ]
  },
  {
   "cell_type": "markdown",
   "metadata": {},
   "source": [
    "## Bridging to third party libraries: Numpy"
   ]
  },
  {
   "cell_type": "code",
   "execution_count": 35,
   "metadata": {
    "execution": {
     "iopub.execute_input": "2025-09-19T07:34:55.955866Z",
     "iopub.status.busy": "2025-09-19T07:34:55.955746Z",
     "iopub.status.idle": "2025-09-19T07:34:55.969755Z",
     "shell.execute_reply": "2025-09-19T07:34:55.969354Z"
    },
    "scrolled": true
   },
   "outputs": [
    {
     "ename": "NameError",
     "evalue": "name 'jim' is not defined",
     "output_type": "error",
     "traceback": [
      "\u001b[31m---------------------------------------------------------------------------\u001b[39m",
      "\u001b[31mNameError\u001b[39m                                 Traceback (most recent call last)",
      "\u001b[36mCell\u001b[39m\u001b[36m \u001b[39m\u001b[32mIn[35]\u001b[39m\u001b[32m, line 1\u001b[39m\n\u001b[32m----> \u001b[39m\u001b[32m1\u001b[39m \u001b[43mjim\u001b[49m.np()\n",
      "\u001b[31mNameError\u001b[39m: name 'jim' is not defined"
     ]
    }
   ],
   "source": [
    "jim.np()"
   ]
  },
  {
   "cell_type": "markdown",
   "metadata": {},
   "source": [
    "Check the type of jim.np()"
   ]
  },
  {
   "cell_type": "code",
   "execution_count": 36,
   "metadata": {
    "execution": {
     "iopub.execute_input": "2025-09-19T07:34:55.971213Z",
     "iopub.status.busy": "2025-09-19T07:34:55.971091Z",
     "iopub.status.idle": "2025-09-19T07:34:55.984868Z",
     "shell.execute_reply": "2025-09-19T07:34:55.984356Z"
    }
   },
   "outputs": [
    {
     "ename": "NameError",
     "evalue": "name 'jim' is not defined",
     "output_type": "error",
     "traceback": [
      "\u001b[31m---------------------------------------------------------------------------\u001b[39m",
      "\u001b[31mNameError\u001b[39m                                 Traceback (most recent call last)",
      "\u001b[36mCell\u001b[39m\u001b[36m \u001b[39m\u001b[32mIn[36]\u001b[39m\u001b[32m, line 1\u001b[39m\n\u001b[32m----> \u001b[39m\u001b[32m1\u001b[39m \u001b[38;5;28mtype\u001b[39m(\u001b[43mjim\u001b[49m.np())\n",
      "\u001b[31mNameError\u001b[39m: name 'jim' is not defined"
     ]
    }
   ],
   "source": [
    "type(jim.np())"
   ]
  },
  {
   "cell_type": "markdown",
   "metadata": {},
   "source": [
    "Use [sum](https://numpy.org/doc/stable/reference/generated/numpy.ndarray.sum.html#numpy-ndarray-sum) function of Numpy to assert there are no pixels where `jim_max < jim_mean`"
   ]
  },
  {
   "cell_type": "code",
   "execution_count": 37,
   "metadata": {
    "execution": {
     "iopub.execute_input": "2025-09-19T07:34:55.986226Z",
     "iopub.status.busy": "2025-09-19T07:34:55.986102Z",
     "iopub.status.idle": "2025-09-19T07:34:56.005109Z",
     "shell.execute_reply": "2025-09-19T07:34:56.004677Z"
    }
   },
   "outputs": [
    {
     "ename": "NameError",
     "evalue": "name 'jim_max' is not defined",
     "output_type": "error",
     "traceback": [
      "\u001b[31m---------------------------------------------------------------------------\u001b[39m",
      "\u001b[31mNameError\u001b[39m                                 Traceback (most recent call last)",
      "\u001b[36mCell\u001b[39m\u001b[36m \u001b[39m\u001b[32mIn[37]\u001b[39m\u001b[32m, line 1\u001b[39m\n\u001b[32m----> \u001b[39m\u001b[32m1\u001b[39m (\u001b[43mjim_max\u001b[49m < jim_mean).np().sum()\n",
      "\u001b[31mNameError\u001b[39m: name 'jim_max' is not defined"
     ]
    }
   ],
   "source": [
    "(jim_max < jim_mean).np().sum()"
   ]
  },
  {
   "cell_type": "markdown",
   "metadata": {},
   "source": [
    "### Get items\n",
    "\n",
    "With pyjeo we create the masks in memory in a \"pythonic\" way using [get items](https://jeodpp.jrc.ec.europa.eu/services/processing/pyjeohelp/3_reference.html#get-jim-items) without the need to write temporary files."
   ]
  },
  {
   "cell_type": "markdown",
   "metadata": {},
   "source": [
    "Get sub-dataset based on pixel coordinates (first 3 rows and columns, starting from 0)"
   ]
  },
  {
   "cell_type": "code",
   "execution_count": 38,
   "metadata": {
    "execution": {
     "iopub.execute_input": "2025-09-19T07:34:56.006925Z",
     "iopub.status.busy": "2025-09-19T07:34:56.006773Z",
     "iopub.status.idle": "2025-09-19T07:34:56.021860Z",
     "shell.execute_reply": "2025-09-19T07:34:56.021399Z"
    }
   },
   "outputs": [
    {
     "ename": "NameError",
     "evalue": "name 'jim' is not defined",
     "output_type": "error",
     "traceback": [
      "\u001b[31m---------------------------------------------------------------------------\u001b[39m",
      "\u001b[31mNameError\u001b[39m                                 Traceback (most recent call last)",
      "\u001b[36mCell\u001b[39m\u001b[36m \u001b[39m\u001b[32mIn[38]\u001b[39m\u001b[32m, line 1\u001b[39m\n\u001b[32m----> \u001b[39m\u001b[32m1\u001b[39m \u001b[43mjim\u001b[49m[\u001b[32m0\u001b[39m:\u001b[32m3\u001b[39m,\u001b[32m0\u001b[39m:\u001b[32m3\u001b[39m]\n",
      "\u001b[31mNameError\u001b[39m: name 'jim' is not defined"
     ]
    }
   ],
   "source": [
    "jim[0:3,0:3]"
   ]
  },
  {
   "cell_type": "markdown",
   "metadata": {},
   "source": [
    "Last 3 rows and columns, show geographic bounding box [ulx, uly, lrx, lry]"
   ]
  },
  {
   "cell_type": "code",
   "execution_count": 39,
   "metadata": {
    "execution": {
     "iopub.execute_input": "2025-09-19T07:34:56.023587Z",
     "iopub.status.busy": "2025-09-19T07:34:56.023453Z",
     "iopub.status.idle": "2025-09-19T07:34:56.037195Z",
     "shell.execute_reply": "2025-09-19T07:34:56.036709Z"
    }
   },
   "outputs": [
    {
     "ename": "NameError",
     "evalue": "name 'jim' is not defined",
     "output_type": "error",
     "traceback": [
      "\u001b[31m---------------------------------------------------------------------------\u001b[39m",
      "\u001b[31mNameError\u001b[39m                                 Traceback (most recent call last)",
      "\u001b[36mCell\u001b[39m\u001b[36m \u001b[39m\u001b[32mIn[39]\u001b[39m\u001b[32m, line 1\u001b[39m\n\u001b[32m----> \u001b[39m\u001b[32m1\u001b[39m \u001b[43mjim\u001b[49m[-\u001b[32m3\u001b[39m:,-\u001b[32m3\u001b[39m:].properties.getBBox()\n",
      "\u001b[31mNameError\u001b[39m: name 'jim' is not defined"
     ]
    }
   ],
   "source": [
    "jim[-3:,-3:].properties.getBBox()"
   ]
  },
  {
   "cell_type": "code",
   "execution_count": 40,
   "metadata": {
    "execution": {
     "iopub.execute_input": "2025-09-19T07:34:56.038746Z",
     "iopub.status.busy": "2025-09-19T07:34:56.038603Z",
     "iopub.status.idle": "2025-09-19T07:34:56.051853Z",
     "shell.execute_reply": "2025-09-19T07:34:56.051369Z"
    }
   },
   "outputs": [
    {
     "ename": "NameError",
     "evalue": "name 'jim' is not defined",
     "output_type": "error",
     "traceback": [
      "\u001b[31m---------------------------------------------------------------------------\u001b[39m",
      "\u001b[31mNameError\u001b[39m                                 Traceback (most recent call last)",
      "\u001b[36mCell\u001b[39m\u001b[36m \u001b[39m\u001b[32mIn[40]\u001b[39m\u001b[32m, line 1\u001b[39m\n\u001b[32m----> \u001b[39m\u001b[32m1\u001b[39m \u001b[43mjim\u001b[49m[\u001b[32m0\u001b[39m:\u001b[32m3\u001b[39m,\u001b[32m0\u001b[39m:\u001b[32m3\u001b[39m].np()\n",
      "\u001b[31mNameError\u001b[39m: name 'jim' is not defined"
     ]
    }
   ],
   "source": [
    "jim[0:3,0:3].np()"
   ]
  },
  {
   "cell_type": "markdown",
   "metadata": {
    "id": "UC8VPm5CmJ83"
   },
   "source": [
    "### Set items\n",
    "\n",
    "In pyjeo, we can apply the mask in a \"pythonic\" way using [set items](https://jeodpp.jrc.ec.europa.eu/services/processing/pyjeohelp/3_reference.html#set-jim-items)"
   ]
  },
  {
   "cell_type": "code",
   "execution_count": 41,
   "metadata": {
    "execution": {
     "iopub.execute_input": "2025-09-19T07:34:56.053403Z",
     "iopub.status.busy": "2025-09-19T07:34:56.053277Z",
     "iopub.status.idle": "2025-09-19T07:34:56.067784Z",
     "shell.execute_reply": "2025-09-19T07:34:56.067266Z"
    },
    "id": "rOCybsZamJ83",
    "outputId": "970b90d4-5153-4b54-8940-dea47cfc8774"
   },
   "outputs": [
    {
     "ename": "NameError",
     "evalue": "name 'jim' is not defined",
     "output_type": "error",
     "traceback": [
      "\u001b[31m---------------------------------------------------------------------------\u001b[39m",
      "\u001b[31mNameError\u001b[39m                                 Traceback (most recent call last)",
      "\u001b[36mCell\u001b[39m\u001b[36m \u001b[39m\u001b[32mIn[41]\u001b[39m\u001b[32m, line 1\u001b[39m\n\u001b[32m----> \u001b[39m\u001b[32m1\u001b[39m \u001b[43mjim\u001b[49m[\u001b[32m0\u001b[39m:\u001b[32m3\u001b[39m,\u001b[32m0\u001b[39m:\u001b[32m3\u001b[39m] = \u001b[32m0\u001b[39m\n\u001b[32m      2\u001b[39m jim[\u001b[32m0\u001b[39m:\u001b[32m5\u001b[39m,\u001b[32m0\u001b[39m:\u001b[32m5\u001b[39m].np()\n",
      "\u001b[31mNameError\u001b[39m: name 'jim' is not defined"
     ]
    }
   ],
   "source": [
    "jim[0:3,0:3] = 0\n",
    "jim[0:5,0:5].np()"
   ]
  },
  {
   "cell_type": "markdown",
   "metadata": {
    "id": "UC8VPm5CmJ83"
   },
   "source": [
    "**Display image using matplotlib**\n",
    "\n",
    "We can show an image with matplotlib by providing a Numpy representation of the dataset"
   ]
  },
  {
   "cell_type": "code",
   "execution_count": 42,
   "metadata": {
    "execution": {
     "iopub.execute_input": "2025-09-19T07:34:56.069482Z",
     "iopub.status.busy": "2025-09-19T07:34:56.069330Z",
     "iopub.status.idle": "2025-09-19T07:34:56.082889Z",
     "shell.execute_reply": "2025-09-19T07:34:56.082400Z"
    }
   },
   "outputs": [
    {
     "ename": "NameError",
     "evalue": "name 'plt' is not defined",
     "output_type": "error",
     "traceback": [
      "\u001b[31m---------------------------------------------------------------------------\u001b[39m",
      "\u001b[31mNameError\u001b[39m                                 Traceback (most recent call last)",
      "\u001b[36mCell\u001b[39m\u001b[36m \u001b[39m\u001b[32mIn[42]\u001b[39m\u001b[32m, line 2\u001b[39m\n\u001b[32m      1\u001b[39m \u001b[38;5;66;03m# plt.gray()  # show the filtered result in grayscale\u001b[39;00m\n\u001b[32m----> \u001b[39m\u001b[32m2\u001b[39m fig = \u001b[43mplt\u001b[49m.figure(figsize=(\u001b[32m10\u001b[39m,\u001b[32m10\u001b[39m))\n\u001b[32m      3\u001b[39m ax1 = fig.add_subplot(\u001b[32m111\u001b[39m)\n\u001b[32m      4\u001b[39m ax1.imshow(jim.np())\n",
      "\u001b[31mNameError\u001b[39m: name 'plt' is not defined"
     ]
    }
   ],
   "source": [
    "# plt.gray()  # show the filtered result in grayscale\n",
    "fig = plt.figure(figsize=(10,10))\n",
    "ax1 = fig.add_subplot(111)\n",
    "ax1.imshow(jim.np())\n",
    "plt.show()"
   ]
  },
  {
   "cell_type": "markdown",
   "metadata": {
    "id": "Al7egxCLmJ81"
   },
   "source": [
    "## Calculate median filter via scipy"
   ]
  },
  {
   "cell_type": "code",
   "execution_count": 43,
   "metadata": {
    "execution": {
     "iopub.execute_input": "2025-09-19T07:34:56.084571Z",
     "iopub.status.busy": "2025-09-19T07:34:56.084434Z",
     "iopub.status.idle": "2025-09-19T07:34:56.176496Z",
     "shell.execute_reply": "2025-09-19T07:34:56.175954Z"
    }
   },
   "outputs": [
    {
     "ename": "ModuleNotFoundError",
     "evalue": "No module named 'secrets'",
     "output_type": "error",
     "traceback": [
      "\u001b[31m---------------------------------------------------------------------------\u001b[39m",
      "\u001b[31mModuleNotFoundError\u001b[39m                       Traceback (most recent call last)",
      "\u001b[36mCell\u001b[39m\u001b[36m \u001b[39m\u001b[32mIn[43]\u001b[39m\u001b[32m, line 1\u001b[39m\n\u001b[32m----> \u001b[39m\u001b[32m1\u001b[39m \u001b[38;5;28;01mfrom\u001b[39;00m\u001b[38;5;250m \u001b[39m\u001b[34;01mscipy\u001b[39;00m\u001b[38;5;250m \u001b[39m\u001b[38;5;28;01mimport\u001b[39;00m ndimage\n\u001b[32m      2\u001b[39m npimage = ndimage.median_filter(jim.np(), size = \u001b[32m5\u001b[39m)\n",
      "\u001b[36mFile \u001b[39m\u001b[32m/usr/lib/python3/dist-packages/scipy/__init__.py:50\u001b[39m\n\u001b[32m      1\u001b[39m \u001b[33;03m\"\"\"\u001b[39;00m\n\u001b[32m      2\u001b[39m \u001b[33;03mSciPy: A scientific computing package for Python\u001b[39;00m\n\u001b[32m      3\u001b[39m \u001b[33;03m================================================\u001b[39;00m\n\u001b[32m   (...)\u001b[39m\u001b[32m     47\u001b[39m \n\u001b[32m     48\u001b[39m \u001b[33;03m\"\"\"\u001b[39;00m\n\u001b[32m---> \u001b[39m\u001b[32m50\u001b[39m \u001b[38;5;28;01mfrom\u001b[39;00m\u001b[38;5;250m \u001b[39m\u001b[34;01mnumpy\u001b[39;00m\u001b[38;5;250m \u001b[39m\u001b[38;5;28;01mimport\u001b[39;00m show_config \u001b[38;5;28;01mas\u001b[39;00m show_numpy_config\n\u001b[32m     51\u001b[39m \u001b[38;5;28;01mif\u001b[39;00m show_numpy_config \u001b[38;5;129;01mis\u001b[39;00m \u001b[38;5;28;01mNone\u001b[39;00m:\n\u001b[32m     52\u001b[39m     \u001b[38;5;28;01mraise\u001b[39;00m \u001b[38;5;167;01mImportError\u001b[39;00m(\n\u001b[32m     53\u001b[39m         \u001b[33m\"\u001b[39m\u001b[33mCannot import SciPy when running from NumPy source directory.\u001b[39m\u001b[33m\"\u001b[39m)\n",
      "\u001b[36mFile \u001b[39m\u001b[32m/usr/lib/python3/dist-packages/numpy/__init__.py:157\u001b[39m\n\u001b[32m    155\u001b[39m \u001b[38;5;28;01mfrom\u001b[39;00m\u001b[38;5;250m \u001b[39m\u001b[34;01m.\u001b[39;00m\u001b[38;5;250m \u001b[39m\u001b[38;5;28;01mimport\u001b[39;00m fft\n\u001b[32m    156\u001b[39m \u001b[38;5;28;01mfrom\u001b[39;00m\u001b[38;5;250m \u001b[39m\u001b[34;01m.\u001b[39;00m\u001b[38;5;250m \u001b[39m\u001b[38;5;28;01mimport\u001b[39;00m polynomial\n\u001b[32m--> \u001b[39m\u001b[32m157\u001b[39m \u001b[38;5;28;01mfrom\u001b[39;00m\u001b[38;5;250m \u001b[39m\u001b[34;01m.\u001b[39;00m\u001b[38;5;250m \u001b[39m\u001b[38;5;28;01mimport\u001b[39;00m random\n\u001b[32m    158\u001b[39m \u001b[38;5;28;01mfrom\u001b[39;00m\u001b[38;5;250m \u001b[39m\u001b[34;01m.\u001b[39;00m\u001b[38;5;250m \u001b[39m\u001b[38;5;28;01mimport\u001b[39;00m ctypeslib\n\u001b[32m    159\u001b[39m \u001b[38;5;28;01mfrom\u001b[39;00m\u001b[38;5;250m \u001b[39m\u001b[34;01m.\u001b[39;00m\u001b[38;5;250m \u001b[39m\u001b[38;5;28;01mimport\u001b[39;00m ma\n",
      "\u001b[36mFile \u001b[39m\u001b[32m/usr/lib/python3/dist-packages/numpy/random/__init__.py:180\u001b[39m\n\u001b[32m    126\u001b[39m __all__ = [\n\u001b[32m    127\u001b[39m     \u001b[33m'\u001b[39m\u001b[33mbeta\u001b[39m\u001b[33m'\u001b[39m,\n\u001b[32m    128\u001b[39m     \u001b[33m'\u001b[39m\u001b[33mbinomial\u001b[39m\u001b[33m'\u001b[39m,\n\u001b[32m   (...)\u001b[39m\u001b[32m    176\u001b[39m     \u001b[33m'\u001b[39m\u001b[33mzipf\u001b[39m\u001b[33m'\u001b[39m,\n\u001b[32m    177\u001b[39m ]\n\u001b[32m    179\u001b[39m \u001b[38;5;66;03m# add these for module-freeze analysis (like PyInstaller)\u001b[39;00m\n\u001b[32m--> \u001b[39m\u001b[32m180\u001b[39m \u001b[38;5;28;01mfrom\u001b[39;00m\u001b[38;5;250m \u001b[39m\u001b[34;01m.\u001b[39;00m\u001b[38;5;250m \u001b[39m\u001b[38;5;28;01mimport\u001b[39;00m _pickle\n\u001b[32m    181\u001b[39m \u001b[38;5;28;01mfrom\u001b[39;00m\u001b[38;5;250m \u001b[39m\u001b[34;01m.\u001b[39;00m\u001b[38;5;250m \u001b[39m\u001b[38;5;28;01mimport\u001b[39;00m _common\n\u001b[32m    182\u001b[39m \u001b[38;5;28;01mfrom\u001b[39;00m\u001b[38;5;250m \u001b[39m\u001b[34;01m.\u001b[39;00m\u001b[38;5;250m \u001b[39m\u001b[38;5;28;01mimport\u001b[39;00m _bounded_integers\n",
      "\u001b[36mFile \u001b[39m\u001b[32m/usr/lib/python3/dist-packages/numpy/random/_pickle.py:1\u001b[39m\n\u001b[32m----> \u001b[39m\u001b[32m1\u001b[39m \u001b[38;5;28;01mfrom\u001b[39;00m\u001b[38;5;250m \u001b[39m\u001b[34;01m.\u001b[39;00m\u001b[34;01mmtrand\u001b[39;00m\u001b[38;5;250m \u001b[39m\u001b[38;5;28;01mimport\u001b[39;00m RandomState\n\u001b[32m      2\u001b[39m \u001b[38;5;28;01mfrom\u001b[39;00m\u001b[38;5;250m \u001b[39m\u001b[34;01m.\u001b[39;00m\u001b[34;01m_philox\u001b[39;00m\u001b[38;5;250m \u001b[39m\u001b[38;5;28;01mimport\u001b[39;00m Philox\n\u001b[32m      3\u001b[39m \u001b[38;5;28;01mfrom\u001b[39;00m\u001b[38;5;250m \u001b[39m\u001b[34;01m.\u001b[39;00m\u001b[34;01m_pcg64\u001b[39;00m\u001b[38;5;250m \u001b[39m\u001b[38;5;28;01mimport\u001b[39;00m PCG64, PCG64DXSM\n",
      "\u001b[36mFile \u001b[39m\u001b[32mnumpy/random/mtrand.pyx:1\u001b[39m, in \u001b[36minit numpy.random.mtrand\u001b[39m\u001b[34m()\u001b[39m\n",
      "\u001b[36mFile \u001b[39m\u001b[32mbit_generator.pyx:40\u001b[39m, in \u001b[36minit numpy.random.bit_generator\u001b[39m\u001b[34m()\u001b[39m\n",
      "\u001b[31mModuleNotFoundError\u001b[39m: No module named 'secrets'"
     ]
    }
   ],
   "source": [
    "from scipy import ndimage\n",
    "npimage = ndimage.median_filter(jim.np(), size = 5)"
   ]
  },
  {
   "cell_type": "code",
   "execution_count": 44,
   "metadata": {
    "execution": {
     "iopub.execute_input": "2025-09-19T07:34:56.178509Z",
     "iopub.status.busy": "2025-09-19T07:34:56.178216Z",
     "iopub.status.idle": "2025-09-19T07:34:56.192148Z",
     "shell.execute_reply": "2025-09-19T07:34:56.191706Z"
    },
    "scrolled": true
   },
   "outputs": [
    {
     "ename": "NameError",
     "evalue": "name 'plt' is not defined",
     "output_type": "error",
     "traceback": [
      "\u001b[31m---------------------------------------------------------------------------\u001b[39m",
      "\u001b[31mNameError\u001b[39m                                 Traceback (most recent call last)",
      "\u001b[36mCell\u001b[39m\u001b[36m \u001b[39m\u001b[32mIn[44]\u001b[39m\u001b[32m, line 2\u001b[39m\n\u001b[32m      1\u001b[39m \u001b[38;5;66;03m# plt.gray()  # show the filtered result in grayscale\u001b[39;00m\n\u001b[32m----> \u001b[39m\u001b[32m2\u001b[39m fig = \u001b[43mplt\u001b[49m.figure(figsize=(\u001b[32m10\u001b[39m,\u001b[32m10\u001b[39m))\n\u001b[32m      3\u001b[39m ax1 = fig.add_subplot(\u001b[32m111\u001b[39m)\n\u001b[32m      4\u001b[39m ax1.imshow(npimage)\n",
      "\u001b[31mNameError\u001b[39m: name 'plt' is not defined"
     ]
    }
   ],
   "source": [
    "# plt.gray()  # show the filtered result in grayscale\n",
    "fig = plt.figure(figsize=(10,10))\n",
    "ax1 = fig.add_subplot(111)\n",
    "ax1.imshow(npimage)\n",
    "plt.show()"
   ]
  },
  {
   "cell_type": "markdown",
   "metadata": {
    "id": "Al7egxCLmJ81"
   },
   "source": [
    "## Exercise 4: Create a geospatial Jim object with CRS from a Numpy array"
   ]
  },
  {
   "cell_type": "markdown",
   "metadata": {},
   "source": [
    "**A numpy array is not a geospatial dataset with a spatial coordinate reference system !**"
   ]
  },
  {
   "cell_type": "code",
   "execution_count": 45,
   "metadata": {
    "execution": {
     "iopub.execute_input": "2025-09-19T07:34:56.193899Z",
     "iopub.status.busy": "2025-09-19T07:34:56.193746Z",
     "iopub.status.idle": "2025-09-19T07:34:56.206888Z",
     "shell.execute_reply": "2025-09-19T07:34:56.206422Z"
    }
   },
   "outputs": [
    {
     "ename": "NameError",
     "evalue": "name 'pj' is not defined",
     "output_type": "error",
     "traceback": [
      "\u001b[31m---------------------------------------------------------------------------\u001b[39m",
      "\u001b[31mNameError\u001b[39m                                 Traceback (most recent call last)",
      "\u001b[36mCell\u001b[39m\u001b[36m \u001b[39m\u001b[32mIn[45]\u001b[39m\u001b[32m, line 1\u001b[39m\n\u001b[32m----> \u001b[39m\u001b[32m1\u001b[39m ajim = \u001b[43mpj\u001b[49m.np2jim(npimage)\n\u001b[32m      2\u001b[39m \u001b[38;5;28mprint\u001b[39m(ajim.properties.getProjection())\n\u001b[32m      3\u001b[39m \u001b[38;5;28mprint\u001b[39m(ajim.properties.getGeoTransform())\n",
      "\u001b[31mNameError\u001b[39m: name 'pj' is not defined"
     ]
    }
   ],
   "source": [
    "ajim = pj.np2jim(npimage)\n",
    "print(ajim.properties.getProjection())\n",
    "print(ajim.properties.getGeoTransform())"
   ]
  },
  {
   "cell_type": "markdown",
   "metadata": {},
   "source": [
    "Use [setProjection](https://pyjeo.readthedocs.io/en/latest/3_reference.html#properties._Properties.setProjection) and [getProjection](https://pyjeo.readthedocs.io/en/latest/3_reference.html#properties._Properties.getProjection) to set the Coordinate Reference System (CRS) of ajim"
   ]
  },
  {
   "cell_type": "code",
   "execution_count": null,
   "metadata": {},
   "outputs": [],
   "source": []
  },
  {
   "cell_type": "markdown",
   "metadata": {
    "id": "Al7egxCLmJ81"
   },
   "source": [
    "## Calculating the median_filter in place using the output parameter"
   ]
  },
  {
   "cell_type": "code",
   "execution_count": 46,
   "metadata": {
    "execution": {
     "iopub.execute_input": "2025-09-19T07:34:56.208841Z",
     "iopub.status.busy": "2025-09-19T07:34:56.208693Z",
     "iopub.status.idle": "2025-09-19T07:34:56.222449Z",
     "shell.execute_reply": "2025-09-19T07:34:56.222089Z"
    }
   },
   "outputs": [
    {
     "ename": "NameError",
     "evalue": "name 'ndimage' is not defined",
     "output_type": "error",
     "traceback": [
      "\u001b[31m---------------------------------------------------------------------------\u001b[39m",
      "\u001b[31mNameError\u001b[39m                                 Traceback (most recent call last)",
      "\u001b[36mCell\u001b[39m\u001b[36m \u001b[39m\u001b[32mIn[46]\u001b[39m\u001b[32m, line 1\u001b[39m\n\u001b[32m----> \u001b[39m\u001b[32m1\u001b[39m \u001b[43mndimage\u001b[49m.median_filter(jim.np(), output = jim.np(), size = \u001b[32m5\u001b[39m)\n",
      "\u001b[31mNameError\u001b[39m: name 'ndimage' is not defined"
     ]
    }
   ],
   "source": [
    "ndimage.median_filter(jim.np(), output = jim.np(), size = 5)"
   ]
  },
  {
   "cell_type": "markdown",
   "metadata": {},
   "source": [
    "As an alternative, we can set the Numpy representation of a Jim object in place"
   ]
  },
  {
   "cell_type": "code",
   "execution_count": 47,
   "metadata": {
    "execution": {
     "iopub.execute_input": "2025-09-19T07:34:56.223961Z",
     "iopub.status.busy": "2025-09-19T07:34:56.223840Z",
     "iopub.status.idle": "2025-09-19T07:34:56.237018Z",
     "shell.execute_reply": "2025-09-19T07:34:56.236527Z"
    }
   },
   "outputs": [
    {
     "ename": "NameError",
     "evalue": "name 'ndimage' is not defined",
     "output_type": "error",
     "traceback": [
      "\u001b[31m---------------------------------------------------------------------------\u001b[39m",
      "\u001b[31mNameError\u001b[39m                                 Traceback (most recent call last)",
      "\u001b[36mCell\u001b[39m\u001b[36m \u001b[39m\u001b[32mIn[47]\u001b[39m\u001b[32m, line 1\u001b[39m\n\u001b[32m----> \u001b[39m\u001b[32m1\u001b[39m jim.np()[:] = \u001b[43mndimage\u001b[49m.median_filter(jim.np(), size = \u001b[32m5\u001b[39m)\n",
      "\u001b[31mNameError\u001b[39m: name 'ndimage' is not defined"
     ]
    }
   ],
   "source": [
    "jim.np()[:] = ndimage.median_filter(jim.np(), size = 5)"
   ]
  },
  {
   "cell_type": "markdown",
   "metadata": {},
   "source": [
    "## Bridging to third party libraries: Xarray"
   ]
  },
  {
   "cell_type": "code",
   "execution_count": 48,
   "metadata": {
    "execution": {
     "iopub.execute_input": "2025-09-19T07:34:56.238431Z",
     "iopub.status.busy": "2025-09-19T07:34:56.238284Z",
     "iopub.status.idle": "2025-09-19T07:34:56.251227Z",
     "shell.execute_reply": "2025-09-19T07:34:56.250732Z"
    }
   },
   "outputs": [
    {
     "ename": "NameError",
     "evalue": "name 'jim' is not defined",
     "output_type": "error",
     "traceback": [
      "\u001b[31m---------------------------------------------------------------------------\u001b[39m",
      "\u001b[31mNameError\u001b[39m                                 Traceback (most recent call last)",
      "\u001b[36mCell\u001b[39m\u001b[36m \u001b[39m\u001b[32mIn[48]\u001b[39m\u001b[32m, line 1\u001b[39m\n\u001b[32m----> \u001b[39m\u001b[32m1\u001b[39m \u001b[43mjim\u001b[49m.xr()\n",
      "\u001b[31mNameError\u001b[39m: name 'jim' is not defined"
     ]
    }
   ],
   "source": [
    "jim.xr()"
   ]
  },
  {
   "cell_type": "markdown",
   "metadata": {},
   "source": [
    "**An Xarray dataset is defined with a spatial coordinate reference system !**"
   ]
  },
  {
   "cell_type": "code",
   "execution_count": 49,
   "metadata": {
    "execution": {
     "iopub.execute_input": "2025-09-19T07:34:56.252706Z",
     "iopub.status.busy": "2025-09-19T07:34:56.252595Z",
     "iopub.status.idle": "2025-09-19T07:34:56.265241Z",
     "shell.execute_reply": "2025-09-19T07:34:56.264755Z"
    }
   },
   "outputs": [
    {
     "ename": "NameError",
     "evalue": "name 'pj' is not defined",
     "output_type": "error",
     "traceback": [
      "\u001b[31m---------------------------------------------------------------------------\u001b[39m",
      "\u001b[31mNameError\u001b[39m                                 Traceback (most recent call last)",
      "\u001b[36mCell\u001b[39m\u001b[36m \u001b[39m\u001b[32mIn[49]\u001b[39m\u001b[32m, line 1\u001b[39m\n\u001b[32m----> \u001b[39m\u001b[32m1\u001b[39m ajim = \u001b[43mpj\u001b[49m.xr2jim(jim.xr())\n",
      "\u001b[31mNameError\u001b[39m: name 'pj' is not defined"
     ]
    }
   ],
   "source": [
    "ajim = pj.xr2jim(jim.xr())"
   ]
  },
  {
   "cell_type": "code",
   "execution_count": 50,
   "metadata": {
    "execution": {
     "iopub.execute_input": "2025-09-19T07:34:56.266835Z",
     "iopub.status.busy": "2025-09-19T07:34:56.266688Z",
     "iopub.status.idle": "2025-09-19T07:34:56.280823Z",
     "shell.execute_reply": "2025-09-19T07:34:56.280325Z"
    }
   },
   "outputs": [
    {
     "ename": "NameError",
     "evalue": "name 'ajim' is not defined",
     "output_type": "error",
     "traceback": [
      "\u001b[31m---------------------------------------------------------------------------\u001b[39m",
      "\u001b[31mNameError\u001b[39m                                 Traceback (most recent call last)",
      "\u001b[36mCell\u001b[39m\u001b[36m \u001b[39m\u001b[32mIn[50]\u001b[39m\u001b[32m, line 1\u001b[39m\n\u001b[32m----> \u001b[39m\u001b[32m1\u001b[39m \u001b[38;5;28mprint\u001b[39m(\u001b[43majim\u001b[49m.properties.getProjection())\n\u001b[32m      2\u001b[39m \u001b[38;5;28mprint\u001b[39m(ajim.properties.getGeoTransform())\n",
      "\u001b[31mNameError\u001b[39m: name 'ajim' is not defined"
     ]
    }
   ],
   "source": [
    "print(ajim.properties.getProjection())\n",
    "print(ajim.properties.getGeoTransform())"
   ]
  },
  {
   "cell_type": "markdown",
   "metadata": {},
   "source": [
    "At the basis we find a Numpy data array"
   ]
  },
  {
   "cell_type": "code",
   "execution_count": 51,
   "metadata": {
    "execution": {
     "iopub.execute_input": "2025-09-19T07:34:56.282998Z",
     "iopub.status.busy": "2025-09-19T07:34:56.282826Z",
     "iopub.status.idle": "2025-09-19T07:34:56.296279Z",
     "shell.execute_reply": "2025-09-19T07:34:56.295836Z"
    }
   },
   "outputs": [
    {
     "ename": "NameError",
     "evalue": "name 'jim' is not defined",
     "output_type": "error",
     "traceback": [
      "\u001b[31m---------------------------------------------------------------------------\u001b[39m",
      "\u001b[31mNameError\u001b[39m                                 Traceback (most recent call last)",
      "\u001b[36mCell\u001b[39m\u001b[36m \u001b[39m\u001b[32mIn[51]\u001b[39m\u001b[32m, line 1\u001b[39m\n\u001b[32m----> \u001b[39m\u001b[32m1\u001b[39m \u001b[38;5;28mtype\u001b[39m(\u001b[43mjim\u001b[49m.xr().ET.data)\n",
      "\u001b[31mNameError\u001b[39m: name 'jim' is not defined"
     ]
    }
   ],
   "source": [
    "type(jim.xr().ET.data)"
   ]
  },
  {
   "cell_type": "markdown",
   "metadata": {
    "id": "Al7egxCLmJ81"
   },
   "source": [
    "### Calculate median filter via Xarray"
   ]
  },
  {
   "cell_type": "markdown",
   "metadata": {},
   "source": [
    "Processing can take several minutes..."
   ]
  },
  {
   "cell_type": "code",
   "execution_count": 52,
   "metadata": {
    "execution": {
     "iopub.execute_input": "2025-09-19T07:34:56.297891Z",
     "iopub.status.busy": "2025-09-19T07:34:56.297759Z",
     "iopub.status.idle": "2025-09-19T07:34:56.300113Z",
     "shell.execute_reply": "2025-09-19T07:34:56.299658Z"
    }
   },
   "outputs": [],
   "source": [
    "# xr_median = jim.xr().ET.rolling(x = 3, y = 3, center=True).median()"
   ]
  },
  {
   "cell_type": "code",
   "execution_count": 53,
   "metadata": {
    "execution": {
     "iopub.execute_input": "2025-09-19T07:34:56.301828Z",
     "iopub.status.busy": "2025-09-19T07:34:56.301713Z",
     "iopub.status.idle": "2025-09-19T07:34:56.303688Z",
     "shell.execute_reply": "2025-09-19T07:34:56.303193Z"
    }
   },
   "outputs": [],
   "source": [
    "# xr_median.plot()"
   ]
  },
  {
   "cell_type": "markdown",
   "metadata": {},
   "source": [
    "**Notice that XArray member functions return the processed result and do not alter the input image !**"
   ]
  },
  {
   "cell_type": "markdown",
   "metadata": {},
   "source": [
    "## Bridging JimVect to third party libraries"
   ]
  },
  {
   "cell_type": "code",
   "execution_count": 54,
   "metadata": {
    "execution": {
     "iopub.execute_input": "2025-09-19T07:34:56.305234Z",
     "iopub.status.busy": "2025-09-19T07:34:56.305129Z",
     "iopub.status.idle": "2025-09-19T07:34:56.317694Z",
     "shell.execute_reply": "2025-09-19T07:34:56.317206Z"
    }
   },
   "outputs": [
    {
     "ename": "NameError",
     "evalue": "name 'pj' is not defined",
     "output_type": "error",
     "traceback": [
      "\u001b[31m---------------------------------------------------------------------------\u001b[39m",
      "\u001b[31mNameError\u001b[39m                                 Traceback (most recent call last)",
      "\u001b[36mCell\u001b[39m\u001b[36m \u001b[39m\u001b[32mIn[54]\u001b[39m\u001b[32m, line 1\u001b[39m\n\u001b[32m----> \u001b[39m\u001b[32m1\u001b[39m sample = \u001b[43mpj\u001b[49m.JimVect(\u001b[33m'\u001b[39m\u001b[33mgeodata/shp/polygons.sqlite\u001b[39m\u001b[33m'\u001b[39m)\n",
      "\u001b[31mNameError\u001b[39m: name 'pj' is not defined"
     ]
    }
   ],
   "source": [
    "sample = pj.JimVect('geodata/shp/polygons.sqlite')"
   ]
  },
  {
   "cell_type": "code",
   "execution_count": 55,
   "metadata": {
    "execution": {
     "iopub.execute_input": "2025-09-19T07:34:56.319218Z",
     "iopub.status.busy": "2025-09-19T07:34:56.319089Z",
     "iopub.status.idle": "2025-09-19T07:34:56.332715Z",
     "shell.execute_reply": "2025-09-19T07:34:56.332249Z"
    }
   },
   "outputs": [
    {
     "ename": "ModuleNotFoundError",
     "evalue": "No module named 'pandas'",
     "output_type": "error",
     "traceback": [
      "\u001b[31m---------------------------------------------------------------------------\u001b[39m",
      "\u001b[31mModuleNotFoundError\u001b[39m                       Traceback (most recent call last)",
      "\u001b[36mCell\u001b[39m\u001b[36m \u001b[39m\u001b[32mIn[55]\u001b[39m\u001b[32m, line 1\u001b[39m\n\u001b[32m----> \u001b[39m\u001b[32m1\u001b[39m \u001b[38;5;28;01mimport\u001b[39;00m\u001b[38;5;250m \u001b[39m\u001b[34;01mpandas\u001b[39;00m\u001b[38;5;250m \u001b[39m\u001b[38;5;28;01mas\u001b[39;00m\u001b[38;5;250m \u001b[39m\u001b[34;01mpd\u001b[39;00m\n\u001b[32m      2\u001b[39m pdf = pd.DataFrame(sample.dict())\n\u001b[32m      3\u001b[39m pdf\n",
      "\u001b[31mModuleNotFoundError\u001b[39m: No module named 'pandas'"
     ]
    }
   ],
   "source": [
    "import pandas as pd\n",
    "pdf = pd.DataFrame(sample.dict())\n",
    "pdf"
   ]
  },
  {
   "cell_type": "markdown",
   "metadata": {},
   "source": [
    "## Data extraction and regional statistics"
   ]
  },
  {
   "cell_type": "code",
   "execution_count": 56,
   "metadata": {
    "execution": {
     "iopub.execute_input": "2025-09-19T07:34:56.334317Z",
     "iopub.status.busy": "2025-09-19T07:34:56.334178Z",
     "iopub.status.idle": "2025-09-19T07:34:56.348266Z",
     "shell.execute_reply": "2025-09-19T07:34:56.347873Z"
    }
   },
   "outputs": [
    {
     "ename": "NameError",
     "evalue": "name 'pj' is not defined",
     "output_type": "error",
     "traceback": [
      "\u001b[31m---------------------------------------------------------------------------\u001b[39m",
      "\u001b[31mNameError\u001b[39m                                 Traceback (most recent call last)",
      "\u001b[36mCell\u001b[39m\u001b[36m \u001b[39m\u001b[32mIn[56]\u001b[39m\u001b[32m, line 1\u001b[39m\n\u001b[32m----> \u001b[39m\u001b[32m1\u001b[39m extracted = \u001b[43mpj\u001b[49m.geometry.extract(sample, jim, rule=\u001b[33m'\u001b[39m\u001b[33mmean\u001b[39m\u001b[33m'\u001b[39m, output=\u001b[33m'\u001b[39m\u001b[33m/vsimem/mean.json\u001b[39m\u001b[33m'\u001b[39m, oformat=\u001b[33m'\u001b[39m\u001b[33mGeoJSON\u001b[39m\u001b[33m'\u001b[39m)\n",
      "\u001b[31mNameError\u001b[39m: name 'pj' is not defined"
     ]
    }
   ],
   "source": [
    "extracted = pj.geometry.extract(sample, jim, rule='mean', output='/vsimem/mean.json', oformat='GeoJSON')"
   ]
  },
  {
   "cell_type": "code",
   "execution_count": 57,
   "metadata": {
    "execution": {
     "iopub.execute_input": "2025-09-19T07:34:56.349689Z",
     "iopub.status.busy": "2025-09-19T07:34:56.349559Z",
     "iopub.status.idle": "2025-09-19T07:34:56.362398Z",
     "shell.execute_reply": "2025-09-19T07:34:56.362014Z"
    }
   },
   "outputs": [
    {
     "ename": "NameError",
     "evalue": "name 'pd' is not defined",
     "output_type": "error",
     "traceback": [
      "\u001b[31m---------------------------------------------------------------------------\u001b[39m",
      "\u001b[31mNameError\u001b[39m                                 Traceback (most recent call last)",
      "\u001b[36mCell\u001b[39m\u001b[36m \u001b[39m\u001b[32mIn[57]\u001b[39m\u001b[32m, line 1\u001b[39m\n\u001b[32m----> \u001b[39m\u001b[32m1\u001b[39m pdf = \u001b[43mpd\u001b[49m.DataFrame(extracted.dict())\n\u001b[32m      2\u001b[39m pdf\n",
      "\u001b[31mNameError\u001b[39m: name 'pd' is not defined"
     ]
    }
   ],
   "source": [
    "pdf = pd.DataFrame(extracted.dict())\n",
    "pdf"
   ]
  }
 ],
 "metadata": {
  "colab": {
   "collapsed_sections": [],
   "name": "02_pktools.ipynb",
   "provenance": [],
   "toc_visible": true
  },
  "kernelspec": {
   "display_name": "Python 3 (ipykernel)",
   "language": "python",
   "name": "python3"
  },
  "language_info": {
   "codemirror_mode": {
    "name": "ipython",
    "version": 3
   },
   "file_extension": ".py",
   "mimetype": "text/x-python",
   "name": "python",
   "nbconvert_exporter": "python",
   "pygments_lexer": "ipython3",
   "version": "3.12.3"
  }
 },
 "nbformat": 4,
 "nbformat_minor": 4
}
