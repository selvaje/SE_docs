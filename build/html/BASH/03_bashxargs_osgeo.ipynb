{
 "cells": [
  {
   "cell_type": "markdown",
   "id": "5a4573ea",
   "metadata": {},
   "source": [
    "# Multi-core bash"
   ]
  },
  {
   "cell_type": "markdown",
   "id": "929514aa",
   "metadata": {},
   "source": [
    "## Transform a simple \"for loop\" in multicore \"for loop\"\n",
    "**For Loop**\n",
    "\n",
    "You may run the full process by applying the loop in the usual way: "
   ]
  },
  {
   "cell_type": "code",
   "execution_count": null,
   "id": "a241fe04",
   "metadata": {},
   "outputs": [],
   "source": [
    "%%bash \n",
    "cd /media/sf_LVM_shared/my_SE_data/exercise\n",
    "time (\n",
    "    \n",
    "for file in geodata/LST/LST_MOYDmax_month?.tif; do\n",
    "echo $file\n",
    "filename=$(basename  $file .tif)\n",
    "gdal_translate -co COMPRESS=DEFLATE -co ZLEVEL=9 -r average -tr 0.0008333333333333 0.0008333333333333 $file geodata/LST/${filename}_10k.tif\n",
    "done\n",
    "\n",
    ")"
   ]
  },
  {
   "cell_type": "markdown",
   "id": "f83be372",
   "metadata": {},
   "source": [
    "In this way only one processor will be used. The others will be just sleeping or eventually swap when the process is applied to another tif."
   ]
  },
  {
   "cell_type": "code",
   "execution_count": 9,
   "id": "e84cae8f",
   "metadata": {},
   "outputs": [
    {
     "data": {
      "image/png": "[encoded data removed]",
      "text/plain": [
       "<IPython.core.display.Image object>"
      ]
     },
     "execution_count": 9,
     "metadata": {},
     "output_type": "execute_result"
    }
   ],
   "source": [
    "from IPython.display import Image\n",
    "Image(\"../images/xargs_core1.png\")"
   ]
  },
  {
   "cell_type": "markdown",
   "id": "a7b9cea8",
   "metadata": {},
   "source": [
    "**xargs loop**\n",
    "\n",
    "The xargs command allows to run a process splitting the task to several processors numerically defined by the user: "
   ]
  },
  {
   "cell_type": "code",
   "execution_count": 11,
   "id": "cf083075",
   "metadata": {},
   "outputs": [
    {
     "name": "stdout",
     "output_type": "stream",
     "text": [
      "Input file size is 1080, 840\n",
      "0Input file size is 1080, 840\n",
      "0......1010......20.20...30...30.....4040......5050......6060......70.70.....8080......9090......100 - done.\n",
      "100 - done.\n",
      "Input file size is 1080, 840\n",
      "0Input file size is 1080, 840\n",
      "0.....10..10.....20.20....30..30.....4040......5050......6060......7070.....80.80......9090......100 - done.\n",
      "100 - done.\n",
      "Input file size is 1080, 840\n",
      "0.Input file size is 1080, 840\n",
      "0....10...10...20...20..30..30......4040......5050......6060......70.70....80.80......9090......100 - done.\n",
      "Input file size is 1080, 840\n",
      "0...10100 - done.\n",
      "..Input file size is 1080, 840\n",
      "0..20....10.30......20...3040....40....50..50....60...60...70..70....80..80....90..90.....100 - done.\n",
      "Input file size is 1080, 840\n",
      "0...10.100 - done.\n",
      "..20...30...40...50...60...70...80...90...100 - done.\n"
     ]
    },
    {
     "name": "stderr",
     "output_type": "stream",
     "text": [
      "\n",
      "real\t0m24.321s\n",
      "user\t0m36.641s\n",
      "sys\t0m3.390s\n"
     ]
    }
   ],
   "source": [
    "%%bash\n",
    "cd /media/sf_LVM_shared/my_SE_data/exercise\n",
    "time (\n",
    "\n",
    "ls geodata/LST/LST_MOYDmax_month?.tif | xargs -n 1 -P 2  bash -c $'\n",
    "file=$1\n",
    "filename=$(basename  $file .tif)\n",
    "gdal_translate -co COMPRESS=DEFLATE -co ZLEVEL=9  -r average -tr 0.0008333333333333  0.0008333333333333 $file  geodata/LST/${filename}_10k.tif\n",
    "' _ \n",
    "\n",
    ")"
   ]
  },
  {
   "cell_type": "markdown",
   "id": "d3694228",
   "metadata": {},
   "source": [
    "- The -n option identifies the argument. The argument is the variable imported inside the loop.\n",
    "- The argument is identifies with \\\\$1 and for a better understanding renamed to file (file=\\\\$1).\n",
    "- The -P option identify the processors (in this case 2) used to run the full line inside -c $' ..... ' _\n",
    "\n",
    "For example, the following picture shows the processing time during the xargs loop. As you can see two processors are running simultaneously, and the whole processing time is shorter. "
   ]
  },
  {
   "cell_type": "code",
   "execution_count": null,
   "id": "73f0cb47",
   "metadata": {},
   "outputs": [],
   "source": [
    "from IPython.display import Image\n",
    "Image(\"../images/xargs_core2.png\")"
   ]
  }
 ],
 "metadata": {
  "kernelspec": {
   "display_name": "Python 3",
   "language": "python",
   "name": "python3"
  },
  "language_info": {
   "codemirror_mode": {
    "name": "ipython",
    "version": 3
   },
   "file_extension": ".py",
   "mimetype": "text/x-python",
   "name": "python",
   "nbconvert_exporter": "python",
   "pygments_lexer": "ipython3",
   "version": "3.8.5"
  }
 },
 "nbformat": 4,
 "nbformat_minor": 5
}
