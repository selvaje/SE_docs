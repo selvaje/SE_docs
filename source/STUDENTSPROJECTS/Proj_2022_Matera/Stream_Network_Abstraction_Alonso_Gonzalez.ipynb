{
 "cells": [
  {
   "cell_type": "markdown",
   "id": "aa4494d3-6ac5-41b2-a1eb-e42a1c63115d",
   "metadata": {
    "tags": []
   },
   "source": [
    "# Stream Network Abstraction - Alonso Gonzalez\n",
    "\n",
    "[Presentation](http://spatial-ecology.net/docs/source/STUDENTSPROJECTS/Proj_2022_Matera/Stream_Network_Abstraction_Alonso_Gonzalez.pdf)  \n",
    "[Video Recording](https://youtu.be/fOEBNDqoYvI)"
   ]
  },
  {
   "cell_type": "code",
   "execution_count": null,
   "id": "5e19cefd-9b0a-4ccd-aa87-74ed00951086",
   "metadata": {
    "tags": []
   },
   "outputs": [],
   "source": [
    "%%bash\n",
    "cd /home/user/my_SE_data/exercise"
   ]
  },
  {
   "cell_type": "code",
   "execution_count": null,
   "id": "a0461c7e-1c7c-4725-8e24-4d175a1d7450",
   "metadata": {},
   "outputs": [],
   "source": [
    "grass78 -text grassdb/europe/PERMANENT/ <<EOF\n",
    "g.extension extension=r.stream.basins\n",
    "EOF"
   ]
  },
  {
   "cell_type": "code",
   "execution_count": null,
   "id": "8342b4e7-b852-40b5-a9b9-8874c097b676",
   "metadata": {
    "tags": []
   },
   "outputs": [],
   "source": [
    "import geopandas as gpd\n",
    "gdf = gpd.read_file('geodata/shp/tilesComp.shp')\n",
    "print (gdf)\n",
    "gdf.plot(edgecolor=\"purple\", facecolor=\"None\")\n"
   ]
  },
  {
   "cell_type": "code",
   "execution_count": 6,
   "id": "38c5c053-e920-4285-82c0-00d4b8c7be59",
   "metadata": {
    "tags": []
   },
   "outputs": [
    {
     "name": "stdout",
     "output_type": "stream",
     "text": [
      "projection=3\n",
      "zone=0\n",
      "n=14\n",
      "s=-56\n",
      "w=-83\n",
      "e=-34\n",
      "nsres=923.44150551\n",
      "ewres=703.7149865\n",
      "rows=8400\n",
      "cols=5880\n",
      "cells=49392000\n",
      "projection=3\n",
      "zone=0\n",
      "n=-12\n",
      "s=-56\n",
      "w=-76.4\n",
      "e=-43\n",
      "nsres=924.52244935\n",
      "ewres=710.89449752\n",
      "rows=5280\n",
      "cols=4008\n",
      "cells=21162240\n",
      "############# compute the flow accumulation using MFD for tile 1 ##############\n",
      "############# extract stream ##################\n",
      "projection=3\n",
      "zone=0\n",
      "n=1\n",
      "s=-38\n",
      "w=-73.9\n",
      "e=-34.6\n",
      "nsres=922.66504302\n",
      "ewres=826.93226998\n",
      "rows=4680\n",
      "cols=4716\n",
      "cells=22070880\n",
      "############# compute the flow accumulation using MFD for tile 2 ##############\n",
      "############# extract stream ##################\n",
      "projection=3\n",
      "zone=0\n",
      "n=12.7\n",
      "s=-24.5\n",
      "w=-81.7\n",
      "e=-41.7\n",
      "nsres=921.8619211\n",
      "ewres=872.86703289\n",
      "rows=4464\n",
      "cols=4800\n",
      "cells=21427200\n",
      "############# compute the flow accumulation using MFD for tile 3 ##############\n",
      "############# extract stream ##################\n"
     ]
    },
    {
     "name": "stderr",
     "output_type": "stream",
     "text": [
      "Starting GRASS GIS...\n",
      "Creating new GRASS GIS location <tmploc>...\n",
      "Cleaning up temporary files...\n",
      "\n",
      "          __________  ___   __________    _______________\n",
      "         / ____/ __ \\/   | / ___/ ___/   / ____/  _/ ___/\n",
      "        / / __/ /_/ / /| | \\__ \\\\_  \\   / / __ / / \\__ \\\n",
      "       / /_/ / _, _/ ___ |___/ /__/ /  / /_/ // / ___/ /\n",
      "       \\____/_/ |_/_/  |_/____/____/   \\____/___//____/\n",
      "\n",
      "Welcome to GRASS GIS 7.8.5\n",
      "GRASS GIS homepage:                      https://grass.osgeo.org\n",
      "This version running through:            Bash Shell (/bin/bash)\n",
      "Help is available with the command:      g.manual -i\n",
      "See the licence terms with:              g.version -c\n",
      "See citation options with:               g.version -x\n",
      "Start the GUI with:                      g.gui wxpython\n",
      "When ready to quit enter:                exit\n",
      "\n",
      "corrupted size vs. prev_size while consolidating\n",
      "/bin/bash: line 5: 15762 Aborted                 (core dumped) r.external input=geodata/dem/SA_elevation_mn_GMTED2010_mn_msk.tif output=elv --o --q\n",
      "/bin/bash: line 6: 15768 Segmentation fault      (core dumped) r.external input=geodata/dem/SA_all_dep_1km.tif output=dep --o --q\n",
      "double free or corruption (!prev)\n",
      "/bin/bash: line 7: 15775 Aborted                 (core dumped) r.external input=geodata/dem/SA_are_1km_msk.tif output=are --o --q\n",
      "free(): invalid pointer\n",
      "/bin/bash: line 8: 15781 Aborted                 (core dumped) r.external input=geodata/mask/msk_1km.tif output=msk --o --q\n",
      "free(): invalid pointer\n",
      "WARNING: Subprocess failed with exit code 6\n",
      "free(): invalid pointer\n",
      "/bin/bash: line 12: 15841 Aborted                 (core dumped) r.stream.extract elevation=elv accumulation=flow depression=dep threshold=8 direction=dir_rs stream_raster=stream memory=2000 --o --q\n",
      "WARNING: MASK already exists and will be overwritten\n",
      "free(): invalid pointer\n",
      "WARNING: Subprocess failed with exit code 6\n",
      "free(): invalid pointer\n",
      "/bin/bash: line 12: 16095 Aborted                 (core dumped) r.stream.extract elevation=elv accumulation=flow depression=dep threshold=8 direction=dir_rs stream_raster=stream memory=2000 --o --q\n",
      "WARNING: MASK already exists and will be overwritten\n",
      "free(): invalid pointer\n",
      "WARNING: Subprocess failed with exit code 6\n",
      "free(): invalid pointer\n",
      "/bin/bash: line 12: 16272 Aborted                 (core dumped) r.stream.extract elevation=elv accumulation=flow depression=dep threshold=8 direction=dir_rs stream_raster=stream memory=2000 --o --q\n",
      "WARNING: Failed to start shell '/bin/bash'\n",
      "Cleaning up temporary files...\n",
      "Done.\n",
      "\n",
      "Goodbye from GRASS GIS\n",
      "\n"
     ]
    }
   ],
   "source": [
    "%%bash\n",
    "\n",
    "cd /home/user/my_SE_data/exercise\n",
    "grass78  -f -text --tmp-location  -c  geodata/dem/SA_elevation_mn_GMTED2010_mn_msk.tif  <<'EOF'\n",
    "\n",
    "g.gisenv set=\"GRASS_VERBOSE=-1\",\"DEBUG=0\"\n",
    "\n",
    "## import the layers\n",
    "r.external input=geodata/dem/SA_elevation_mn_GMTED2010_mn_msk.tif output=elv --o --q # dem\n",
    "r.external input=geodata/dem/SA_all_dep_1km.tif                   output=dep --o --q # depression\n",
    "r.external input=geodata/dem/SA_are_1km_msk.tif                   output=are --o --q # area-pixel\n",
    "r.external input=geodata/mask/msk_1km.tif                         output=msk --o --q # land-ocean mask\n",
    "\n",
    "g.region  -m\n",
    "\n",
    "for tile in 1 2 3  ; do     # loop for each tile\n",
    "r.mask raster=msk --o --q   # usefull to mask the flow accumulation\n",
    "\n",
    "# extract tile extent from the  tilesComp.shp\n",
    "wL=$(ogrinfo -al -where  \" id  = '$tile' \" geodata/shp/tilesComp.shp | grep POLYGON | awk '{ gsub(/[(()),]/,\" \",$0 ); print $2 }')\n",
    "nL=$(ogrinfo -al -where  \" id  = '$tile' \" geodata/shp/tilesComp.shp | grep POLYGON | awk '{ gsub(/[(()),]/,\" \",$0 ); print $3 }')\n",
    "eL=$(ogrinfo -al -where  \" id  = '$tile' \" geodata/shp/tilesComp.shp | grep POLYGON | awk '{ gsub(/[(()),]/,\" \",$0 ); print $4 }')\n",
    "sL=$(ogrinfo -al -where  \" id  = '$tile' \" geodata/shp/tilesComp.shp | grep POLYGON | awk '{ gsub(/[(()),]/,\" \",$0 ); print $7 }')\n",
    "\n",
    "g.region w=$wL  n=$nL  s=$sL  e=$eL  res=0:00:30   --o\n",
    "g.region -m\n",
    "\n",
    "### maximum ram 66571M  for 2^63 -1   (2 147 483 647 cell)  / 1 000 000  * 31 M\n",
    "####  -m  Enable disk swap memory option: Operation is slow\n",
    "####  -b Beautify flat areas\n",
    "####   threshold=1  = ~1 km2 = 0.9  m2\n",
    "\n",
    "echo \"############# compute the flow accumulation using MFD for tile $tile ##############\"\n",
    "r.watershed  -b  elevation=elv  depression=dep  accumulation=flow drainage=dir_rw flow=are   memory=2000 --o --q\n",
    "\n",
    "echo \"############# extract stream ##################\"\n",
    "r.stream.extract elevation=elv accumulation=flow depression=dep threshold=8 direction=dir_rs stream_raster=stream  memory=2000 --o --q\n",
    "\n",
    "\n",
    "done\n",
    "\n",
    "EOF\n",
    "\n"
   ]
  },
  {
   "cell_type": "code",
   "execution_count": 2,
   "id": "df559b96-925e-4b8a-9df5-6a0484101fff",
   "metadata": {},
   "outputs": [],
   "source": [
    "import rasterio\n",
    "from rasterio.merge import merge\n",
    "from rasterio.plot import show\n",
    "import glob\n",
    "import os"
   ]
  },
  {
   "cell_type": "code",
   "execution_count": 11,
   "id": "ebcdf67b-721c-43a4-ba80-da195133de17",
   "metadata": {
    "tags": []
   },
   "outputs": [
    {
     "name": "stdout",
     "output_type": "stream",
     "text": [
      "/home/user/my_SE_data/exercise/geodata/dem/flow_*.tif\n"
     ]
    },
    {
     "data": {
      "image/png": "[encoded data removed]",
      "text/plain": [
       "<Figure size 432x288 with 1 Axes>"
      ]
     },
     "metadata": {
      "needs_background": "light"
     },
     "output_type": "display_data"
    }
   ],
   "source": [
    "#Creates the route to grab documents\n",
    "dirpath = r\"/home/user/my_SE_data/exercise/geodata/dem/\"\n",
    "out_fp = r\"/home/user/my_SE_data/exercise/geodata/dem/CurrentsLA.tif\"\n",
    "# Make a search criteria to select the DEM files\n",
    "search_criteria = \"flow_*.tif\"\n",
    "q = os.path.join(dirpath, search_criteria)\n",
    "print(q)\n",
    "#________________________________________________________________________________________#\n",
    "#________________________________________________________________________________________#\n",
    "#________________________________________________________________________________________#\n",
    "#Creates an array of objects to merge\n",
    "dem_fps = glob.glob(q)\n",
    "dem_fps\n",
    "#________________________________________________________________________________________#\n",
    "#________________________________________________________________________________________#\n",
    "#________________________________________________________________________________________#\n",
    "#Create a list of files to append\n",
    "src_files_to_mosaic = []\n",
    "for fp in dem_fps:\n",
    "    src = rasterio.open(fp)\n",
    "    src_files_to_mosaic.append(src)\n",
    "    \n",
    "mosaic, out_trans = merge(src_files_to_mosaic)\n",
    "show(mosaic, cmap='terrain')\n",
    "\n",
    "out_meta = src.meta.copy()\n",
    "out_meta.update({\"driver\": \"GTiff\",\n",
    "                    \"height\": mosaic.shape[1],\n",
    "                    \"width\": mosaic.shape[2],\n",
    "                    \"transform\": out_trans,\n",
    "                    \"crs\": \"epsg:4326\"\n",
    "                    }\n",
    "                    )\n"
   ]
  },
  {
   "cell_type": "code",
   "execution_count": 12,
   "id": "8f155582-8aec-46b6-ba2c-dabc43dcd3e0",
   "metadata": {},
   "outputs": [
    {
     "data": {
      "text/plain": [
       "[<open DatasetReader name='/home/user/my_SE_data/exercise/geodata/dem/flow_1.tif' mode='r'>,\n",
       " <open DatasetReader name='/home/user/my_SE_data/exercise/geodata/dem/flow_2.tif' mode='r'>,\n",
       " <open DatasetReader name='/home/user/my_SE_data/exercise/geodata/dem/flow_3.tif' mode='r'>]"
      ]
     },
     "execution_count": 12,
     "metadata": {},
     "output_type": "execute_result"
    }
   ],
   "source": [
    "src_files_to_mosaic\n"
   ]
  },
  {
   "cell_type": "code",
   "execution_count": 13,
   "id": "c822286f-1a88-4d40-ad05-7d811bcd8766",
   "metadata": {},
   "outputs": [],
   "source": [
    "with rasterio.open(out_fp, \"w\", **out_meta) as dest:\n",
    "    dest.write(mosaic)\n"
   ]
  },
  {
   "cell_type": "code",
   "execution_count": 3,
   "id": "05b4ff2f-9370-4ee6-98ba-aad6207cb685",
   "metadata": {},
   "outputs": [],
   "source": [
    "import rasterio\n",
    "import rasterio.plot\n",
    "import pyproj\n",
    "import numpy as np\n",
    "import matplotlib\n",
    "import matplotlib.pyplot as plt"
   ]
  },
  {
   "cell_type": "code",
   "execution_count": 32,
   "id": "e9a3ded8-3d98-4f00-8fce-7239390da94c",
   "metadata": {
    "tags": []
   },
   "outputs": [
    {
     "data": {
      "text/plain": [
       "Text(0, 0.5, 'Row #')"
      ]
     },
     "execution_count": 32,
     "metadata": {},
     "output_type": "execute_result"
    },
    {
     "data": {
      "image/png": "[encoded data removed]",
      "text/plain": [
       "<Figure size 432x720 with 2 Axes>"
      ]
     },
     "metadata": {
      "needs_background": "light"
     },
     "output_type": "display_data"
    }
   ],
   "source": [
    "window = rasterio.windows.Window(0, 200, 900, 1100)\n",
    "\n",
    "with rasterio.open('/home/user/my_SE_data/exercise/geodata/dem/CurrentsLA.tif') as src:\n",
    "    subset = src.read(1, window=window)\n",
    "\n",
    "plt.figure(figsize=(6,10))\n",
    "plt.imshow(subset)\n",
    "plt.colorbar(shrink=0.5)\n",
    "#plt.title(f'Band 4 Subset\\n{window}')\n",
    "plt.xlabel('Column #')\n",
    "plt.ylabel('Row #')"
   ]
  },
  {
   "cell_type": "code",
   "execution_count": null,
   "id": "4d010bf0-19e7-4140-b8d7-f16fcbb5439a",
   "metadata": {},
   "outputs": [],
   "source": []
  }
 ],
 "metadata": {
  "kernelspec": {
   "display_name": "Python 3 (ipykernel)",
   "language": "python",
   "name": "python3"
  },
  "language_info": {
   "codemirror_mode": {
    "name": "ipython",
    "version": 3
   },
   "file_extension": ".py",
   "mimetype": "text/x-python",
   "name": "python",
   "nbconvert_exporter": "python",
   "pygments_lexer": "ipython3",
   "version": "3.8.10"
  }
 },
 "nbformat": 4,
 "nbformat_minor": 5
}
